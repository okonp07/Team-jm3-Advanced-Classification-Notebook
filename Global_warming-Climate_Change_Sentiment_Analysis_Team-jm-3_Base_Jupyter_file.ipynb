{
 "cells": [
  {
   "cell_type": "markdown",
   "metadata": {},
   "source": [
    "<div align=\"center\" style=\"color: #000099\"> <h1><b>Climate Change Belief Analysis 2022</b></h1>\n",
    "    <h4> By </h4>\n",
    "    <h2>Datafluent Inc.</h2>\n",
    "</div>"
   ]
  },
  {
   "cell_type": "markdown",
   "metadata": {},
   "source": [
    "## About Datafluent Inc.\n",
    "In this era of `Information Technology (IT)`, the variety and quantity of data generated on a daily basis is unprecedented. Data, which is sometimes referred to as the new oil, holds invaluable insights that can make the world a better place and businesses with growth mindsets have started exploiting this invaluable resource to keep thriving in the business world.\n",
    "\n",
    "Behold **`Datafluent Inc.!`** We are an organisation that enjoys squeezing out every bit of actionable insights from a variety of raw facts and communicating such insights in digestible chunks to our stakeholders. We are a team of five seasoned professionals that excelled in various disciplines. \n",
    "\n",
    "## Meet the Team\n",
    "\n",
    "<div align=\"center\" style=\"width: 900px; font-size: 80%; text-align: center; margin: 0 auto\">\n",
    "<img src=\"https://github.com/okonp07/Team-jm3-Advanced-Classification-Base-Notebook/blob/main/The%20team.JPG\"\n",
    "     alt = \"The team\"\n",
    "     style=\"float: center; padding-bottom=0.5em\"\n",
    "     width=900px/>\n",
    "</div>\n",
    "\n",
    "## Project Overview\n",
    "Industrialization is the enabler of modern economic growth and development. However, this comes at the cost of emitting greenhouse gases that contribute, negatively, to climate change and ultimately global warming. Governments, eco-conscious organizations, and civil societies around the world are constantly exploring ways to reduce their carbon footprints. Despite many indices pointing towards climate change, many people are of the belief that climate change is a hoax. Datafluent Inc. is a corporate entity that specializes in mining out actionable insights from raw facts. In this project, we are contracted to use the novel tweets of some individuals to build various Machine Learning (ML) models to identify their beliefs about climate change. These models will be evaluated using the metrics: ***`accuracy, precision, recall, and F1-scores`*** to choose the optimal model. The optimal model’s outcome will help our client to predict how their eco-friendly products will be received by their prospective customers and thus enable them to make strategic business decisions.\n",
    "\n",
    "## Table of Contents\n",
    "<a href=#one>1.0 Introduction</a>\n",
    "- <a href=#1.1>1.1 Project Overview</a>\n",
    "- <a href=#1.2>1.2 Installing Dependencies and Importing Packages</a>\n",
    "- <a href=#1.3>1.3 Loading the Data</a>\n",
    "\n",
    "<a href=#two>2.0 Exploratory Data analysis</a>\n",
    "- <a href=#2.1>2.1 Data Wrangling</a>\n",
    "\n",
    "<a href=#three>3.0 Model Building and Evaluations</a>\n",
    "- <a href=#3.1>3.1 Train-test Split</a>\n",
    "- <a href=#3.2>3.2 Feature Selection</a>\n",
    "- <a href=#3.3>3.3 Model Building</a>\n",
    "- <a href=#3.4>3.4 Model Evaluation and Performance</a>\n",
    "- <a href=#3.5>3.5 Parameter Tunings</a>\n",
    "\n",
    "<a href=#four>4.0 Conclusion</a>\n",
    "\n",
    "<a href=#five>5.0 Submission</a>\n",
    "\n",
    "<a href=#six>References</a>\n",
    "\n",
    "<a id=\"one\"></a>"
   ]
  },
  {
   "cell_type": "markdown",
   "metadata": {},
   "source": [
    "<a id=\"one\"></a>\n",
    "# 1.0 Introduction\n",
    "Climate change is a big issue that needs serious attention and many eco-conscious organisations are exploring ways to build eco-friendly products. However, the populace is divided in their beliefs about climate change. **`Datafluent Inc.`** was hired by one such eco-conscious company to build a solution that determines the proportion of the population that believes in climate change. The information that the solution extracts will serve as a basis for the organisation strategic decision-making in building eco-friendly products. In this section, we are going to set the stage for our project on climate change belief analysis of about 16,000 tweets of some individuals. We will also explore the `Machine Learning (ML) tools` we will use in building the sentiment analysis model.\n",
    "\n",
    "## 1.1 Global Climate Change\n",
    "Global climate change refers to the average long-term change of climatic conditions over the entire earth. These include warming temperatures and changes in the precipitation as well as the effects of earth's warming such as:\n",
    "\n",
    "* rising sea levels\n",
    "* shrinking mountain glaciers\n",
    "* ice melting at a faster rate than usual in Greenland and Artic\n",
    "* wildfires\n",
    "* floods\n",
    "* droughts\n",
    "* famine\n",
    "* increasing desertification etc.\n",
    "\n",
    "There is a consensus in the scientific community that the earth has been getting warmer in the recent past and this has been linked to human activities, particularly the use of fossil fuels. The dangers of climate change spark debate among people, as we will see when exploring the tweets.  \n",
    "\n",
    "Earth’s climate has constantly been changing, even long before humans came into the picture. However, scientists have observed unusual changes recently. For example, Earth’s average temperature has been increasing much more quickly than they would expect over the past 150 years as shown in figure 1.1 below. According to scientists, the main human activities that contribute to climate change over the last century are the burning of fossil fuels like coal and oil as well as carbon pollution, which has increased the concentration of atmospheric carbon dioxide(CO2), which is a known greenhouse gas.\n",
    "<hr>\n",
    "<div align=\"center\" style=\"width: 500px; font-size: 80%; text-align: center; margin: 0 auto\">\n",
    "<img src=\"World_Climate_Change_Chart.png\"\n",
    "     alt=\"Dummy image 1\"\n",
    "     style=\"float: center; padding-bottom=0.5em\"\n",
    "     width=900px/>|\n",
    "    <div align=\"center\">Figure 1.1: World Climate Change Chart</div>\n",
    " </div>\n",
    "\n",
    "## 1.2 Sentiment Analysis\n",
    "Sentiment analysis is a way of using natural language processing (NLP) and ML tools in identifying opinions expressed in texts. These opinions can be classified as positive (scored as 1), negative (scored as -1), or neutral (scored as 0). Sentiment analysis is important to businesses because it can reveal insights that can be used in improving sales, customer retention, timely problem identification, evaluating customers’ product perceptions, and exploring business opportunities.\n",
    "\n",
    "In this regard, people can be classified into three based on their perceptions about the causes of climate change. Thus,\n",
    "1. Pro-sentiment class: they believe that humans contribute to climate change\n",
    "2. Anti-sentiment class: these are those who do not believe in climate change and those that don’t believe that humans contribute to climate change\n",
    "3. Neutral class: these are those who take a neutral stand on the matter, displaying no strong positive or negative sentiment.\n",
    "\n",
    "### *1.2.1 Techniques of sentiment analysis*\n",
    "Sentiment analysis can be realized in two ways: rule-based and ML sentiment analysis. In rule-based analysis, manual NLP rules like lexicons (lists of words), stemming, tokenization, and parsing are used to simplify complex texts for computers to easily decipher opinions. Whereas, in ML sentiment analysis classification techniques like Naive Bayes, Logistic Regression, Support Vector Machines, Linear Regression, and Deep Learning are used to classify the contextual opinions.\n",
    "\n",
    "Quality insights are key to data-driven decision-making. At **`Datafluent Inc.`** we strongly believe in extracting only quality insights. Thus, we are going to analyze the given dataset thoroughly using both rule-based and ML techniques of sentiment analysis. This will ensure that no insight is left unturned in informing the decision-making process of our **`esteemed clients.`**\n",
    "\n",
    "## 1.3 Classification Techniques\n",
    "We are going to explore the dataset using the following models, compare them and choose the best amongst them.\n",
    "- Decision Tree Classifier\n",
    "- Random Forest Classifier\n",
    "- Linear Support Vector Classifier (LinearSVC)\n",
    "- Support Vector Classifier (SVC)\n",
    "- Logistic Regression\n",
    "- Stochastic Gradient Descent (SGD)\n",
    "\n",
    "### *1.3.1 Decision tree classifier*\n",
    "Decision Trees (DTs) are non-parametric supervised learning methods used for classification and regression. Decision trees learn from data to approximate a sine curve with a set of if-then-else decision rules as illustrated in figure 1.2 below. The deeper the tree, the more complex the decision rules, and the fitter the model.\n",
    "\n",
    "<div align=\"center\" style=\"width: 500px; font-size: 80%; text-align: center; margin: 0 auto\">\n",
    "<img src=\"http://www.wordtemplatesdocs.org/wp-content/uploads/2017/11/Decision-Tree-template-free-00004.jpg\"\n",
    "     alt=\"Decision Tree\"\n",
    "     style=\"float: center; padding-bottom=0.5em\"\n",
    "     width=900px/>\n",
    "    <div align=\"center\">Figure 1.2: Decision Tree</div>\n",
    " </div>\n",
    "\n",
    "A decision tree builds classification or regression models in the form of a tree structure. It breaks down data by partitioning it into subsets after each decision while at the same time an associated decision tree is incrementally developed. The final result is a tree with decision nodes and leaf nodes. A decision node has two or more branches. A leaf node represents a classification or decision. The topmost decision node in a tree that corresponds to the best predictor is called the root node. Decision trees can handle both categorical and numerical data.\n",
    "\n",
    "Decision trees are prone to overfitting. Overfitting happens when the learning algorithm continues to develop hypotheses that reduce training set error at the cost of an increased test set error; One method to tackle overfitting in decision trees is by pruning. \n",
    "\n",
    "There are several approaches used to avoid overfitting in building decision trees namely,\n",
    "- Pre-pruning stops growing the tree earlier, before it perfectly classifies the training set.\n",
    "- Post-pruning allows the tree to perfectly classify the training set, and then post-prune the tree. \n",
    "Practically, the second approach of post-pruning overfits trees is more successful because it is not easy to precisely estimate when to stop growing the tree.\n",
    "\n",
    "Decision Trees are building blocks for the next machine learning method we will look into, which is the Random Forest Classifier\n",
    "\n",
    "### *1.3.2 Random Forest Classifier*\n",
    "Random forest classifier is a Supervised Machine Learning Algorithm that is used widely in classification problems. It builds decision trees on different samples and takes their majority vote for classification. It is said that the more trees it has, the more robust a forest is. Unlike decision trees Random Forest prevents overfitting by creating trees on random subsets .\n",
    "\n",
    "The Random Forest algorithm works in four steps as follows:\n",
    "1. select a number of random samples from a given dataset\n",
    "2. construct a decision tree for each sample and get a prediction result from each decision tree\n",
    "3. perform a vote for each predicted result\n",
    "4. select the prediction result with the most votes as the final prediction.\n",
    "\n",
    "Random Forest Classifier is illustrated in figure 1.3 below:\n",
    "\n",
    "<div align=\"center\" style=\"width: 500px; font-size: 80%; text-align: center; margin: 0 auto\">\n",
    "<img src=\"https://www.freecodecamp.org/news/content/images/2020/08/how-random-forest-classifier-work.PNG\"\n",
    "     alt=\"Decision Tree\"\n",
    "     style=\"float: center; padding-bottom=0.5em\"\n",
    "     width=900px/>\n",
    "    <div align=\"center\">Figure 1.3: Random Forest Classifier</div>\n",
    " </div>\n",
    "\n",
    "### *1.3.3 Support Vector Machine (SVM)*\n",
    "Support Vector Machine (SVM) is a linear model that can be used for classification problems. The objective of a Linear SVC (Support Vector Classifier) is to fit to the data you provide, returning a \"best fit\" hyperplane that divides, or categorizes, your data. After getting the hyperplane, you can then feed some features to your classifier to see what the \"predicted\" class is. It can solve linear and non-linear problems and works well for many practical problems. The idea of SVM is simple: The algorithm creates a line or a hyperplane which separates the data into classes as seen in the figure 1.4 below:\n",
    "\n",
    "\n",
    "<div align=\"center\" style=\"width: 500px; font-size: 80%; text-align: center; margin: 0 auto\">\n",
    "<img src=\"https://pythonmachinelearning.pro/wp-content/uploads/2017/10/SVM-RBF-Iris.png\"\n",
    "     alt=\"Decision Tree\"\n",
    "     style=\"float: center; padding-bottom=0.5em\"\n",
    "     width=900px/>\n",
    "    <div align=\"center\">Figure 1.4: Support Vector Machine</div>\n",
    " </div>\n",
    " \n",
    "In the above example, the data is classified into categories that are represented by the blue, white and red class in line with pre-determined conditions stipulated by the SVM algorithm once that is completed, the data is sorted into classes as the final output."
   ]
  },
  {
   "cell_type": "markdown",
   "metadata": {},
   "source": [
    "# Context of the Problem\n",
    "\n",
    "    \n",
    "Sentiment analysis refers to the use of natural language processing, text analysis, computational linguistics, and biometrics to systematically identify, extract, quantify, and study affective states and subjective information.\n",
    " |\n",
    "![twitter-bird-animated-logo.gif?w=300&zoom=2](https://dropnerblog.files.wordpress.com/2019/12/twitter-bird-animated-logo.gif?w=300&zoom=2)\n",
    "    \n",
    "## Context of the Problem\n",
    "Companies are constructed around lessening one's environmental impact or carbon footprint. They offer products and services that are environmentally friendly and sustainable, in line with their values and ideals. They would like to determine how people perceive climate change and whether or not they believe it is a real threat. Before a company begins to develop products for a segment of the population that believes in climate change and the effects of climate change on the environment and world, it is logical for such a company to first establish the existence of such demography. Even when it is clear that a section of the population indeed believes that there is a threat of environmental change, we must assess such factors as how much of a threat they believe climate change is. How far they may be willing to go to protect the environment and how passionate they are about supporting the efforts of others to fight climate change.\n",
    "\n",
    "In this experiment, we aim to explore machine learning as a method to assist us in identifying whether or not a person believes in climate change and ascertain if such a person could be converted to a new customer based on their tweets. We will develop ML models that are capable of classifying tweets leaning positively towards a belief that Climate change is a problem and hence desirous of proferring a solution to this problem or leaning negatively towards that belief, hence treating climatic change as no threat. To produce these models, we must first select an appropriate set of data for training that has been annotated. Then, we pre-process and clean these data, to enable us to generate a feature and target set from them. We will then select relevant ML models, on which to train these datasets and evaluate their performance. Model evaluation is done by comparing model predictions against data that have been annotated but not used for training. Once a satisfactory performance of the model has been achieved, we interpret the patterns learned and apply them for further decision-making in the context of the experiment.\n",
    "\n",
    "<div align=\"center\" style=\"width: 950px; font-size: 80%; text-align: center; margin: 0 auto\">\n",
    "<img src=\"https://www.itu.int/en/mediacentre/backgrounders/PublishingImages/climate-change-backgrounder.jpg\"\n",
    "     alt=\"Dummy image 1\"\n",
    "     style=\"float: center; padding-bottom=0.5em\"\n",
    "     width=950px/>\n",
    "    </div>\n",
    "\n",
    "    ### Problem Statement\n",
    "    Create a Natural Language Processing model to classify whether or not a person believes in climate change, based on their novel tweet data.\n",
    "    \n",
    "    ## Comet ML as a tool for Data Science\n",
    "   <a id=\"comet\"></a>\n",
    "# Comet ML as a tool for Data Science\n",
    "<img src=\"https://d15shllkswkct0.cloudfront.net/wp-content/blogs.dir/1/files/2021/11/cometml.png\" width=\"1000\" alt=\"Drawing\" style=\"width: 1000px;\"/>\n",
    "We will be using Comet to facilitate the model building process as well as a form of version control throughout the development of our model. To begin, we will first install the dependency that allows comet ML to integrate with our notebook and log all changes in our ML model as independent experiments in our comet account. This will allow us to have different versions of our model and will be really helpful in assessing the different properties and functionality of our model versions. This process is done in 3 distinct phases, Pip installation, importation of the experiment, and linking our notebook with our comet account. These processes are completed in the next three cells."
   ]
  },
  {
   "cell_type": "markdown",
   "metadata": {},
   "source": [
    "\n"
   ]
  },
  {
   "cell_type": "markdown",
   "metadata": {},
   "source": [
    "<a id=\"1.12\"></a>\n",
    "# 2.0 Preprocessing and Exploratory Data Analysis (EDA)\n",
    "In this section, we are going to build and evaluate several ML models and select the best amongst them.\n",
    "## 2.1 Installing Dependencies and Importing Packages\n",
    "In order to successfully build the models, there is a need to pip install some dependencies. Thus, we install the *autotime library, Comet, imblearn, and nltk.*"
   ]
  },
  {
   "cell_type": "code",
   "execution_count": null,
   "metadata": {},
   "outputs": [],
   "source": [
    "# install comet\n",
    "!pip install comet_ml\n",
    "\n",
    "# importing experiment from Comet\n",
    "from comet_ml import Experiment"
   ]
  },
  {
   "cell_type": "code",
   "execution_count": null,
   "metadata": {},
   "outputs": [],
   "source": [
    "nltk.download('omw-1.4')"
   ]
  },
  {
   "cell_type": "code",
   "execution_count": null,
   "metadata": {},
   "outputs": [],
   "source": [
    "# Link your current workspace and create an experiment in comet with our api key:\n",
    "experiment = Experiment(\n",
    "    api_key=\"9smvwfgsHqWuSsKKueLCtsiBz\",\n",
    "    project_name=\"global-warming-climate-change-sentiment-analysis-team-jm3\",\n",
    "    workspace=\"okonp07\",\n",
    ")"
   ]
  },
  {
   "cell_type": "code",
   "execution_count": null,
   "metadata": {},
   "outputs": [],
   "source": [
    "# installations\n",
    "!pip install parfit\n",
    "!pip install scikit-plot\n",
    "!pip install contractions\n",
    "!pip install -U textblob\n",
    "!pip install pillow"
   ]
  },
  {
   "cell_type": "code",
   "execution_count": 1,
   "metadata": {},
   "outputs": [],
   "source": [
    "# imports for Natural Language  Processing\n",
    "import pandas as pd\n",
    "import numpy as np\n",
    "import nltk\n",
    "import string\n",
    "import re\n",
    "from sklearn.pipeline import Pipeline\n",
    "import pickle\n",
    "\n",
    "# imports for feature extractioin\n",
    "from sklearn.feature_extraction.text import CountVectorizer\n",
    "from sklearn.feature_extraction.text import TfidfVectorizer\n",
    "\n",
    "# imports for preprocessing\n",
    "import contractions\n",
    "from collections import Counter\n",
    "from nltk.corpus import wordnet\n",
    "from nltk.corpus import stopwords\n",
    "from nltk.stem import WordNetLemmatizer\n",
    "from nltk.tokenize import word_tokenize\n",
    "from nltk.tokenize import TweetTokenizer\n",
    "from sklearn.preprocessing import label_binarize\n",
    "from sklearn.model_selection import train_test_split\n",
    "from nltk.probability import FreqDist\n",
    "#from wordcloud import WordCloud, ImageColorGenerator\n",
    "from PIL import Image\n",
    "from textblob import TextBlob\n",
    "\n",
    "# imports for classification models\n",
    "from sklearn.svm import SVC\n",
    "from sklearn.svm import LinearSVC\n",
    "from sklearn.ensemble import VotingClassifier\n",
    "from sklearn.linear_model import SGDClassifier\n",
    "from sklearn.tree import DecisionTreeClassifier\n",
    "from sklearn.multiclass import OneVsRestClassifier\n",
    "from sklearn.linear_model import LogisticRegression\n",
    "from sklearn.ensemble import RandomForestClassifier\n",
    "\n",
    "# imports for hyperparameter tunning\n",
    "import parfit.parfit as pf\n",
    "from sklearn.model_selection import GridSearchCV\n",
    "from sklearn.model_selection import ParameterGrid\n",
    "\n",
    "# imports for metrics\n",
    "from sklearn.metrics import f1_score\n",
    "from sklearn.metrics import roc_auc_score\n",
    "from sklearn.metrics import accuracy_score\n",
    "from sklearn.metrics import confusion_matrix\n",
    "from sklearn.metrics import classification_report\n",
    "\n",
    "# imports for data visualisation\n",
    "import seaborn as sns\n",
    "from scipy import stats\n",
    "import matplotlib.pyplot as plt\n",
    "from sklearn.metrics import plot_roc_curve\n",
    "from scikitplot.metrics import plot_roc, plot_confusion_matrix\n",
    "%matplotlib inline"
   ]
  },
  {
   "cell_type": "code",
   "execution_count": 2,
   "metadata": {},
   "outputs": [],
   "source": [
    "pip install wordcloud"
   ]
  },
  {
   "cell_type": "markdown",
   "metadata": {},
   "source": [
    "### 2.2.1 Load and view the data\n",
    "In this section, we are going to load the test and train datasets and view a snapshot of them to verify they are loaded correctly. We will also copy the datasets so that we can revert back to them in case of problems."
   ]
  },
  {
   "cell_type": "code",
   "execution_count": 3,
   "metadata": {},
   "outputs": [],
   "source": [
    "# importing the train & test datasets\n",
    "train = pd.read_csv('train.csv')\n",
    "test = pd.read_csv('test_with_no_labels.csv')\n",
    "\n",
    "# create copies for modelling\n",
    "train_df = train.copy()\n",
    "test_df = test.copy()"
   ]
  },
  {
   "cell_type": "code",
   "execution_count": 4,
   "metadata": {},
   "outputs": [
    {
     "data": {
      "text/html": [
       "<div>\n",
       "<style scoped>\n",
       "    .dataframe tbody tr th:only-of-type {\n",
       "        vertical-align: middle;\n",
       "    }\n",
       "\n",
       "    .dataframe tbody tr th {\n",
       "        vertical-align: top;\n",
       "    }\n",
       "\n",
       "    .dataframe thead th {\n",
       "        text-align: right;\n",
       "    }\n",
       "</style>\n",
       "<table border=\"1\" class=\"dataframe\">\n",
       "  <thead>\n",
       "    <tr style=\"text-align: right;\">\n",
       "      <th></th>\n",
       "      <th>sentiment</th>\n",
       "      <th>message</th>\n",
       "      <th>tweetid</th>\n",
       "    </tr>\n",
       "  </thead>\n",
       "  <tbody>\n",
       "    <tr>\n",
       "      <th>0</th>\n",
       "      <td>1</td>\n",
       "      <td>PolySciMajor EPA chief doesn't think carbon di...</td>\n",
       "      <td>625221</td>\n",
       "    </tr>\n",
       "    <tr>\n",
       "      <th>1</th>\n",
       "      <td>1</td>\n",
       "      <td>It's not like we lack evidence of anthropogeni...</td>\n",
       "      <td>126103</td>\n",
       "    </tr>\n",
       "    <tr>\n",
       "      <th>2</th>\n",
       "      <td>2</td>\n",
       "      <td>RT @RawStory: Researchers say we have three ye...</td>\n",
       "      <td>698562</td>\n",
       "    </tr>\n",
       "    <tr>\n",
       "      <th>3</th>\n",
       "      <td>1</td>\n",
       "      <td>#TodayinMaker# WIRED : 2016 was a pivotal year...</td>\n",
       "      <td>573736</td>\n",
       "    </tr>\n",
       "    <tr>\n",
       "      <th>4</th>\n",
       "      <td>1</td>\n",
       "      <td>RT @SoyNovioDeTodas: It's 2016, and a racist, ...</td>\n",
       "      <td>466954</td>\n",
       "    </tr>\n",
       "  </tbody>\n",
       "</table>\n",
       "</div>"
      ],
      "text/plain": [
       "   sentiment                                            message  tweetid\n",
       "0          1  PolySciMajor EPA chief doesn't think carbon di...   625221\n",
       "1          1  It's not like we lack evidence of anthropogeni...   126103\n",
       "2          2  RT @RawStory: Researchers say we have three ye...   698562\n",
       "3          1  #TodayinMaker# WIRED : 2016 was a pivotal year...   573736\n",
       "4          1  RT @SoyNovioDeTodas: It's 2016, and a racist, ...   466954"
      ]
     },
     "execution_count": 4,
     "metadata": {},
     "output_type": "execute_result"
    }
   ],
   "source": [
    "# check to be sure that the train data was properly imported as a pandas dataframe\n",
    "train_df.head()"
   ]
  },
  {
   "cell_type": "code",
   "execution_count": 5,
   "metadata": {},
   "outputs": [
    {
     "data": {
      "text/html": [
       "<div>\n",
       "<style scoped>\n",
       "    .dataframe tbody tr th:only-of-type {\n",
       "        vertical-align: middle;\n",
       "    }\n",
       "\n",
       "    .dataframe tbody tr th {\n",
       "        vertical-align: top;\n",
       "    }\n",
       "\n",
       "    .dataframe thead th {\n",
       "        text-align: right;\n",
       "    }\n",
       "</style>\n",
       "<table border=\"1\" class=\"dataframe\">\n",
       "  <thead>\n",
       "    <tr style=\"text-align: right;\">\n",
       "      <th></th>\n",
       "      <th>message</th>\n",
       "      <th>tweetid</th>\n",
       "    </tr>\n",
       "  </thead>\n",
       "  <tbody>\n",
       "    <tr>\n",
       "      <th>0</th>\n",
       "      <td>Europe will now be looking to China to make su...</td>\n",
       "      <td>169760</td>\n",
       "    </tr>\n",
       "    <tr>\n",
       "      <th>1</th>\n",
       "      <td>Combine this with the polling of staffers re c...</td>\n",
       "      <td>35326</td>\n",
       "    </tr>\n",
       "    <tr>\n",
       "      <th>2</th>\n",
       "      <td>The scary, unimpeachable evidence that climate...</td>\n",
       "      <td>224985</td>\n",
       "    </tr>\n",
       "    <tr>\n",
       "      <th>3</th>\n",
       "      <td>@Karoli @morgfair @OsborneInk @dailykos \\nPuti...</td>\n",
       "      <td>476263</td>\n",
       "    </tr>\n",
       "    <tr>\n",
       "      <th>4</th>\n",
       "      <td>RT @FakeWillMoore: 'Female orgasms cause globa...</td>\n",
       "      <td>872928</td>\n",
       "    </tr>\n",
       "  </tbody>\n",
       "</table>\n",
       "</div>"
      ],
      "text/plain": [
       "                                             message  tweetid\n",
       "0  Europe will now be looking to China to make su...   169760\n",
       "1  Combine this with the polling of staffers re c...    35326\n",
       "2  The scary, unimpeachable evidence that climate...   224985\n",
       "3  @Karoli @morgfair @OsborneInk @dailykos \\nPuti...   476263\n",
       "4  RT @FakeWillMoore: 'Female orgasms cause globa...   872928"
      ]
     },
     "execution_count": 5,
     "metadata": {},
     "output_type": "execute_result"
    }
   ],
   "source": [
    "# check to be sure that the test data was properly imported as a pandas dataframe\n",
    "test.head()"
   ]
  },
  {
   "cell_type": "markdown",
   "metadata": {},
   "source": [
    "**Checking the shape of the dataset**\n",
    "\n",
    "The shape of the data tells you the number of rows and columns that exists in a particular dataframe. In the next cell, we will examine the number of rows and columns present in the train and test data."
   ]
  },
  {
   "cell_type": "code",
   "execution_count": 6,
   "metadata": {},
   "outputs": [
    {
     "data": {
      "text/plain": [
       "((15819, 3), (10546, 2))"
      ]
     },
     "execution_count": 6,
     "metadata": {},
     "output_type": "execute_result"
    }
   ],
   "source": [
    "# check the number of rows and columns in the datasets\n",
    "train_df.shape, test_df.shape"
   ]
  },
  {
   "cell_type": "markdown",
   "metadata": {},
   "source": [
    "In the next two cells, we will check the proportion of the entire dataset that is commited to the train and test set. We can establish this by checking the percentage of the entire data that is reserved as the train data and the proportion that is reserved as the test data."
   ]
  },
  {
   "cell_type": "code",
   "execution_count": 7,
   "metadata": {},
   "outputs": [
    {
     "data": {
      "text/plain": [
       "60.0"
      ]
     },
     "execution_count": 7,
     "metadata": {},
     "output_type": "execute_result"
    }
   ],
   "source": [
    "# Check the percentage of the data committed as the train set\n",
    "((15819)/(15819+10546)) * 100"
   ]
  },
  {
   "cell_type": "code",
   "execution_count": 8,
   "metadata": {},
   "outputs": [
    {
     "data": {
      "text/plain": [
       "40.0"
      ]
     },
     "execution_count": 8,
     "metadata": {},
     "output_type": "execute_result"
    }
   ],
   "source": [
    "# Check the percentage of the data committed as the test set\n",
    "((10546)/(15819+10546)) * 100"
   ]
  },
  {
   "cell_type": "markdown",
   "metadata": {},
   "source": [
    "The train data sets shape shows that there are 15819 rows and 3 columns in the train data. The columns are identified as `sentiment`, `message`, and `tweetid`. The test data has 10,546 rows and 2 columns. The columns in the test data set are identified as `message` and `tweetid`. The target (that is the variable that our model seeks to predict) can therefore be identified as the `Sentiment` value. This is why it is only present in the train set. In the course of the development of our model, we will use the \"message\" and the \"tweetid\" columns to engineer the features that will be used to predict the `Sentiment` of every tweet in the test data set.\n",
    "\n",
    "### 2.2.2 Data Preprocessing\n",
    "Usually, when data is collected in the real world, it comes with a lot of \"impurities\". Some data would come in formats that are different from the format that the data scientist desires, there may be null values, unrecognizable characters present in the data, etc. Data pre-processing refers to the process of removing these impurities from the data and taking the necessary steps to ensure that the data is in a state that will give clear and interpretable insights and also at its best to be used for the process of ML models. The process of Data pre-processing involves searching for these possible errors in your data and fixing them. "
   ]
  },
  {
   "cell_type": "code",
   "execution_count": 9,
   "metadata": {},
   "outputs": [
    {
     "name": "stdout",
     "output_type": "stream",
     "text": [
      "<class 'pandas.core.frame.DataFrame'>\n",
      "RangeIndex: 15819 entries, 0 to 15818\n",
      "Data columns (total 3 columns):\n",
      " #   Column     Non-Null Count  Dtype \n",
      "---  ------     --------------  ----- \n",
      " 0   sentiment  15819 non-null  int64 \n",
      " 1   message    15819 non-null  object\n",
      " 2   tweetid    15819 non-null  int64 \n",
      "dtypes: int64(2), object(1)\n",
      "memory usage: 370.9+ KB\n"
     ]
    }
   ],
   "source": [
    "# cheching if there are missing values in the train dataset\n",
    "train_df.info()"
   ]
  },
  {
   "cell_type": "code",
   "execution_count": 10,
   "metadata": {},
   "outputs": [
    {
     "name": "stdout",
     "output_type": "stream",
     "text": [
      "<class 'pandas.core.frame.DataFrame'>\n",
      "RangeIndex: 10546 entries, 0 to 10545\n",
      "Data columns (total 2 columns):\n",
      " #   Column   Non-Null Count  Dtype \n",
      "---  ------   --------------  ----- \n",
      " 0   message  10546 non-null  object\n",
      " 1   tweetid  10546 non-null  int64 \n",
      "dtypes: int64(1), object(1)\n",
      "memory usage: 164.9+ KB\n"
     ]
    }
   ],
   "source": [
    "# checking if there are missing values in the Test dataset\n",
    "test_df.info()"
   ]
  },
  {
   "cell_type": "markdown",
   "metadata": {},
   "source": [
    "We can observe that both the train and the test datasets are devoid of nulls."
   ]
  },
  {
   "cell_type": "markdown",
   "metadata": {},
   "source": [
    "### 2.2.3 Prepare a function for Parts of Speech for modelling\n",
    "\n",
    "A Part-of-speech (POS) in ML modeling is a grammatical classification that commonly includes verbs (\"v\"), adjectives (\"a\"), adverbs(\"r\"), nouns(\"n\"), etc. POS tagging is an important natural language processing application used in machine translation, word sense disambiguation, question answering parsing, and so on. In the cell below, we write a function that extracts the parts of speech from a parsed entry."
   ]
  },
  {
   "cell_type": "code",
   "execution_count": 11,
   "metadata": {},
   "outputs": [],
   "source": [
    "def POS(word):\n",
    "    \"\"\"\n",
    "    This function gets the part of speech\n",
    "    \"\"\"\n",
    "    pos_counts = Counter()\n",
    "    probable_part_of_speech = wordnet.synsets(word)\n",
    "    pos_counts[\"n\"] = len([i for i in probable_part_of_speech if i.pos()==\"n\"])\n",
    "    pos_counts[\"v\"] = len([i for i in probable_part_of_speech if i.pos()==\"v\"])\n",
    "    pos_counts[\"a\"] = len([i for i in probable_part_of_speech if i.pos()==\"a\"])\n",
    "    pos_counts[\"r\"] = len([i for i in probable_part_of_speech if i.pos()==\"r\"])\n",
    "    part_of_speech = pos_counts.most_common(1)[0][0]\n",
    "    return part_of_speech"
   ]
  },
  {
   "cell_type": "markdown",
   "metadata": {},
   "source": [
    "### 2.2.4 Extract useful data\n",
    "\n",
    "The function below will generate new features from the dataset that will be useful in revealing more insights from the data. The function will also extract hashtags from the \"message\" column and place them in a new column called \"hashtags\". It will also extract mentions (where the tweet contains @mentions) and place them in a column called \"mentions\" and lastly, it will extract URLs where they are referenced and place them in a column called \"url\"."
   ]
  },
  {
   "cell_type": "code",
   "execution_count": 12,
   "metadata": {},
   "outputs": [],
   "source": [
    "def extractor(df):\n",
    "    \"\"\"\" \n",
    "        Returns a DataFrame with three additional columns: \n",
    "        \"hashtags\", \"mentions\" and \"url\"\n",
    "         Args:\n",
    "             DataFrame: DateFrame with Data,Index and Colums\n",
    "        Return:\n",
    "             DataFrame: A DataFrame with additional columns with data\n",
    "        Egs:\n",
    "             df['new colum'] = col_name\n",
    "    \"\"\"\n",
    "    # extract hashtags\n",
    "    tweets = df['message'] \n",
    "    df['hashtags'] = df.message.str.lower().str.findall(r'#.*?(?=\\s|$)') \n",
    "    htags = df['hashtags']\n",
    "    df['hashtags'] = htags.apply(lambda x: np.nan if len(x) == 0 else x)\n",
    "    \n",
    "    # extract mentions\n",
    "    df['mentions'] = df.message.str.lower().str.findall(r'@\\w*')\n",
    "    mtags = df['mentions']\n",
    "    df['mentions'] = mtags.apply(lambda x: np.nan if len(x) == 0 else x)\n",
    "    \n",
    "    # extract url\n",
    "    df['url'] = df.message. str.lower().str.findall(r'http\\S+|www.\\S+')\n",
    "    urltags = df['url']\n",
    "    df['url'] = urltags.apply(lambda x: np.nan if len(x) == 0 else x)\n",
    "    \n",
    "    return df"
   ]
  },
  {
   "cell_type": "code",
   "execution_count": 13,
   "metadata": {},
   "outputs": [
    {
     "data": {
      "text/html": [
       "<div>\n",
       "<style scoped>\n",
       "    .dataframe tbody tr th:only-of-type {\n",
       "        vertical-align: middle;\n",
       "    }\n",
       "\n",
       "    .dataframe tbody tr th {\n",
       "        vertical-align: top;\n",
       "    }\n",
       "\n",
       "    .dataframe thead th {\n",
       "        text-align: right;\n",
       "    }\n",
       "</style>\n",
       "<table border=\"1\" class=\"dataframe\">\n",
       "  <thead>\n",
       "    <tr style=\"text-align: right;\">\n",
       "      <th></th>\n",
       "      <th>sentiment</th>\n",
       "      <th>message</th>\n",
       "      <th>tweetid</th>\n",
       "      <th>hashtags</th>\n",
       "      <th>mentions</th>\n",
       "      <th>url</th>\n",
       "    </tr>\n",
       "  </thead>\n",
       "  <tbody>\n",
       "    <tr>\n",
       "      <th>0</th>\n",
       "      <td>1</td>\n",
       "      <td>PolySciMajor EPA chief doesn't think carbon di...</td>\n",
       "      <td>625221</td>\n",
       "      <td>NaN</td>\n",
       "      <td>[@mashable]</td>\n",
       "      <td>[https://t.co/yelvcefxkc]</td>\n",
       "    </tr>\n",
       "    <tr>\n",
       "      <th>1</th>\n",
       "      <td>1</td>\n",
       "      <td>It's not like we lack evidence of anthropogeni...</td>\n",
       "      <td>126103</td>\n",
       "      <td>NaN</td>\n",
       "      <td>NaN</td>\n",
       "      <td>NaN</td>\n",
       "    </tr>\n",
       "    <tr>\n",
       "      <th>2</th>\n",
       "      <td>2</td>\n",
       "      <td>RT @RawStory: Researchers say we have three ye...</td>\n",
       "      <td>698562</td>\n",
       "      <td>NaN</td>\n",
       "      <td>[@rawstory]</td>\n",
       "      <td>[https://t.co/wdt0kdur2f, https://t.co/z0anpt…]</td>\n",
       "    </tr>\n",
       "    <tr>\n",
       "      <th>3</th>\n",
       "      <td>1</td>\n",
       "      <td>#TodayinMaker# WIRED : 2016 was a pivotal year...</td>\n",
       "      <td>573736</td>\n",
       "      <td>[#todayinmaker#]</td>\n",
       "      <td>NaN</td>\n",
       "      <td>[https://t.co/44wotxtlcd]</td>\n",
       "    </tr>\n",
       "    <tr>\n",
       "      <th>4</th>\n",
       "      <td>1</td>\n",
       "      <td>RT @SoyNovioDeTodas: It's 2016, and a racist, ...</td>\n",
       "      <td>466954</td>\n",
       "      <td>[#electionnight]</td>\n",
       "      <td>[@soynoviodetodas]</td>\n",
       "      <td>NaN</td>\n",
       "    </tr>\n",
       "  </tbody>\n",
       "</table>\n",
       "</div>"
      ],
      "text/plain": [
       "   sentiment                                            message  tweetid  \\\n",
       "0          1  PolySciMajor EPA chief doesn't think carbon di...   625221   \n",
       "1          1  It's not like we lack evidence of anthropogeni...   126103   \n",
       "2          2  RT @RawStory: Researchers say we have three ye...   698562   \n",
       "3          1  #TodayinMaker# WIRED : 2016 was a pivotal year...   573736   \n",
       "4          1  RT @SoyNovioDeTodas: It's 2016, and a racist, ...   466954   \n",
       "\n",
       "           hashtags            mentions  \\\n",
       "0               NaN         [@mashable]   \n",
       "1               NaN                 NaN   \n",
       "2               NaN         [@rawstory]   \n",
       "3  [#todayinmaker#]                 NaN   \n",
       "4  [#electionnight]  [@soynoviodetodas]   \n",
       "\n",
       "                                               url  \n",
       "0                        [https://t.co/yelvcefxkc]  \n",
       "1                                              NaN  \n",
       "2  [https://t.co/wdt0kdur2f, https://t.co/z0anpt…]  \n",
       "3                        [https://t.co/44wotxtlcd]  \n",
       "4                                              NaN  "
      ]
     },
     "execution_count": 13,
     "metadata": {},
     "output_type": "execute_result"
    }
   ],
   "source": [
    "# testing the function\n",
    "extractor(train_df).head()"
   ]
  },
  {
   "cell_type": "code",
   "execution_count": 14,
   "metadata": {},
   "outputs": [
    {
     "data": {
      "text/html": [
       "<div>\n",
       "<style scoped>\n",
       "    .dataframe tbody tr th:only-of-type {\n",
       "        vertical-align: middle;\n",
       "    }\n",
       "\n",
       "    .dataframe tbody tr th {\n",
       "        vertical-align: top;\n",
       "    }\n",
       "\n",
       "    .dataframe thead th {\n",
       "        text-align: right;\n",
       "    }\n",
       "</style>\n",
       "<table border=\"1\" class=\"dataframe\">\n",
       "  <thead>\n",
       "    <tr style=\"text-align: right;\">\n",
       "      <th></th>\n",
       "      <th>sentiment</th>\n",
       "      <th>message</th>\n",
       "      <th>tweetid</th>\n",
       "      <th>hashtags</th>\n",
       "      <th>mentions</th>\n",
       "      <th>url</th>\n",
       "    </tr>\n",
       "  </thead>\n",
       "  <tbody>\n",
       "    <tr>\n",
       "      <th>0</th>\n",
       "      <td>1</td>\n",
       "      <td>PolySciMajor EPA chief doesn't think carbon di...</td>\n",
       "      <td>625221</td>\n",
       "      <td>NaN</td>\n",
       "      <td>[@mashable]</td>\n",
       "      <td>[https://t.co/yelvcefxkc]</td>\n",
       "    </tr>\n",
       "    <tr>\n",
       "      <th>1</th>\n",
       "      <td>1</td>\n",
       "      <td>It's not like we lack evidence of anthropogeni...</td>\n",
       "      <td>126103</td>\n",
       "      <td>NaN</td>\n",
       "      <td>NaN</td>\n",
       "      <td>NaN</td>\n",
       "    </tr>\n",
       "    <tr>\n",
       "      <th>2</th>\n",
       "      <td>2</td>\n",
       "      <td>RT @RawStory: Researchers say we have three ye...</td>\n",
       "      <td>698562</td>\n",
       "      <td>NaN</td>\n",
       "      <td>[@rawstory]</td>\n",
       "      <td>[https://t.co/wdt0kdur2f, https://t.co/z0anpt…]</td>\n",
       "    </tr>\n",
       "    <tr>\n",
       "      <th>3</th>\n",
       "      <td>1</td>\n",
       "      <td>#TodayinMaker# WIRED : 2016 was a pivotal year...</td>\n",
       "      <td>573736</td>\n",
       "      <td>[#todayinmaker#]</td>\n",
       "      <td>NaN</td>\n",
       "      <td>[https://t.co/44wotxtlcd]</td>\n",
       "    </tr>\n",
       "    <tr>\n",
       "      <th>4</th>\n",
       "      <td>1</td>\n",
       "      <td>RT @SoyNovioDeTodas: It's 2016, and a racist, ...</td>\n",
       "      <td>466954</td>\n",
       "      <td>[#electionnight]</td>\n",
       "      <td>[@soynoviodetodas]</td>\n",
       "      <td>NaN</td>\n",
       "    </tr>\n",
       "  </tbody>\n",
       "</table>\n",
       "</div>"
      ],
      "text/plain": [
       "   sentiment                                            message  tweetid  \\\n",
       "0          1  PolySciMajor EPA chief doesn't think carbon di...   625221   \n",
       "1          1  It's not like we lack evidence of anthropogeni...   126103   \n",
       "2          2  RT @RawStory: Researchers say we have three ye...   698562   \n",
       "3          1  #TodayinMaker# WIRED : 2016 was a pivotal year...   573736   \n",
       "4          1  RT @SoyNovioDeTodas: It's 2016, and a racist, ...   466954   \n",
       "\n",
       "           hashtags            mentions  \\\n",
       "0               NaN         [@mashable]   \n",
       "1               NaN                 NaN   \n",
       "2               NaN         [@rawstory]   \n",
       "3  [#todayinmaker#]                 NaN   \n",
       "4  [#electionnight]  [@soynoviodetodas]   \n",
       "\n",
       "                                               url  \n",
       "0                        [https://t.co/yelvcefxkc]  \n",
       "1                                              NaN  \n",
       "2  [https://t.co/wdt0kdur2f, https://t.co/z0anpt…]  \n",
       "3                        [https://t.co/44wotxtlcd]  \n",
       "4                                              NaN  "
      ]
     },
     "execution_count": 14,
     "metadata": {},
     "output_type": "execute_result"
    }
   ],
   "source": [
    "# checking the transformation\n",
    "train_df.head()"
   ]
  },
  {
   "cell_type": "markdown",
   "metadata": {},
   "source": [
    "### 2.2.5 Removing unnecessary information from the message\n",
    "Regular expression contains a series of characters that define a pattern of text to be matched to create filters for raw data that may be specialized, or general. Below, we shall use regex codes to clean the data. Recall that we have extracted the URL, mentions, and hashtag information from the original message column to form new columns of their own. We can now remove the information from the message column."
   ]
  },
  {
   "cell_type": "code",
   "execution_count": null,
   "metadata": {},
   "outputs": [],
   "source": [
    "# remove URLs\n",
    "train_df['message'] = train['message'].str.replace('http\\S+|www.\\S+', '', case=False)\n",
    "\n",
    "# remove mentions\n",
    "train_df['message'] = train['message'].str.replace('@\\w*', '', case=False)\n",
    "\n",
    "# remove hashtags\n",
    "train_df['message'] = train['message'].str.replace('#.*?(?=\\s|$)', '', case=False)\n",
    "\n",
    "# remove 'RT'\n",
    "train_df['message'] = train['message'].str.replace('RT :', '', case=False)\n",
    "\n",
    "# viewing the data\n",
    "train_df.head()"
   ]
  },
  {
   "cell_type": "markdown",
   "metadata": {},
   "source": [
    "### 2.2.6 Expand contractions\n",
    "Contractions are words or combinations of words that are shortened by dropping letters and replacing them with an apostrophe. Expanding contractions contribute to text standardization and are useful when we are working on Twitter data as the words play an important role in sentiment analysis. The following code string expands the message from the form containing contractions to the expanded form without the contractions."
   ]
  },
  {
   "cell_type": "code",
   "execution_count": 16,
   "metadata": {},
   "outputs": [],
   "source": [
    "train_df['message'] = train_df['message'].apply(lambda x: contractions.fix(x))"
   ]
  },
  {
   "cell_type": "markdown",
   "metadata": {},
   "source": [
    "### 2.2.7 Tokenization\n",
    "Tokenization is the process of dividing text into a set of meaningful pieces called tokens. To further process the data, we shall build a function that will tokenize the data. The function will also clean the data by removing digits and single character tokens which may contribute nothing to text our interpretation efforts."
   ]
  },
  {
   "cell_type": "code",
   "execution_count": 17,
   "metadata": {},
   "outputs": [],
   "source": [
    "def clean_tweets(df):\n",
    "    '''\n",
    "    This function cleans the tweets by tokenizing, removing punctuation, \n",
    "    removing digits and removing 1 character tokens\n",
    "    \n",
    "    '''\n",
    "\n",
    "    # tokenizing the tweets\n",
    "    clean_tweets = df['message'].apply(TweetTokenizer().tokenize) ## first we tokenize\n",
    "\n",
    "    # remove punctuation\n",
    "    clean_tweets = clean_tweets.apply(lambda x : [token for token in x if token not in string.punctuation])\n",
    "\n",
    "    # removing digits from the tweets\n",
    "    clean_tweets = clean_tweets.apply(lambda x: [token for token in x if token not in list(string.digits)])\n",
    "\n",
    "    # lastly we remove all one character tokens\n",
    "    clean_tweets = clean_tweets.apply(lambda x: [token for token in x if len(token) > 1])\n",
    "    \n",
    "    df['cleaned_tweets'] = clean_tweets\n",
    "    \n",
    "    return df['cleaned_tweets']"
   ]
  },
  {
   "cell_type": "code",
   "execution_count": 18,
   "metadata": {},
   "outputs": [
    {
     "data": {
      "text/plain": [
       "0        [PolySciMajor, EPA, chief, does, not, think, c...\n",
       "1        [It, is, not, like, we, lack, evidence, of, an...\n",
       "2        [RT, @RawStory, Researchers, say, we, have, th...\n",
       "3        [#TodayinMaker, WIRED, 2016, was, pivotal, yea...\n",
       "4        [RT, @SoyNovioDeTodas, It, is, 2016, and, raci...\n",
       "                               ...                        \n",
       "15814    [RT, @ezlusztig, They, took, down, the, materi...\n",
       "15815    [RT, @washingtonpost, How, climate, change, co...\n",
       "15816    [notiven, RT, nytimesworld, What, does, Trump,...\n",
       "15817    [RT, @sara8smiles, Hey, liberals, the, climate...\n",
       "15818    [RT, @Chet_Cannon, @kurteichenwald, climate, c...\n",
       "Name: cleaned_tweets, Length: 15819, dtype: object"
      ]
     },
     "execution_count": 18,
     "metadata": {},
     "output_type": "execute_result"
    }
   ],
   "source": [
    "# input train data in 'clean_tweets' function to clean the tweets\n",
    "clean_tweets(train_df)"
   ]
  },
  {
   "cell_type": "markdown",
   "metadata": {},
   "source": [
    "### 2.2.8 Removing Stopwords\n",
    "Stop words are used in Text Mining and Natural Language Processing (NLP) to eliminate words that are so commonly used that they carry very little useful information for machine algorithms. For example, in the context of a search system, if your search query is “what is a stop word?”, you want the search system to focus on surfacing documents that talk about \"stop word\" over documents that talk about \"what is a\".The following code block defines the library to be used for stop word removal. It also removes the stop words from the train dataset. "
   ]
  },
  {
   "cell_type": "code",
   "execution_count": 19,
   "metadata": {},
   "outputs": [
    {
     "data": {
      "text/html": [
       "<div>\n",
       "<style scoped>\n",
       "    .dataframe tbody tr th:only-of-type {\n",
       "        vertical-align: middle;\n",
       "    }\n",
       "\n",
       "    .dataframe tbody tr th {\n",
       "        vertical-align: top;\n",
       "    }\n",
       "\n",
       "    .dataframe thead th {\n",
       "        text-align: right;\n",
       "    }\n",
       "</style>\n",
       "<table border=\"1\" class=\"dataframe\">\n",
       "  <thead>\n",
       "    <tr style=\"text-align: right;\">\n",
       "      <th></th>\n",
       "      <th>sentiment</th>\n",
       "      <th>message</th>\n",
       "      <th>tweetid</th>\n",
       "      <th>hashtags</th>\n",
       "      <th>mentions</th>\n",
       "      <th>url</th>\n",
       "      <th>cleaned_tweets</th>\n",
       "      <th>no_stopwords</th>\n",
       "    </tr>\n",
       "  </thead>\n",
       "  <tbody>\n",
       "    <tr>\n",
       "      <th>0</th>\n",
       "      <td>1</td>\n",
       "      <td>PolySciMajor EPA chief does not think carbon d...</td>\n",
       "      <td>625221</td>\n",
       "      <td>NaN</td>\n",
       "      <td>[@mashable]</td>\n",
       "      <td>[https://t.co/yelvcefxkc]</td>\n",
       "      <td>[polyscimajor, epa, chief, does, not, think, c...</td>\n",
       "      <td>[polyscimajor, epa, chief, think, carbon, diox...</td>\n",
       "    </tr>\n",
       "    <tr>\n",
       "      <th>1</th>\n",
       "      <td>1</td>\n",
       "      <td>It is not like we lack evidence of anthropogen...</td>\n",
       "      <td>126103</td>\n",
       "      <td>NaN</td>\n",
       "      <td>NaN</td>\n",
       "      <td>NaN</td>\n",
       "      <td>[it, is, not, like, we, lack, evidence, of, an...</td>\n",
       "      <td>[like, lack, evidence, anthropogenic, global, ...</td>\n",
       "    </tr>\n",
       "    <tr>\n",
       "      <th>2</th>\n",
       "      <td>2</td>\n",
       "      <td>RT @RawStory: Researchers say we have three ye...</td>\n",
       "      <td>698562</td>\n",
       "      <td>NaN</td>\n",
       "      <td>[@rawstory]</td>\n",
       "      <td>[https://t.co/wdt0kdur2f, https://t.co/z0anpt…]</td>\n",
       "      <td>[rt, @rawstory, researchers, say, we, have, th...</td>\n",
       "      <td>[rt, @rawstory, researchers, say, three, years...</td>\n",
       "    </tr>\n",
       "    <tr>\n",
       "      <th>3</th>\n",
       "      <td>1</td>\n",
       "      <td>#TodayinMaker# WIRED : 2016 was a pivotal year...</td>\n",
       "      <td>573736</td>\n",
       "      <td>[#todayinmaker#]</td>\n",
       "      <td>NaN</td>\n",
       "      <td>[https://t.co/44wotxtlcd]</td>\n",
       "      <td>[#todayinmaker, wired, 2016, was, pivotal, yea...</td>\n",
       "      <td>[#todayinmaker, wired, 2016, pivotal, year, wa...</td>\n",
       "    </tr>\n",
       "    <tr>\n",
       "      <th>4</th>\n",
       "      <td>1</td>\n",
       "      <td>RT @SoyNovioDeTodas: It is 2016, and a racist,...</td>\n",
       "      <td>466954</td>\n",
       "      <td>[#electionnight]</td>\n",
       "      <td>[@soynoviodetodas]</td>\n",
       "      <td>NaN</td>\n",
       "      <td>[rt, @soynoviodetodas, it, is, 2016, and, raci...</td>\n",
       "      <td>[rt, @soynoviodetodas, 2016, racist, sexist, c...</td>\n",
       "    </tr>\n",
       "  </tbody>\n",
       "</table>\n",
       "</div>"
      ],
      "text/plain": [
       "   sentiment                                            message  tweetid  \\\n",
       "0          1  PolySciMajor EPA chief does not think carbon d...   625221   \n",
       "1          1  It is not like we lack evidence of anthropogen...   126103   \n",
       "2          2  RT @RawStory: Researchers say we have three ye...   698562   \n",
       "3          1  #TodayinMaker# WIRED : 2016 was a pivotal year...   573736   \n",
       "4          1  RT @SoyNovioDeTodas: It is 2016, and a racist,...   466954   \n",
       "\n",
       "           hashtags            mentions  \\\n",
       "0               NaN         [@mashable]   \n",
       "1               NaN                 NaN   \n",
       "2               NaN         [@rawstory]   \n",
       "3  [#todayinmaker#]                 NaN   \n",
       "4  [#electionnight]  [@soynoviodetodas]   \n",
       "\n",
       "                                               url  \\\n",
       "0                        [https://t.co/yelvcefxkc]   \n",
       "1                                              NaN   \n",
       "2  [https://t.co/wdt0kdur2f, https://t.co/z0anpt…]   \n",
       "3                        [https://t.co/44wotxtlcd]   \n",
       "4                                              NaN   \n",
       "\n",
       "                                      cleaned_tweets  \\\n",
       "0  [polyscimajor, epa, chief, does, not, think, c...   \n",
       "1  [it, is, not, like, we, lack, evidence, of, an...   \n",
       "2  [rt, @rawstory, researchers, say, we, have, th...   \n",
       "3  [#todayinmaker, wired, 2016, was, pivotal, yea...   \n",
       "4  [rt, @soynoviodetodas, it, is, 2016, and, raci...   \n",
       "\n",
       "                                        no_stopwords  \n",
       "0  [polyscimajor, epa, chief, think, carbon, diox...  \n",
       "1  [like, lack, evidence, anthropogenic, global, ...  \n",
       "2  [rt, @rawstory, researchers, say, three, years...  \n",
       "3  [#todayinmaker, wired, 2016, pivotal, year, wa...  \n",
       "4  [rt, @soynoviodetodas, 2016, racist, sexist, c...  "
      ]
     },
     "execution_count": 19,
     "metadata": {},
     "output_type": "execute_result"
    }
   ],
   "source": [
    "# specify the stopword library to be used\n",
    "stop = stopwords.words('english')\n",
    "\n",
    "# convert to lower case\n",
    "train_df['cleaned_tweets'] = train_df['cleaned_tweets'].apply(lambda x: [word.lower() for word in x])\n",
    "\n",
    "# remove stopwords\n",
    "train_df['no_stopwords'] = train_df['cleaned_tweets'].apply(lambda x: [item for item in x if item not in stop])\n",
    "\n",
    "# print out the resulting dataframe\n",
    "train_df.head()"
   ]
  },
  {
   "cell_type": "markdown",
   "metadata": {},
   "source": [
    "### 2.2.9 Most Frequent Words\n",
    "It would be great to know the words that are most frequently used in the tweet data. This information will provide insight into the topics that are popular among the population from which the data was sourced. The following code block outputs words and the frequency of their occurrence in the tweets. The words are arranged in descending order of frequency (from the most frequently occurring to the least frequently occurring). \n"
   ]
  },
  {
   "cell_type": "code",
   "execution_count": 21,
   "metadata": {},
   "outputs": [
    {
     "data": {
      "text/plain": [
       "[('climate', 12645),\n",
       " ('change', 12577),\n",
       " ('rt', 9720),\n",
       " ('global', 3782),\n",
       " ('warming', 3519),\n",
       " ('trump', 1960),\n",
       " ('believe', 1158),\n",
       " ('...', 817),\n",
       " ('us', 809)]"
      ]
     },
     "execution_count": 21,
     "metadata": {},
     "output_type": "execute_result"
    }
   ],
   "source": [
    "# view a collection of words in the clean data\n",
    "cnt = Counter()\n",
    "for message in train_df['no_stopwords'].values:\n",
    "    for word in message:\n",
    "        cnt[word] += 1\n",
    "        \n",
    "cnt.most_common()[0:9]"
   ]
  },
  {
   "cell_type": "markdown",
   "metadata": {},
   "source": [
    "### 2.2.10 Map the sentiment classes to their names\n",
    "Machine learning models work with numeric data but the sentiment values are provided as strings. The following code block maps these strings into numeric form by assigning each string a numeric value. For the purpose of this project, We shall assign the sentiment values as follows. Negative sentiment or \"Anti\" = -1, \"Neutral\" = 0, Positive Sentiment or \"Pro\" = 1, and \"News\" = 2."
   ]
  },
  {
   "cell_type": "code",
   "execution_count": 22,
   "metadata": {},
   "outputs": [],
   "source": [
    "# map the sentiment classes and assign them to numeric values\n",
    "train_df['sent_labels']  = train_df['sentiment'].map({-1: 'Anti',0:'Neutral', 1:'Pro', 2:'News'})\n",
    "train_eda['sent_labels']  = train_df['sentiment'].map({-1: 'Anti',0:'Neutral', 1:'Pro', 2:'News'})"
   ]
  },
  {
   "cell_type": "markdown",
   "metadata": {},
   "source": [
    "### 2.2.11 Create separate data frames for each sentiment category\n",
    "Since we have four distinct categories of sentiments, we will create a separate data frame for each category. This will afford us the flexibility to interact with each sentiment class as a unique entity during the EDA process."
   ]
  },
  {
   "cell_type": "code",
   "execution_count": 23,
   "metadata": {},
   "outputs": [],
   "source": [
    "# dataframe for neutral tweets\n",
    "neutral_df = train_df[train_df['sentiment'] == 0]\n",
    "# dataframe for pro tweets\n",
    "pro_df = train_df[train_df['sentiment'] == 1]\n",
    "# dataframe for anti tweets\n",
    "anti_df = train_df[train_df['sentiment'] == -1]"
   ]
  },
  {
   "cell_type": "markdown",
   "metadata": {},
   "source": [
    "The new datframes"
   ]
  },
  {
   "cell_type": "code",
   "execution_count": 24,
   "metadata": {},
   "outputs": [
    {
     "data": {
      "text/html": [
       "<div>\n",
       "<style scoped>\n",
       "    .dataframe tbody tr th:only-of-type {\n",
       "        vertical-align: middle;\n",
       "    }\n",
       "\n",
       "    .dataframe tbody tr th {\n",
       "        vertical-align: top;\n",
       "    }\n",
       "\n",
       "    .dataframe thead th {\n",
       "        text-align: right;\n",
       "    }\n",
       "</style>\n",
       "<table border=\"1\" class=\"dataframe\">\n",
       "  <thead>\n",
       "    <tr style=\"text-align: right;\">\n",
       "      <th></th>\n",
       "      <th>sentiment</th>\n",
       "      <th>message</th>\n",
       "      <th>tweetid</th>\n",
       "      <th>hashtags</th>\n",
       "      <th>mentions</th>\n",
       "      <th>url</th>\n",
       "      <th>cleaned_tweets</th>\n",
       "      <th>no_stopwords</th>\n",
       "      <th>sent_labels</th>\n",
       "    </tr>\n",
       "  </thead>\n",
       "  <tbody>\n",
       "    <tr>\n",
       "      <th>19</th>\n",
       "      <td>0</td>\n",
       "      <td>Calum: *tweets about reunitingish w the cast*\\...</td>\n",
       "      <td>547924</td>\n",
       "      <td>NaN</td>\n",
       "      <td>NaN</td>\n",
       "      <td>NaN</td>\n",
       "      <td>[calum, tweets, about, reunitingish, the, cast...</td>\n",
       "      <td>[calum, tweets, reunitingish, cast, sees, repl...</td>\n",
       "      <td>Neutral</td>\n",
       "    </tr>\n",
       "    <tr>\n",
       "      <th>22</th>\n",
       "      <td>0</td>\n",
       "      <td>we also met this guy, he let us in on some tru...</td>\n",
       "      <td>67545</td>\n",
       "      <td>NaN</td>\n",
       "      <td>NaN</td>\n",
       "      <td>[https://t.co/q7yomcmzaj]</td>\n",
       "      <td>[we, also, met, this, guy, he, let, us, in, on...</td>\n",
       "      <td>[also, met, guy, let, us, truth, climate, chan...</td>\n",
       "      <td>Neutral</td>\n",
       "    </tr>\n",
       "    <tr>\n",
       "      <th>30</th>\n",
       "      <td>0</td>\n",
       "      <td>@Jnp_Ftw are these the same scientists that de...</td>\n",
       "      <td>365051</td>\n",
       "      <td>NaN</td>\n",
       "      <td>[@jnp_ftw]</td>\n",
       "      <td>NaN</td>\n",
       "      <td>[@jnp_ftw, are, these, the, same, scientists, ...</td>\n",
       "      <td>[@jnp_ftw, scientists, denounce, climate, chan...</td>\n",
       "      <td>Neutral</td>\n",
       "    </tr>\n",
       "    <tr>\n",
       "      <th>39</th>\n",
       "      <td>0</td>\n",
       "      <td>We’ ve dealt with simple issues like climate c...</td>\n",
       "      <td>403368</td>\n",
       "      <td>[#qanda]</td>\n",
       "      <td>NaN</td>\n",
       "      <td>NaN</td>\n",
       "      <td>[we, ve, dealt, with, simple, issues, like, cl...</td>\n",
       "      <td>[dealt, simple, issues, like, climate, change,...</td>\n",
       "      <td>Neutral</td>\n",
       "    </tr>\n",
       "    <tr>\n",
       "      <th>43</th>\n",
       "      <td>0</td>\n",
       "      <td>RT @andrewsharp: Win probability is bullshit m...</td>\n",
       "      <td>326916</td>\n",
       "      <td>NaN</td>\n",
       "      <td>[@andrewsharp]</td>\n",
       "      <td>NaN</td>\n",
       "      <td>[rt, @andrewsharp, win, probability, is, bulls...</td>\n",
       "      <td>[rt, @andrewsharp, win, probability, bullshit,...</td>\n",
       "      <td>Neutral</td>\n",
       "    </tr>\n",
       "  </tbody>\n",
       "</table>\n",
       "</div>"
      ],
      "text/plain": [
       "    sentiment                                            message  tweetid  \\\n",
       "19          0  Calum: *tweets about reunitingish w the cast*\\...   547924   \n",
       "22          0  we also met this guy, he let us in on some tru...    67545   \n",
       "30          0  @Jnp_Ftw are these the same scientists that de...   365051   \n",
       "39          0  We’ ve dealt with simple issues like climate c...   403368   \n",
       "43          0  RT @andrewsharp: Win probability is bullshit m...   326916   \n",
       "\n",
       "    hashtags        mentions                        url  \\\n",
       "19       NaN             NaN                        NaN   \n",
       "22       NaN             NaN  [https://t.co/q7yomcmzaj]   \n",
       "30       NaN      [@jnp_ftw]                        NaN   \n",
       "39  [#qanda]             NaN                        NaN   \n",
       "43       NaN  [@andrewsharp]                        NaN   \n",
       "\n",
       "                                       cleaned_tweets  \\\n",
       "19  [calum, tweets, about, reunitingish, the, cast...   \n",
       "22  [we, also, met, this, guy, he, let, us, in, on...   \n",
       "30  [@jnp_ftw, are, these, the, same, scientists, ...   \n",
       "39  [we, ve, dealt, with, simple, issues, like, cl...   \n",
       "43  [rt, @andrewsharp, win, probability, is, bulls...   \n",
       "\n",
       "                                         no_stopwords sent_labels  \n",
       "19  [calum, tweets, reunitingish, cast, sees, repl...     Neutral  \n",
       "22  [also, met, guy, let, us, truth, climate, chan...     Neutral  \n",
       "30  [@jnp_ftw, scientists, denounce, climate, chan...     Neutral  \n",
       "39  [dealt, simple, issues, like, climate, change,...     Neutral  \n",
       "43  [rt, @andrewsharp, win, probability, bullshit,...     Neutral  "
      ]
     },
     "execution_count": 24,
     "metadata": {},
     "output_type": "execute_result"
    }
   ],
   "source": [
    "neutral_df.head()"
   ]
  },
  {
   "cell_type": "code",
   "execution_count": 25,
   "metadata": {},
   "outputs": [
    {
     "data": {
      "text/html": [
       "<div>\n",
       "<style scoped>\n",
       "    .dataframe tbody tr th:only-of-type {\n",
       "        vertical-align: middle;\n",
       "    }\n",
       "\n",
       "    .dataframe tbody tr th {\n",
       "        vertical-align: top;\n",
       "    }\n",
       "\n",
       "    .dataframe thead th {\n",
       "        text-align: right;\n",
       "    }\n",
       "</style>\n",
       "<table border=\"1\" class=\"dataframe\">\n",
       "  <thead>\n",
       "    <tr style=\"text-align: right;\">\n",
       "      <th></th>\n",
       "      <th>sentiment</th>\n",
       "      <th>message</th>\n",
       "      <th>tweetid</th>\n",
       "      <th>hashtags</th>\n",
       "      <th>mentions</th>\n",
       "      <th>url</th>\n",
       "      <th>cleaned_tweets</th>\n",
       "      <th>no_stopwords</th>\n",
       "      <th>sent_labels</th>\n",
       "    </tr>\n",
       "  </thead>\n",
       "  <tbody>\n",
       "    <tr>\n",
       "      <th>0</th>\n",
       "      <td>1</td>\n",
       "      <td>PolySciMajor EPA chief does not think carbon d...</td>\n",
       "      <td>625221</td>\n",
       "      <td>NaN</td>\n",
       "      <td>[@mashable]</td>\n",
       "      <td>[https://t.co/yelvcefxkc]</td>\n",
       "      <td>[polyscimajor, epa, chief, does, not, think, c...</td>\n",
       "      <td>[polyscimajor, epa, chief, think, carbon, diox...</td>\n",
       "      <td>Pro</td>\n",
       "    </tr>\n",
       "    <tr>\n",
       "      <th>1</th>\n",
       "      <td>1</td>\n",
       "      <td>It is not like we lack evidence of anthropogen...</td>\n",
       "      <td>126103</td>\n",
       "      <td>NaN</td>\n",
       "      <td>NaN</td>\n",
       "      <td>NaN</td>\n",
       "      <td>[it, is, not, like, we, lack, evidence, of, an...</td>\n",
       "      <td>[like, lack, evidence, anthropogenic, global, ...</td>\n",
       "      <td>Pro</td>\n",
       "    </tr>\n",
       "    <tr>\n",
       "      <th>3</th>\n",
       "      <td>1</td>\n",
       "      <td>#TodayinMaker# WIRED : 2016 was a pivotal year...</td>\n",
       "      <td>573736</td>\n",
       "      <td>[#todayinmaker#]</td>\n",
       "      <td>NaN</td>\n",
       "      <td>[https://t.co/44wotxtlcd]</td>\n",
       "      <td>[#todayinmaker, wired, 2016, was, pivotal, yea...</td>\n",
       "      <td>[#todayinmaker, wired, 2016, pivotal, year, wa...</td>\n",
       "      <td>Pro</td>\n",
       "    </tr>\n",
       "    <tr>\n",
       "      <th>4</th>\n",
       "      <td>1</td>\n",
       "      <td>RT @SoyNovioDeTodas: It is 2016, and a racist,...</td>\n",
       "      <td>466954</td>\n",
       "      <td>[#electionnight]</td>\n",
       "      <td>[@soynoviodetodas]</td>\n",
       "      <td>NaN</td>\n",
       "      <td>[rt, @soynoviodetodas, it, is, 2016, and, raci...</td>\n",
       "      <td>[rt, @soynoviodetodas, 2016, racist, sexist, c...</td>\n",
       "      <td>Pro</td>\n",
       "    </tr>\n",
       "    <tr>\n",
       "      <th>5</th>\n",
       "      <td>1</td>\n",
       "      <td>Worth a read whether you do or do not believe ...</td>\n",
       "      <td>425577</td>\n",
       "      <td>NaN</td>\n",
       "      <td>NaN</td>\n",
       "      <td>[https://t.co/gglzvnyjun, https://t.co/7afe2ma...</td>\n",
       "      <td>[worth, read, whether, you, do, or, do, not, b...</td>\n",
       "      <td>[worth, read, whether, believe, climate, chang...</td>\n",
       "      <td>Pro</td>\n",
       "    </tr>\n",
       "  </tbody>\n",
       "</table>\n",
       "</div>"
      ],
      "text/plain": [
       "   sentiment                                            message  tweetid  \\\n",
       "0          1  PolySciMajor EPA chief does not think carbon d...   625221   \n",
       "1          1  It is not like we lack evidence of anthropogen...   126103   \n",
       "3          1  #TodayinMaker# WIRED : 2016 was a pivotal year...   573736   \n",
       "4          1  RT @SoyNovioDeTodas: It is 2016, and a racist,...   466954   \n",
       "5          1  Worth a read whether you do or do not believe ...   425577   \n",
       "\n",
       "           hashtags            mentions  \\\n",
       "0               NaN         [@mashable]   \n",
       "1               NaN                 NaN   \n",
       "3  [#todayinmaker#]                 NaN   \n",
       "4  [#electionnight]  [@soynoviodetodas]   \n",
       "5               NaN                 NaN   \n",
       "\n",
       "                                                 url  \\\n",
       "0                          [https://t.co/yelvcefxkc]   \n",
       "1                                                NaN   \n",
       "3                          [https://t.co/44wotxtlcd]   \n",
       "4                                                NaN   \n",
       "5  [https://t.co/gglzvnyjun, https://t.co/7afe2ma...   \n",
       "\n",
       "                                      cleaned_tweets  \\\n",
       "0  [polyscimajor, epa, chief, does, not, think, c...   \n",
       "1  [it, is, not, like, we, lack, evidence, of, an...   \n",
       "3  [#todayinmaker, wired, 2016, was, pivotal, yea...   \n",
       "4  [rt, @soynoviodetodas, it, is, 2016, and, raci...   \n",
       "5  [worth, read, whether, you, do, or, do, not, b...   \n",
       "\n",
       "                                        no_stopwords sent_labels  \n",
       "0  [polyscimajor, epa, chief, think, carbon, diox...         Pro  \n",
       "1  [like, lack, evidence, anthropogenic, global, ...         Pro  \n",
       "3  [#todayinmaker, wired, 2016, pivotal, year, wa...         Pro  \n",
       "4  [rt, @soynoviodetodas, 2016, racist, sexist, c...         Pro  \n",
       "5  [worth, read, whether, believe, climate, chang...         Pro  "
      ]
     },
     "execution_count": 25,
     "metadata": {},
     "output_type": "execute_result"
    }
   ],
   "source": [
    "pro_df.head()"
   ]
  },
  {
   "cell_type": "code",
   "execution_count": 26,
   "metadata": {},
   "outputs": [
    {
     "data": {
      "text/html": [
       "<div>\n",
       "<style scoped>\n",
       "    .dataframe tbody tr th:only-of-type {\n",
       "        vertical-align: middle;\n",
       "    }\n",
       "\n",
       "    .dataframe tbody tr th {\n",
       "        vertical-align: top;\n",
       "    }\n",
       "\n",
       "    .dataframe thead th {\n",
       "        text-align: right;\n",
       "    }\n",
       "</style>\n",
       "<table border=\"1\" class=\"dataframe\">\n",
       "  <thead>\n",
       "    <tr style=\"text-align: right;\">\n",
       "      <th></th>\n",
       "      <th>sentiment</th>\n",
       "      <th>message</th>\n",
       "      <th>tweetid</th>\n",
       "      <th>hashtags</th>\n",
       "      <th>mentions</th>\n",
       "      <th>url</th>\n",
       "      <th>cleaned_tweets</th>\n",
       "      <th>no_stopwords</th>\n",
       "      <th>sent_labels</th>\n",
       "    </tr>\n",
       "  </thead>\n",
       "  <tbody>\n",
       "    <tr>\n",
       "      <th>28</th>\n",
       "      <td>-1</td>\n",
       "      <td>Sally Kohn’s latest evidence of climate change...</td>\n",
       "      <td>355491</td>\n",
       "      <td>NaN</td>\n",
       "      <td>[@twitchyteam]</td>\n",
       "      <td>[https://t.co/mhkzogl9vt]</td>\n",
       "      <td>[sally, kohn, latest, evidence, of, climate, c...</td>\n",
       "      <td>[sally, kohn, latest, evidence, climate, chang...</td>\n",
       "      <td>Anti</td>\n",
       "    </tr>\n",
       "    <tr>\n",
       "      <th>46</th>\n",
       "      <td>-1</td>\n",
       "      <td>@realDonaldTrump Carbon Tax is a Globalist ide...</td>\n",
       "      <td>61141</td>\n",
       "      <td>NaN</td>\n",
       "      <td>[@realdonaldtrump]</td>\n",
       "      <td>NaN</td>\n",
       "      <td>[@realdonaldtrump, carbon, tax, is, globalist,...</td>\n",
       "      <td>[@realdonaldtrump, carbon, tax, globalist, ide...</td>\n",
       "      <td>Anti</td>\n",
       "    </tr>\n",
       "    <tr>\n",
       "      <th>48</th>\n",
       "      <td>-1</td>\n",
       "      <td>RT @SteveSGoddard: We had winds close to 100 M...</td>\n",
       "      <td>719523</td>\n",
       "      <td>NaN</td>\n",
       "      <td>[@stevesgoddard]</td>\n",
       "      <td>NaN</td>\n",
       "      <td>[rt, @stevesgoddard, we, had, winds, close, to...</td>\n",
       "      <td>[rt, @stevesgoddard, winds, close, 100, mph, a...</td>\n",
       "      <td>Anti</td>\n",
       "    </tr>\n",
       "    <tr>\n",
       "      <th>56</th>\n",
       "      <td>-1</td>\n",
       "      <td>@MissLizzyNJ lmao 😂 snowflakes ❄️ complaining ...</td>\n",
       "      <td>911385</td>\n",
       "      <td>NaN</td>\n",
       "      <td>[@misslizzynj]</td>\n",
       "      <td>NaN</td>\n",
       "      <td>[@misslizzynj, lmao, snowflakes, complaining, ...</td>\n",
       "      <td>[@misslizzynj, lmao, snowflakes, complaining, ...</td>\n",
       "      <td>Anti</td>\n",
       "    </tr>\n",
       "    <tr>\n",
       "      <th>57</th>\n",
       "      <td>-1</td>\n",
       "      <td>RT @Dawn2334Dawn: This is ONE of Arnold Schwar...</td>\n",
       "      <td>768263</td>\n",
       "      <td>NaN</td>\n",
       "      <td>[@dawn2334dawn]</td>\n",
       "      <td>[http…]</td>\n",
       "      <td>[rt, @dawn2334dawn, this, is, one, of, arnold,...</td>\n",
       "      <td>[rt, @dawn2334dawn, one, arnold, schwarzenegge...</td>\n",
       "      <td>Anti</td>\n",
       "    </tr>\n",
       "  </tbody>\n",
       "</table>\n",
       "</div>"
      ],
      "text/plain": [
       "    sentiment                                            message  tweetid  \\\n",
       "28         -1  Sally Kohn’s latest evidence of climate change...   355491   \n",
       "46         -1  @realDonaldTrump Carbon Tax is a Globalist ide...    61141   \n",
       "48         -1  RT @SteveSGoddard: We had winds close to 100 M...   719523   \n",
       "56         -1  @MissLizzyNJ lmao 😂 snowflakes ❄️ complaining ...   911385   \n",
       "57         -1  RT @Dawn2334Dawn: This is ONE of Arnold Schwar...   768263   \n",
       "\n",
       "   hashtags            mentions                        url  \\\n",
       "28      NaN      [@twitchyteam]  [https://t.co/mhkzogl9vt]   \n",
       "46      NaN  [@realdonaldtrump]                        NaN   \n",
       "48      NaN    [@stevesgoddard]                        NaN   \n",
       "56      NaN      [@misslizzynj]                        NaN   \n",
       "57      NaN     [@dawn2334dawn]                    [http…]   \n",
       "\n",
       "                                       cleaned_tweets  \\\n",
       "28  [sally, kohn, latest, evidence, of, climate, c...   \n",
       "46  [@realdonaldtrump, carbon, tax, is, globalist,...   \n",
       "48  [rt, @stevesgoddard, we, had, winds, close, to...   \n",
       "56  [@misslizzynj, lmao, snowflakes, complaining, ...   \n",
       "57  [rt, @dawn2334dawn, this, is, one, of, arnold,...   \n",
       "\n",
       "                                         no_stopwords sent_labels  \n",
       "28  [sally, kohn, latest, evidence, climate, chang...        Anti  \n",
       "46  [@realdonaldtrump, carbon, tax, globalist, ide...        Anti  \n",
       "48  [rt, @stevesgoddard, winds, close, 100, mph, a...        Anti  \n",
       "56  [@misslizzynj, lmao, snowflakes, complaining, ...        Anti  \n",
       "57  [rt, @dawn2334dawn, one, arnold, schwarzenegge...        Anti  "
      ]
     },
     "execution_count": 26,
     "metadata": {},
     "output_type": "execute_result"
    }
   ],
   "source": [
    "anti_df.head()"
   ]
  },
  {
   "cell_type": "markdown",
   "metadata": {},
   "source": [
    " ### 2.2.12 Exploratory Data Analysis"
   ]
  },
  {
   "cell_type": "markdown",
   "metadata": {},
   "source": [
    "In this sub-section we want to apply a variety of techniques to maximize specific insights into our dataset, reveal underlying structure, extract significant variables, detect outliers and anomalies, test assumptions, develop models, and determine the best parameters for estimations. In essence, we want to dig deeper into our dataset to gain more insights into its nature and draw conclusions based on what we learn from the data."
   ]
  },
  {
   "cell_type": "markdown",
   "metadata": {},
   "source": [
    "**Target variable**\n",
    "We want to understand the behavior of our target variable for our respective categories. The following code block iterates through the target variables as contained in the train set and identifies the percentage of the target that falls into each sentiment category (That is the percentage contribution of each sentiment category to the overall sentiment of the set). From the information displayed, we can see that the Pro category contributes the most with 54%, it is followed by the News category with 23% and then Neutral with 15% and lastly Anti with 8%."
   ]
  },
  {
   "cell_type": "code",
   "execution_count": 27,
   "metadata": {},
   "outputs": [
    {
     "name": "stdout",
     "output_type": "stream",
     "text": [
      "Percentage contribution:\n",
      " Pro        53.922498\n",
      "News       23.010304\n",
      "Neutral    14.874518\n",
      "Anti        8.192680\n",
      "Name: sent_labels, dtype: float64\n"
     ]
    },
    {
     "data": {
      "text/plain": [
       "None"
      ]
     },
     "metadata": {},
     "output_type": "display_data"
    }
   ],
   "source": [
    "# display target distribution\n",
    "display(print(\"Percentage contribution:\\n\", train_df.sent_labels.value_counts(normalize=True)*100))"
   ]
  },
  {
   "cell_type": "markdown",
   "metadata": {},
   "source": [
    "**Message Length**\n",
    "The box plot below shows the message length for each sentiment class."
   ]
  },
  {
   "cell_type": "code",
   "execution_count": 31,
   "metadata": {},
   "outputs": [],
   "source": [
    "train_eda['sent_labels']  = train_df['sentiment'].map({-1: 'Anti',0:'Neutral', 1:'Pro', 2:'News'})"
   ]
  },
  {
   "cell_type": "code",
   "execution_count": 46,
   "metadata": {},
   "outputs": [],
   "source": [
    "train_df['text_length'] = train_eda['message'].apply(lambda x: len(x))"
   ]
  },
  {
   "cell_type": "code",
   "execution_count": 47,
   "metadata": {},
   "outputs": [
    {
     "data": {
      "image/png": "[encoded data removed]",
      "text/plain": [
       "<Figure size 432x288 with 1 Axes>"
      ]
     },
     "metadata": {
      "needs_background": "light"
     },
     "output_type": "display_data"
    }
   ],
   "source": [
    "# box plot\n",
    "sns.boxplot(x=train_eda['sent_labels'], y=train_df['text_length'], data=train_eda, width = 0.9, color = 'orange')\n",
    "plt.ylabel('Lenght of the message')\n",
    "plt.xlabel('Sentiment class')\n",
    "plt.title('Message length for each sentiment class')\n",
    "plt.show()"
   ]
  },
  {
   "cell_type": "markdown",
   "metadata": {},
   "source": [
    "**Observations**\n",
    "\n",
    "* There is a strong imbalance for sentiment classes\n",
    "* Sentiment class '1' (Pro) dominates the chart with over 50% contribution, while class '-1' (Anti) lags behind with 8%.\n",
    "\n",
    "**Compare the sentiments analysis of raw and cleaned tweets**\n",
    "\n",
    "The histogram ploted below shows the difference between the polarity of the data towards each sentiment category between the raw and the cleaned data. The polarity refers to how much a particular tweet leans towards a positive or negative bias. -1 represents negative sentiment while 1 represents positive sentiment. The values plotted on the horizontal axis represents the sentiment while the vertical axis shows the frequency of occurence.\n",
    "\n"
   ]
  },
  {
   "cell_type": "code",
   "execution_count": 51,
   "metadata": {},
   "outputs": [
    {
     "data": {
      "text/plain": [
       "<matplotlib.lines.Line2D at 0x1fef8cf4850>"
      ]
     },
     "execution_count": 51,
     "metadata": {},
     "output_type": "execute_result"
    },
    {
     "data": {
      "image/png": "[encoded data removed]",
      "text/plain": [
       "<Figure size 720x576 with 1 Axes>"
      ]
     },
     "metadata": {
      "needs_background": "light"
     },
     "output_type": "display_data"
    }
   ],
   "source": [
    "# compare the sentiment analysis from raw data\n",
    "train_eda['polarity']=train_eda['message'].apply(lambda x:\n",
    "                                             TextBlob(x).sentiment.polarity)\n",
    "\n",
    "plt.figure(figsize=[10, 8])\n",
    "plt.hist(train_eda['polarity'], bins=25, linewidth=0)\n",
    "plt.gca().set(title='Message polarity of raw data',\n",
    "              ylabel='Frequency', xlabel = 'Sentiment value')\n",
    "plt.axvline(train_eda['polarity'].mean(), color='black',\n",
    "            linestyle='dashed', linewidth=1)\n",
    "plt.axvline(train_eda['polarity'].median(), color='orange',\n",
    "            linestyle='dashed', linewidth=1)"
   ]
  },
  {
   "cell_type": "code",
   "execution_count": 53,
   "metadata": {},
   "outputs": [
    {
     "data": {
      "image/png": "[encoded data removed]",
      "text/plain": [
       "<Figure size 720x576 with 1 Axes>"
      ]
     },
     "metadata": {
      "needs_background": "light"
     },
     "output_type": "display_data"
    }
   ],
   "source": [
    "# Convert the cleaned message from list to string\n",
    "train_eda['clean_msg'] = train_df['no_stopwords'].str.join(' ')\n",
    "\n",
    "train_eda['polarity'] = train_eda['clean_msg'].apply(lambda x:\n",
    "                                             TextBlob(x).sentiment.polarity)\n",
    "\n",
    "plt.figure(figsize=[10, 8])\n",
    "plt.hist(train_eda['polarity'], bins=25, linewidth=0)\n",
    "plt.gca().set(title='Message polarity of cleaned data',\n",
    "              ylabel='Frequency', xlabel = 'Sentiment value')\n",
    "plt.axvline(train_eda['polarity'].mean(), color='black',\n",
    "            linestyle='dashed', linewidth=1)\n",
    "plt.axvline(train_eda['polarity'].median(), color='orange',\n",
    "            linestyle='dashed', linewidth=1);"
   ]
  },
  {
   "cell_type": "markdown",
   "metadata": {},
   "source": [
    "**Observations**\n",
    "\n",
    "- Positively skewed sentiments, mean is greater than median.\n",
    "- Majority of the tweets are around neutral sentiment\n",
    "- Cleaned data has a greater mean than raw data; however, the central tendency show a similar trend for both.\n",
    "\n",
    "**Further text analysis**\n",
    "\n",
    "From here, we want to dig deeper into our text and investigate each word individually and its frequency of use. To accomplish this, we shall be using wordcloud. Word cloud is a collection, or cluster, of words depicted in different sizes. The bigger and bolder the word appears, the more often it’s mentioned within a given text and the more important it is. Word clouds are an ideal way to pull out the most pertinent parts of textual data, from blog posts to databases.Below we generate the word cloud for the train dataset. \n"
   ]
  },
  {
   "cell_type": "code",
   "execution_count": null,
   "metadata": {},
   "outputs": [],
   "source": [
    "# most occurring words of the train set\n",
    "words_train=\" \".join([tweet for tweet in train['message']])\n",
    "wordcloud = WordCloud(background_color='black',width=3200, height=1700,random_state=46).generate(words_train)\n",
    "\n",
    "# displaying the word cloud image:\n",
    "plt.figure(figsize=(20,10))\n",
    "plt.imshow(wordcloud, interpolation='bilinear')\n",
    "plt.axis(\"off\")\n",
    "plt.show()"
   ]
  },
  {
   "cell_type": "markdown",
   "metadata": {},
   "source": [
    "Below we generate four independent word clouds for the four sentiment classes."
   ]
  },
  {
   "cell_type": "code",
   "execution_count": null,
   "metadata": {},
   "outputs": [],
   "source": [
    "# Convert list to strings for each sentiment class\n",
    "news = news_df[\"no_stopwords\"].str.join(' ')\n",
    "neutral = neutral_df[\"no_stopwords\"].str.join(' ')\n",
    "pro = pro_df[\"no_stopwords\"].str.join(' ')\n",
    "anti = anti_df[\"no_stopwords\"].str.join(' ')\n",
    "\n",
    "#Visualize each sentiment class\n",
    "\n",
    "fig, axis = plt.subplots(nrows=2, ncols=2, figsize=(18, 12))\n",
    "\n",
    "news_wordcloud = WordCloud(width=900, height=600, background_color='black', colormap='winter').generate(str(news))\n",
    "axis[0, 0].imshow(news_wordcloud)\n",
    "axis[0, 0].set_title('News Class',fontsize=14)\n",
    "axis[0, 0].axis(\"off\") \n",
    "\n",
    "neutral_wordcloud = WordCloud(width=900, height=600, background_color='black', colormap='winter', min_font_size=10).generate(str(neutral))\n",
    "axis[1, 0].imshow(neutral_wordcloud)\n",
    "axis[1, 0].set_title('Neutral Class',fontsize=14)\n",
    "axis[1, 0].axis(\"off\") \n",
    "\n",
    "pro_wordcloud = WordCloud(width=900, height=600, background_color='black', colormap='winter', min_font_size=10).generate(str(pro))\n",
    "axis[0, 1].imshow(pro_wordcloud)\n",
    "axis[0, 1].set_title('Pro Class',fontsize=14)\n",
    "axis[0, 1].axis(\"off\") \n",
    "\n",
    "anti_wordcloud = WordCloud(width=900, height=600, background_color='black', colormap='winter', min_font_size=10).generate(str(anti))\n",
    "axis[1, 1].imshow(anti_wordcloud)\n",
    "axis[1, 1].set_title('Anti Class',fontsize=14)\n",
    "axis[1, 1].axis(\"off\") \n",
    "\n",
    "plt.show()"
   ]
  },
  {
   "cell_type": "markdown",
   "metadata": {},
   "source": [
    "**Word Cloud Summary**\n",
    "\n",
    "Clearly climate change is indeed the biggest topic in the tweets as expected and this is confirmed by the size of the phrase \"climate change\" in all the four word cloud classes.\n",
    "- The news and neutral classes as expected didn't feature words that typically expresses strong bias. What we see are typical news material and largely unbiased words like the names of entities, words that seem to link financial developments to the phenomenon or quantify the problem. \n",
    "- In the pro-class, in addition to some seemingly un-bias words like emmissions, carbon, and history, we begin to see words that express bias such as belief, falsely, war, racist die, sexist etc, suggesting the perception of some threat.\n",
    "- The anti word cloud feature words that suggests even stronger bias like enslave, blame,complaining, delussional, hoax, whinning etc.\n",
    "\n",
    "**Most used hashtags for sentiment classes**\n",
    "\n",
    "A hashtag is used to index keywords or topics in Twitter. This function allows people to easily follow topics that interests them. The fllowing function takes a dataframe as an input and outputs a new dataframe with the \"hashtags\" and \"sent_labels\" (which is the sentiment value) as the columns in it. This function can easily reveal how popular a hashtag trend is in relation to different sentiment classes.\n",
    "\n"
   ]
  },
  {
   "cell_type": "code",
   "execution_count": 32,
   "metadata": {},
   "outputs": [],
   "source": [
    "# Create hashtag df and remove nulls \n",
    "def hashtags(df):\n",
    "    '''\n",
    "    receives dataframe and outputs a new dataframe with the \"hashtags\" and \"sent_labels\" \n",
    "    (which is the sentiment value)\n",
    "    '''\n",
    "    df = df[['hashtags', 'sent_labels']]\n",
    "    df = df[df['hashtags'].notnull()] # remove rows with null values\n",
    "    return df"
   ]
  },
  {
   "cell_type": "code",
   "execution_count": 34,
   "metadata": {},
   "outputs": [
    {
     "data": {
      "text/html": [
       "<div>\n",
       "<style scoped>\n",
       "    .dataframe tbody tr th:only-of-type {\n",
       "        vertical-align: middle;\n",
       "    }\n",
       "\n",
       "    .dataframe tbody tr th {\n",
       "        vertical-align: top;\n",
       "    }\n",
       "\n",
       "    .dataframe thead th {\n",
       "        text-align: right;\n",
       "    }\n",
       "</style>\n",
       "<table border=\"1\" class=\"dataframe\">\n",
       "  <thead>\n",
       "    <tr style=\"text-align: right;\">\n",
       "      <th></th>\n",
       "      <th>hashtags</th>\n",
       "      <th>sent_labels</th>\n",
       "    </tr>\n",
       "  </thead>\n",
       "  <tbody>\n",
       "    <tr>\n",
       "      <th>3</th>\n",
       "      <td>[#todayinmaker#]</td>\n",
       "      <td>Pro</td>\n",
       "    </tr>\n",
       "    <tr>\n",
       "      <th>4</th>\n",
       "      <td>[#electionnight]</td>\n",
       "      <td>Pro</td>\n",
       "    </tr>\n",
       "    <tr>\n",
       "      <th>13</th>\n",
       "      <td>[#climatemarch]</td>\n",
       "      <td>Pro</td>\n",
       "    </tr>\n",
       "    <tr>\n",
       "      <th>20</th>\n",
       "      <td>[#saveourplanet]</td>\n",
       "      <td>Pro</td>\n",
       "    </tr>\n",
       "    <tr>\n",
       "      <th>21</th>\n",
       "      <td>[#cop22, #earthtomarrakech]</td>\n",
       "      <td>Pro</td>\n",
       "    </tr>\n",
       "  </tbody>\n",
       "</table>\n",
       "</div>"
      ],
      "text/plain": [
       "                       hashtags sent_labels\n",
       "3              [#todayinmaker#]         Pro\n",
       "4              [#electionnight]         Pro\n",
       "13              [#climatemarch]         Pro\n",
       "20             [#saveourplanet]         Pro\n",
       "21  [#cop22, #earthtomarrakech]         Pro"
      ]
     },
     "execution_count": 34,
     "metadata": {},
     "output_type": "execute_result"
    }
   ],
   "source": [
    "hashtags(news_df).head()"
   ]
  },
  {
   "cell_type": "markdown",
   "metadata": {},
   "source": [
    "**Hashtags Count**\n",
    "\n",
    "The following function lists all the hashtags within a referenced dataframe and arranges them in ascending order of frequency of occurence. We shall parse the dataframes created for each of the classes through this function so as to see the frequency of the occurence of each hash tag in the different sentiment categories."
   ]
  },
  {
   "cell_type": "code",
   "execution_count": 35,
   "metadata": {},
   "outputs": [],
   "source": [
    "def hashtag_count(df):\n",
    "    hashtag = sum(df['hashtags'], [])\n",
    "    count = nltk.FreqDist(hashtag)  \n",
    "    hashtag = pd.DataFrame({'hashtags': list(count.keys()),\n",
    "                           'count': list(count.values())})\n",
    "    hashtag = hashtag.nlargest(20, columns=\"count\")\n",
    "\n",
    "    return hashtag"
   ]
  },
  {
   "cell_type": "code",
   "execution_count": 36,
   "metadata": {},
   "outputs": [
    {
     "data": {
      "text/html": [
       "<div>\n",
       "<style scoped>\n",
       "    .dataframe tbody tr th:only-of-type {\n",
       "        vertical-align: middle;\n",
       "    }\n",
       "\n",
       "    .dataframe tbody tr th {\n",
       "        vertical-align: top;\n",
       "    }\n",
       "\n",
       "    .dataframe thead th {\n",
       "        text-align: right;\n",
       "    }\n",
       "</style>\n",
       "<table border=\"1\" class=\"dataframe\">\n",
       "  <thead>\n",
       "    <tr style=\"text-align: right;\">\n",
       "      <th></th>\n",
       "      <th>hashtags</th>\n",
       "      <th>count</th>\n",
       "    </tr>\n",
       "  </thead>\n",
       "  <tbody>\n",
       "    <tr>\n",
       "      <th>19</th>\n",
       "      <td>#climate</td>\n",
       "      <td>184</td>\n",
       "    </tr>\n",
       "    <tr>\n",
       "      <th>17</th>\n",
       "      <td>#beforetheflood</td>\n",
       "      <td>145</td>\n",
       "    </tr>\n",
       "    <tr>\n",
       "      <th>46</th>\n",
       "      <td>#climatechange</td>\n",
       "      <td>104</td>\n",
       "    </tr>\n",
       "    <tr>\n",
       "      <th>13</th>\n",
       "      <td>#imvotingbecause</td>\n",
       "      <td>62</td>\n",
       "    </tr>\n",
       "    <tr>\n",
       "      <th>4</th>\n",
       "      <td>#cop22</td>\n",
       "      <td>50</td>\n",
       "    </tr>\n",
       "  </tbody>\n",
       "</table>\n",
       "</div>"
      ],
      "text/plain": [
       "            hashtags  count\n",
       "19          #climate    184\n",
       "17   #beforetheflood    145\n",
       "46    #climatechange    104\n",
       "13  #imvotingbecause     62\n",
       "4             #cop22     50"
      ]
     },
     "execution_count": 36,
     "metadata": {},
     "output_type": "execute_result"
    }
   ],
   "source": [
    "# count and arrange hashtags for the \"pro\" sentiment class\n",
    "hashtag_count(hashtags(pro_df)).head()"
   ]
  },
  {
   "cell_type": "code",
   "execution_count": 38,
   "metadata": {},
   "outputs": [
    {
     "data": {
      "text/html": [
       "<div>\n",
       "<style scoped>\n",
       "    .dataframe tbody tr th:only-of-type {\n",
       "        vertical-align: middle;\n",
       "    }\n",
       "\n",
       "    .dataframe tbody tr th {\n",
       "        vertical-align: top;\n",
       "    }\n",
       "\n",
       "    .dataframe thead th {\n",
       "        text-align: right;\n",
       "    }\n",
       "</style>\n",
       "<table border=\"1\" class=\"dataframe\">\n",
       "  <thead>\n",
       "    <tr style=\"text-align: right;\">\n",
       "      <th></th>\n",
       "      <th>hashtags</th>\n",
       "      <th>count</th>\n",
       "    </tr>\n",
       "  </thead>\n",
       "  <tbody>\n",
       "    <tr>\n",
       "      <th>18</th>\n",
       "      <td>#climate</td>\n",
       "      <td>344</td>\n",
       "    </tr>\n",
       "    <tr>\n",
       "      <th>23</th>\n",
       "      <td>#climatechange</td>\n",
       "      <td>188</td>\n",
       "    </tr>\n",
       "    <tr>\n",
       "      <th>21</th>\n",
       "      <td>#beforetheflood</td>\n",
       "      <td>154</td>\n",
       "    </tr>\n",
       "    <tr>\n",
       "      <th>51</th>\n",
       "      <td>#environment</td>\n",
       "      <td>73</td>\n",
       "    </tr>\n",
       "    <tr>\n",
       "      <th>143</th>\n",
       "      <td>#trump</td>\n",
       "      <td>70</td>\n",
       "    </tr>\n",
       "  </tbody>\n",
       "</table>\n",
       "</div>"
      ],
      "text/plain": [
       "            hashtags  count\n",
       "18          #climate    344\n",
       "23    #climatechange    188\n",
       "21   #beforetheflood    154\n",
       "51      #environment     73\n",
       "143           #trump     70"
      ]
     },
     "execution_count": 38,
     "metadata": {},
     "output_type": "execute_result"
    }
   ],
   "source": [
    "# Count and arrange hashtags for the \"news\" sentiment class\n",
    "hashtag_count(hashtags(news_df)).head()"
   ]
  },
  {
   "cell_type": "code",
   "execution_count": 39,
   "metadata": {},
   "outputs": [
    {
     "data": {
      "text/html": [
       "<div>\n",
       "<style scoped>\n",
       "    .dataframe tbody tr th:only-of-type {\n",
       "        vertical-align: middle;\n",
       "    }\n",
       "\n",
       "    .dataframe tbody tr th {\n",
       "        vertical-align: top;\n",
       "    }\n",
       "\n",
       "    .dataframe thead th {\n",
       "        text-align: right;\n",
       "    }\n",
       "</style>\n",
       "<table border=\"1\" class=\"dataframe\">\n",
       "  <thead>\n",
       "    <tr style=\"text-align: right;\">\n",
       "      <th></th>\n",
       "      <th>hashtags</th>\n",
       "      <th>count</th>\n",
       "    </tr>\n",
       "  </thead>\n",
       "  <tbody>\n",
       "    <tr>\n",
       "      <th>26</th>\n",
       "      <td>#climate</td>\n",
       "      <td>18</td>\n",
       "    </tr>\n",
       "    <tr>\n",
       "      <th>4</th>\n",
       "      <td>#climatechange</td>\n",
       "      <td>15</td>\n",
       "    </tr>\n",
       "    <tr>\n",
       "      <th>110</th>\n",
       "      <td>#trump</td>\n",
       "      <td>11</td>\n",
       "    </tr>\n",
       "    <tr>\n",
       "      <th>80</th>\n",
       "      <td>#beforetheflood</td>\n",
       "      <td>5</td>\n",
       "    </tr>\n",
       "    <tr>\n",
       "      <th>69</th>\n",
       "      <td>#amreading</td>\n",
       "      <td>4</td>\n",
       "    </tr>\n",
       "  </tbody>\n",
       "</table>\n",
       "</div>"
      ],
      "text/plain": [
       "            hashtags  count\n",
       "26          #climate     18\n",
       "4     #climatechange     15\n",
       "110           #trump     11\n",
       "80   #beforetheflood      5\n",
       "69        #amreading      4"
      ]
     },
     "execution_count": 39,
     "metadata": {},
     "output_type": "execute_result"
    }
   ],
   "source": [
    "# count and arrange hashtags for the \"neutral\" sentiment class\n",
    "hashtag_count(hashtags(neutral_df)).head()"
   ]
  },
  {
   "cell_type": "code",
   "execution_count": 40,
   "metadata": {},
   "outputs": [
    {
     "data": {
      "text/html": [
       "<div>\n",
       "<style scoped>\n",
       "    .dataframe tbody tr th:only-of-type {\n",
       "        vertical-align: middle;\n",
       "    }\n",
       "\n",
       "    .dataframe tbody tr th {\n",
       "        vertical-align: top;\n",
       "    }\n",
       "\n",
       "    .dataframe thead th {\n",
       "        text-align: right;\n",
       "    }\n",
       "</style>\n",
       "<table border=\"1\" class=\"dataframe\">\n",
       "  <thead>\n",
       "    <tr style=\"text-align: right;\">\n",
       "      <th></th>\n",
       "      <th>hashtags</th>\n",
       "      <th>count</th>\n",
       "    </tr>\n",
       "  </thead>\n",
       "  <tbody>\n",
       "    <tr>\n",
       "      <th>5</th>\n",
       "      <td>#maga</td>\n",
       "      <td>13</td>\n",
       "    </tr>\n",
       "    <tr>\n",
       "      <th>47</th>\n",
       "      <td>#climate</td>\n",
       "      <td>10</td>\n",
       "    </tr>\n",
       "    <tr>\n",
       "      <th>12</th>\n",
       "      <td>#trump</td>\n",
       "      <td>8</td>\n",
       "    </tr>\n",
       "    <tr>\n",
       "      <th>16</th>\n",
       "      <td>#climatechange</td>\n",
       "      <td>8</td>\n",
       "    </tr>\n",
       "    <tr>\n",
       "      <th>107</th>\n",
       "      <td>#globalwarming</td>\n",
       "      <td>5</td>\n",
       "    </tr>\n",
       "  </tbody>\n",
       "</table>\n",
       "</div>"
      ],
      "text/plain": [
       "           hashtags  count\n",
       "5             #maga     13\n",
       "47         #climate     10\n",
       "12           #trump      8\n",
       "16   #climatechange      8\n",
       "107  #globalwarming      5"
      ]
     },
     "execution_count": 40,
     "metadata": {},
     "output_type": "execute_result"
    }
   ],
   "source": [
    "# count and arrange hashtags for the \"Anti\" sentiment class\n",
    "hashtag_count(hashtags(anti_df)).head()"
   ]
  },
  {
   "cell_type": "markdown",
   "metadata": {},
   "source": [
    "It can be observed that three of the four categories (the Pro, News and Neutral sentiment categories), #Climate ranked highest as the most frequent hashtag, it ranked as second in the anti-class after the #maga hashtag. The \"#maga\" hashtag suggests that most of the anti sentiment posters are President Donald Trump supporters as MAGA is a Trump slogan which stands for Make America Great Again.\n",
    "\n",
    "**Create a Bar-plot to visualize hashtag count**\n",
    "\n",
    "Below is a function that returns a horizontal bar chart with the first 20 hashtags (in order and magnitude) of any data frame (that possesses the neccesary columns) parsed into it. We shall parse the dataframes from our 4 sentiment classes through the function in the following cells."
   ]
  },
  {
   "cell_type": "code",
   "execution_count": 65,
   "metadata": {},
   "outputs": [],
   "source": [
    "# Visualize the count \n",
    "def hastag_plot(df, x):\n",
    "    plt.figure(figsize=(12, 6))\n",
    "    ax = sns.barplot(data=df, y =df['hashtags'], x =df['count'], orient='h', color = 'blue') # Call the axes to specify the columns to be used \n",
    "    plt.title(x,fontsize=14) # Assign the plot title to the variable \"x\"\n",
    "    plt.xlabel('Hashtag Count') # Assign \"Hash tag count\" as the label for the horizontal axis (xlabel)\n",
    "    plt.ylabel('Hashtags Used') #Assign \"Hashtags Used\" as the label for the vertical axis (ylabel)\n",
    "    return plt.show()"
   ]
  },
  {
   "cell_type": "code",
   "execution_count": 67,
   "metadata": {},
   "outputs": [
    {
     "data": {
      "image/png": "[encoded data removed]",
      "text/plain": [
       "<Figure size 864x432 with 1 Axes>"
      ]
     },
     "metadata": {
      "needs_background": "light"
     },
     "output_type": "display_data"
    }
   ],
   "source": [
    "# top 20 hashtags for the \"News\" sentiment class\n",
    "hastag_plot(hashtag_count(hashtags(news_df)), x = 'Top 20 hashtags for News Sentiment')"
   ]
  },
  {
   "cell_type": "code",
   "execution_count": 68,
   "metadata": {},
   "outputs": [
    {
     "data": {
      "image/png": "[encoded data removed]",
      "text/plain": [
       "<Figure size 864x432 with 1 Axes>"
      ]
     },
     "metadata": {
      "needs_background": "light"
     },
     "output_type": "display_data"
    }
   ],
   "source": [
    "# Top 20 hashtags for the \"Pro\" sentiment class\n",
    "hastag_plot(hashtag_count(hashtags(pro_df)), x = 'Top 20 hashtags for Pro Sentiment')"
   ]
  },
  {
   "cell_type": "code",
   "execution_count": 69,
   "metadata": {},
   "outputs": [
    {
     "data": {
      "image/png": "[encoded data removed]",
      "text/plain": [
       "<Figure size 864x432 with 1 Axes>"
      ]
     },
     "metadata": {
      "needs_background": "light"
     },
     "output_type": "display_data"
    }
   ],
   "source": [
    "# Top 20 hashtags for the \"Anti\" sentiment class\n",
    "hastag_plot(hashtag_count(hashtags(anti_df)), x = 'Top 20 hashtags for Anti Sentiment')"
   ]
  },
  {
   "cell_type": "code",
   "execution_count": 70,
   "metadata": {},
   "outputs": [
    {
     "data": {
      "image/png": "[encoded data removed]",
      "text/plain": [
       "<Figure size 864x432 with 1 Axes>"
      ]
     },
     "metadata": {
      "needs_background": "light"
     },
     "output_type": "display_data"
    }
   ],
   "source": [
    "# Top 20 hashtags for the \"Neutral\" sentiment class\n",
    "hastag_plot(hashtag_count(hashtags(neutral_df)), x = 'Top 20 hashtags for Neutral Sentiment')"
   ]
  },
  {
   "cell_type": "markdown",
   "metadata": {},
   "source": [
    "\n"
   ]
  },
  {
   "cell_type": "markdown",
   "metadata": {},
   "source": [
    "<a id=\"three\"></a>\n",
    "# 3.0 Model Building and Evaluations\n",
    "In this section, we are going to build and evalaute various ML models and select the best one amongst them. Will attempt improving the performance of our models by hyper parameter tuning and we will evaluate the performance of these in our dataset:\n",
    "- Naive Bayes Classifier\n",
    "- SVC and LinearSVC\n",
    "- Logistic Regression\n",
    "- KNN\n",
    "- Decision Tree\n",
    "- Random Forests\n",
    "\n",
    "## 3.1 Feature Engineering\n",
    "We will be looking at two methods of generating features namely, `tfidfVectorizer` and `CountVectorizer`\n",
    "\n",
    "**TFIDF**\n",
    "\n",
    "**TF-IDF** stands for Term Frequency — Inverse Document Frequency and is a statistic that aims to better define how important a word is for a document, while also taking into account the relation to other documents from the same corpus.\n",
    "This is performed by looking at how many times a word appears into a document while also paying attention to how many times the same word appears in other documents in the corpus.\n",
    "\n",
    "**Vocabulary_** \n",
    "\n",
    "Is a dictionary that converts each word in the text to feature index in the matrix, each unique token gets a feature index.\n",
    "\n",
    "**CountVectorizer**\n",
    "\n",
    "The **CountVectorizer** provides a simple way to both tokenize a collection of text documents and build a vocabulary of known words, but also to encode new documents using that vocabulary by creating a matrix in which each unique word is represented by a column of the matrix, and each text sample from the document is a row in the matrix.\n",
    "\n",
    "\n"
   ]
  },
  {
   "cell_type": "code",
   "execution_count": 42,
   "metadata": {},
   "outputs": [],
   "source": [
    "# Data preprocessing for model building\n",
    "\n",
    "train = train.copy()         # assign data to be used as train data\n",
    "test = test.copy()           # assign test data\n",
    "normalizer = WordNetLemmatizer() # assign the Normalizer to be used "
   ]
  },
  {
   "cell_type": "code",
   "execution_count": 43,
   "metadata": {},
   "outputs": [],
   "source": [
    "# Define the function to replace sentiments\n",
    "def replace_sentiments(df):\n",
    "    \"\"\"\n",
    "    replace keywords in the tweets  with associated sentiments\n",
    "    \n",
    "    'global' ----> 'negative'\n",
    "    'climate' ----> 'positive'\n",
    "    'MAGA'----> 'negative'\n",
    "  \n",
    "    \"\"\"\n",
    "    df['message'] = df['message'].apply(lambda x: x.replace('global', 'negative')) \n",
    "    df['message'] = df['message'].apply(lambda x: x.replace('climate', 'positive'))\n",
    "    df['message'] = df['message'].apply(lambda x: x.replace('MAGA', 'negative')) \n",
    "\n",
    "    return df['message']"
   ]
  },
  {
   "cell_type": "code",
   "execution_count": 44,
   "metadata": {},
   "outputs": [],
   "source": [
    "# make replacements\n",
    "train['message'] = replace_sentiments(train)\n",
    "test['message'] = replace_sentiments(test)\n",
    "\n",
    "# cleaning tweets\n",
    "train['clean_tweets'] = clean_tweets(train)\n",
    "test['clean_tweets'] = clean_tweets(test)\n",
    "\n",
    "\n",
    "# lemmatize\n",
    "train['clean_tweets'] = train['clean_tweets'].apply(lambda x: [normalizer.lemmatize(token, POS(token)) for token in x])\n",
    "test['clean_tweets'] = test['clean_tweets'].apply(lambda x: [normalizer.lemmatize(token, POS(token)) for token in x])"
   ]
  },
  {
   "cell_type": "markdown",
   "metadata": {},
   "source": [
    "**Getting X and y features**"
   ]
  },
  {
   "cell_type": "code",
   "execution_count": 45,
   "metadata": {},
   "outputs": [],
   "source": [
    "# Define X train\n",
    "X = train['clean_tweets']\n",
    "\n",
    "# Define y train\n",
    "y = train['sentiment']\n",
    "\n",
    "# Define X_test\n",
    "X_test = test['clean_tweets']"
   ]
  },
  {
   "cell_type": "code",
   "execution_count": 46,
   "metadata": {},
   "outputs": [
    {
     "data": {
      "text/plain": [
       "0    [Europe, will, now, be, look, to, China, to, m...\n",
       "1    [Combine, this, with, the, poll, of, staffer, ...\n",
       "2    [The, scary, unimpeachable, evidence, that, po...\n",
       "3    [@Karoli, @morgfair, @OsborneInk, @dailykos, P...\n",
       "4    [RT, @FakeWillMoore, Female, orgasm, cause, ne...\n",
       "Name: clean_tweets, dtype: object"
      ]
     },
     "execution_count": 46,
     "metadata": {},
     "output_type": "execute_result"
    }
   ],
   "source": [
    "# Confirm that X_test has indeed been defined\n",
    "X_test.head()"
   ]
  },
  {
   "cell_type": "markdown",
   "metadata": {},
   "source": [
    "<a id=\"3.1\"></a>\n",
    "## 3.2 Train-test Split\n",
    "Separating data into training and validation sets is an important part of evaluating our models. In our case we will randomly split the train data into 90% train and 10% validation. After our model is trained with the train data we then use it to make predictions for the target using the validation set,Because the data in the validation set already contains known values for the target variable this will make it easy for us to asses our model's accuracy."
   ]
  },
  {
   "cell_type": "code",
   "execution_count": 47,
   "metadata": {},
   "outputs": [],
   "source": [
    "# Splitting the data into 90% train and 10% validation set\n",
    "X_train, X_val, y_train, y_val = train_test_split(X, y, test_size=0.1, random_state = 42)"
   ]
  },
  {
   "cell_type": "code",
   "execution_count": 48,
   "metadata": {},
   "outputs": [],
   "source": [
    "X_train = list(X_train.apply(' '.join))\n",
    "X_val = list(X_val.apply(' '.join))\n",
    "X_test = list(X_test.apply(' '.join))"
   ]
  },
  {
   "cell_type": "markdown",
   "metadata": {},
   "source": [
    "**Pipelines**\n",
    "\n",
    "A machine learning pipeline is a way to codify and automate the workflow it takes to produce a machine learning model. Machine learning pipelines consist of multiple sequential steps that do everything from data extraction and preprocessing to model training and deployment.\n",
    "\n",
    "Since our models can only process numerical data our first step is to build a pipeline that converts text data into numeric data, In this notebook we will be focusing on two methods of feature engineering, which we will use to convert text data to numeric data, namely `TfidfVectorizer` and the `CountVectorizer`, then we will train our models within these pipelines\n",
    "\n",
    "We will be building pipelines with features generated using both `tfidfVectorizer` and the `CountVectorizer`.\n",
    "\n",
    "**Building classification pipelines**\n",
    "\n",
    "In order to decide which feature extraction method we will use between the `TF-IDF` and the `CountVectorizer` for the remainder of the notebook, we will build pipelines using both methods and check which approach yields the highest accuracy on average. This will determine the method of vectorizatin that we would adopt for the rest of our work."
   ]
  },
  {
   "cell_type": "code",
   "execution_count": 49,
   "metadata": {},
   "outputs": [],
   "source": [
    "# decision Tree Classifier Pipeline\n",
    "tree_tfidf = Pipeline([('tfidf', TfidfVectorizer()),('tree', DecisionTreeClassifier()),])\n",
    "tree_count = Pipeline([('CountVec',  CountVectorizer(analyzer = 'word', \n",
    "                             tokenizer = None, \n",
    "                             preprocessor = None, \n",
    "                             stop_words = None, \n",
    "                             max_features = 180000,\n",
    "                             min_df = 1,\n",
    "                             ngram_range = (1,2)\n",
    "                            )),('tree', DecisionTreeClassifier()),])\n",
    "\n",
    "\n",
    "# Random Forest Classifier Pipeline\n",
    "rfc_tfidf = Pipeline([('tfidf', TfidfVectorizer()), ('rfc', RandomForestClassifier())])\n",
    "rfc_count = Pipeline([('CountVec',  CountVectorizer(analyzer = 'word', \n",
    "                             tokenizer = None, \n",
    "                             preprocessor = None, \n",
    "                             stop_words = None, \n",
    "                             max_features = 180000,\n",
    "                             min_df = 1,\n",
    "                             ngram_range = (1,2)\n",
    "                            )),('rfc', RandomForestClassifier()),])\n",
    "\n",
    "\n",
    "# LinearSVC Pipeline\n",
    "Lsvc_tfidf = Pipeline([('tfidf', TfidfVectorizer()),\n",
    "                     ('scv', LinearSVC()),])\n",
    "Lsvc_count = Pipeline([('CountVec',  CountVectorizer(analyzer = 'word', \n",
    "                             tokenizer = None, \n",
    "                             preprocessor = None, \n",
    "                             stop_words = None, \n",
    "                             max_features = 180000,\n",
    "                             min_df = 1,\n",
    "                             ngram_range = (1,2)\n",
    "                            )),('svc', LinearSVC()),])\n",
    "\n",
    "\n",
    "\n",
    "# Logistic Regression pipeline\n",
    "logreg_tfidf = Pipeline([('tfidf', TfidfVectorizer()),('logistic', LogisticRegression()),])\n",
    "logreg_count = Pipeline([('CountVec',  CountVectorizer(analyzer = 'word', \n",
    "                             tokenizer = None, \n",
    "                             preprocessor = None, \n",
    "                             stop_words = None, \n",
    "                             max_features = 180000,\n",
    "                             min_df = 1,\n",
    "                             ngram_range = (1,2)\n",
    "                            )),('logistic', LogisticRegression()),])\n",
    "\n",
    "\n",
    "\n",
    "# SGD Classifier pipeline\n",
    "SGD_tfidf = Pipeline([('tfidf', TfidfVectorizer()), ('SGD', SGDClassifier())])\n",
    "SGD_count = Pipeline([('CountVec',  CountVectorizer(analyzer = 'word', \n",
    "                             tokenizer = None, \n",
    "                             preprocessor = None, \n",
    "                             stop_words = None, \n",
    "                             max_features = 180000,\n",
    "                             min_df = 1,\n",
    "                             ngram_range = (1,2)\n",
    "                            )),('SGD', SGDClassifier()),])\n",
    "\n",
    "\n",
    "\n",
    "\n",
    "# Support Vector Classifier Pipeline\n",
    "svc_tfidf = Pipeline([('tfidf', TfidfVectorizer()), ('SVC', SVC())])\n",
    "svc_count = Pipeline([('CountVec',  CountVectorizer(analyzer = 'word', \n",
    "                             tokenizer = None, \n",
    "                             preprocessor = None, \n",
    "                             stop_words = None, \n",
    "                             max_features = 180000,\n",
    "                             min_df = 1,\n",
    "                             ngram_range = (1,2)\n",
    "                            )),('SVC', SVC()),])"
   ]
  },
  {
   "cell_type": "markdown",
   "metadata": {},
   "source": [
    "## 3.3 Training models\n",
    "Each model is trained using it's custom pipeline which will take raw text data turn it into numeric data and initial the classifier with default parameters."
   ]
  },
  {
   "cell_type": "code",
   "execution_count": 50,
   "metadata": {},
   "outputs": [
    {
     "data": {
      "text/plain": [
       "Pipeline(steps=[('CountVec',\n",
       "                 CountVectorizer(max_features=180000, ngram_range=(1, 2))),\n",
       "                ('SVC', SVC())])"
      ]
     },
     "execution_count": 50,
     "metadata": {},
     "output_type": "execute_result"
    }
   ],
   "source": [
    "# training the decision tree pipeline\n",
    "tree_tfidf.fit(X_train, y_train)\n",
    "tree_count.fit(X_train, y_train)\n",
    "\n",
    "# training the RandomForest pipleline\n",
    "rfc_tfidf.fit(X_train, y_train)\n",
    "rfc_count.fit(X_train, y_train)\n",
    "\n",
    "\n",
    "# training the LinearSVC pipeline\n",
    "Lsvc_tfidf.fit(X_train, y_train)\n",
    "Lsvc_count.fit(X_train, y_train)\n",
    "\n",
    "# # training the LGBMClassifier Pipleine\n",
    "# lgbm_tfidf.fit(X_train, y_train)\n",
    "# #lgbm_count.fit(X_train, y_train)\n",
    "\n",
    "# training the logistic regression pipeline\n",
    "logreg_tfidf.fit(X_train, y_train)\n",
    "logreg_count.fit(X_train, y_train)\n",
    "\n",
    "# training the SGD Classifier\n",
    "SGD_tfidf.fit(X_train, y_train)\n",
    "SGD_count.fit(X_train, y_train)\n",
    "\n",
    "# training the support vector classifier\n",
    "svc_tfidf.fit(X_train, y_train)\n",
    "svc_count.fit(X_train, y_train)"
   ]
  },
  {
   "cell_type": "markdown",
   "metadata": {},
   "source": [
    "Evaluate the model by assessing the accuracy score obtained using TFIDF and compare it to the accuracy score obtained from using CountVectorizer. This will enable us to identify the better performing feature engineering method to adopt."
   ]
  },
  {
   "cell_type": "code",
   "execution_count": 51,
   "metadata": {},
   "outputs": [],
   "source": [
    "# calculating average scores for the TFIDF on each built model\n",
    "tree_acc =  accuracy_score(y_val,tree_tfidf.predict(X_val))\n",
    "rfc_acc = accuracy_score(y_val,rfc_tfidf.predict(X_val))\n",
    "lsvc_acc = accuracy_score(y_val,Lsvc_tfidf.predict(X_val))\n",
    "log_acc = accuracy_score(y_val, logreg_tfidf.predict(X_val))\n",
    "sgd_acc = accuracy_score(y_val, SGD_tfidf.predict(X_val))\n",
    "svc_acc = accuracy_score(y_val, svc_tfidf.predict(X_val))\n",
    "\n",
    "# calculating the mean score for the TFIDF vectorizer\n",
    "tfidf_avg_accuracy = round(np.mean([tree_acc,rfc_acc,lsvc_acc,log_acc,sgd_acc,svc_acc]),4)"
   ]
  },
  {
   "cell_type": "code",
   "execution_count": 52,
   "metadata": {},
   "outputs": [],
   "source": [
    "# calculating average scores for the Count Vectorizer on each built model\n",
    "tree_acc =  accuracy_score(y_val,tree_count.predict(X_val))\n",
    "rfc_acc = accuracy_score(y_val,rfc_count.predict(X_val))\n",
    "lsvc_acc = accuracy_score(y_val,Lsvc_count.predict(X_val))\n",
    "log_acc = accuracy_score(y_val, logreg_count.predict(X_val))\n",
    "sgd_acc = accuracy_score(y_val, SGD_count.predict(X_val))\n",
    "svc_acc = accuracy_score(y_val, svc_count.predict(X_val))\n",
    "\n",
    "# Calculating the mean score for the count vectorizer\n",
    "CountVec = round(np.mean([tree_acc,rfc_acc,lsvc_acc,log_acc,sgd_acc,svc_acc]),4)"
   ]
  },
  {
   "cell_type": "code",
   "execution_count": 53,
   "metadata": {},
   "outputs": [
    {
     "data": {
      "image/png": "[encoded data removed]",
      "text/plain": [
       "<Figure size 576x576 with 1 Axes>"
      ]
     },
     "metadata": {
      "needs_background": "light"
     },
     "output_type": "display_data"
    }
   ],
   "source": [
    "# Plot a horizontal barchart displaying the average prediction accuracy score of Count Vectorizer and TFIDF\n",
    "accuracy_dict = {'TFIDF':[tfidf_avg_accuracy], 'CountVectorizer':[CountVec]}\n",
    "accuracy_df = pd.DataFrame(accuracy_dict)\n",
    "accuracy_df.T.plot(kind='bar', figsize = (8,8),legend = False)\n",
    "plt.xlabel('Avg Accuracy Score')\n",
    "plt.ylabel('Feature Engineering Method')\n",
    "plt.xticks(rotation = 0)\n",
    "plt.title('Average prediction accuracy score')\n",
    "plt.show()"
   ]
  },
  {
   "cell_type": "markdown",
   "metadata": {},
   "source": [
    "We can see from the chart above that on average  the models built using the `CountVectorizer` performed the best. Therefore, for the remainder of this notebook, we will generate our features using the `CountVectorizer`."
   ]
  },
  {
   "cell_type": "markdown",
   "metadata": {},
   "source": [
    "<a id=\"3.4\"></a>\n",
    "### 3.4 Model Evaluation and Performance\n",
    "\n",
    "**Model evalution**\n",
    "\n",
    "Model evaluation is the process of assessing your model to judge how well it performs in actually predicting the target value from the test data set once it is exposed to it. A models performance can be evaluated based on several metrics as we shall consider in the cells that follow.\n",
    "\n",
    "**Performance metrics for model evaluation**\n",
    "\n",
    "Below, we will consider the performance metrics that canbe used for model evaluation with the aim of deciding one that we will use or adopt for our model performance evaluation.\n",
    "\n",
    "**Precision**\n",
    "\n",
    "Precision is the ratio of correctly predicted positive observations to the total predicted positive observations\n",
    "\n",
    "$$ Precision = \\frac{TP}{TP \\space + FP} = \\frac{TP}{Total \\space Predicted \\space Positive} $$\n",
    "\n",
    "**Recall**\n",
    "\n",
    "The recall is intuitively the ability of the classifier to find all the positive samples\n",
    "\n",
    "$$ Recall = \\frac{TP}{TP \\space + FN} = \\frac{TP}{Total \\space Actual \\space Positive}$$\n",
    "\n",
    "**F1 Score**\n",
    "\n",
    "Weighted average of precision and recall. \n",
    "\n",
    "$$F_1 = 2 \\times \\frac {Precision \\space \\times \\space Recall }{Precision \\space + \\space Recall }$$\n",
    "\n",
    "Since the F1 score is takes into account both the precision and recall (both important matrices to consider), we shall be adopting the F1 score as the performance evaluation metric of choice for the purpose of this excercise. We will evaluate our models using the the F1 Score which is the weighted average of precision and recall. \n",
    "To evaluate the base models we first start with making predictions for the validation set."
   ]
  },
  {
   "cell_type": "code",
   "execution_count": 54,
   "metadata": {},
   "outputs": [],
   "source": [
    "# Making validations set predicions\n",
    "\n",
    "tree_prediction = tree_count.predict(X_val)     # DecisionTreeClassifier predictions\n",
    "rfc_prediction = rfc_count.predict(X_val)       # RandomForestClassifier predictions\n",
    "Lsvc_prediction = Lsvc_count.predict(X_val)     # LinearSVClassifier Predictions\n",
    "logreg_prediction = logreg_count.predict(X_val) # Logistic regression predictions\n",
    "SGD_prediction = SGD_count.predict(X_val)       # SGD Classifier predictions\n",
    "SVC_prediction = svc_count.predict(X_val)       # Support vector machine predictions"
   ]
  },
  {
   "cell_type": "markdown",
   "metadata": {},
   "source": [
    "### 3.4.1 Evalution of DecisionTreeClassifier\n",
    "\n",
    "**Confusion Matrix**\n",
    "\n",
    "A confusion matrix is a table that is used to define the performance of a classification algorithm. A confusion matrix visualizes and summarizes the performance of a classification algorithm showing where the model classifies the target correctly or wrongly. It is useful in evaluating a models performance as it not only tells that a model is performing well or poorly, but also tells you the false positives and the false negatives in the predictions of a particular model.\n",
    "\n",
    "**Print out the confusion matrix**"
   ]
  },
  {
   "cell_type": "code",
   "execution_count": 55,
   "metadata": {},
   "outputs": [
    {
     "name": "stdout",
     "output_type": "stream",
     "text": [
      "[[ 42  21  55   8]\n",
      " [ 16  91  98  19]\n",
      " [ 31  67 692 105]\n",
      " [  5  10  85 237]]\n"
     ]
    }
   ],
   "source": [
    "print(confusion_matrix(y_val, tree_prediction))"
   ]
  },
  {
   "cell_type": "markdown",
   "metadata": {},
   "source": [
    "**Key Observations**"
   ]
  },
  {
   "cell_type": "code",
   "execution_count": 56,
   "metadata": {},
   "outputs": [
    {
     "name": "stdout",
     "output_type": "stream",
     "text": [
      "\n",
      "Decision Tree\n",
      "               precision    recall  f1-score   support\n",
      "\n",
      "          -1       0.45      0.33      0.38       126\n",
      "           0       0.48      0.41      0.44       224\n",
      "           1       0.74      0.77      0.76       895\n",
      "           2       0.64      0.70      0.67       337\n",
      "\n",
      "    accuracy                           0.67      1582\n",
      "   macro avg       0.58      0.55      0.56      1582\n",
      "weighted avg       0.66      0.67      0.66      1582\n",
      "\n"
     ]
    },
    {
     "data": {
      "image/png": "[encoded data removed]",
      "text/plain": [
       "<Figure size 576x576 with 2 Axes>"
      ]
     },
     "metadata": {
      "needs_background": "light"
     },
     "output_type": "display_data"
    }
   ],
   "source": [
    "# Print out the classification report of the Decision tree model and plot the confusion matrix\n",
    "print('\\nDecision Tree\\n', classification_report(y_val, tree_prediction))\n",
    "plot_confusion_matrix(y_val, tree_prediction, normalize=True,figsize=(8,8),cmap='Blues')\n",
    "plt.title('Decision Tree Confusion Matrix')\n",
    "plt.show()"
   ]
  },
  {
   "cell_type": "markdown",
   "metadata": {},
   "source": [
    "**Key Observations**\n",
    "\n",
    "A Classification report is used to measure the quality of predictions from a classification algorithm.\n",
    "\n",
    "+ Anti Climate Change \n",
    "+ Neutral \n",
    "+ Pro\n",
    "+ News\n",
    "\n",
    "\n",
    "The confusion matrix heatmap shows the recall score for each sentiment class."
   ]
  },
  {
   "cell_type": "code",
   "execution_count": 57,
   "metadata": {},
   "outputs": [
    {
     "data": {
      "image/png": "[encoded data removed]",
      "text/plain": [
       "<Figure size 576x576 with 1 Axes>"
      ]
     },
     "metadata": {
      "needs_background": "light"
     },
     "output_type": "display_data"
    }
   ],
   "source": [
    "## visual represetation of of the f1 score for each class\n",
    "report_tree = classification_report(y_val, tree_prediction, output_dict=True)\n",
    "df_tree = pd.DataFrame(report_tree).transpose()\n",
    "df_tree.drop(['accuracy'], inplace = True)\n",
    "df_tree.sort_values(by=['f1-score'],ascending=True, inplace = True)\n",
    "df_tree.drop(['weighted avg','macro avg'])['f1-score'].plot(kind='bar', figsize = (8,8))\n",
    "plt.xlabel('f1-score')\n",
    "plt.ylabel('sentiment class')\n",
    "plt.xticks(rotation = 0)\n",
    "plt.title('f1-score per sentiment class for Decision Tree Classiffier')\n",
    "plt.show()"
   ]
  },
  {
   "cell_type": "markdown",
   "metadata": {},
   "source": [
    "**Key Observations**\n",
    "\n",
    "The above bar graph shows the f1 score for each sentiment class using the Decision Tree classifier\n",
    "- We see that the decision tree model did a very good job at classifiying `Pro` sentiment class, followed by `News` and `Neutral` respectively.\n",
    "- The Decision Tree classifier did a poor job at classifiying `Anti climate Change` tweets with an f1 score that is below 0.4.\n",
    "- Poor classification of `Anti climate change` tweets is expected given the imbalance in our train data where we see that `Anti climate change` tweets only account for 8% of all tweets in the train dataset."
   ]
  },
  {
   "cell_type": "code",
   "execution_count": 58,
   "metadata": {},
   "outputs": [
    {
     "name": "stdout",
     "output_type": "stream",
     "text": [
      "\n",
      "Overall accuracy score for Decision Tree : 0.6713\n",
      "\n",
      "Weighted avg f1 score Decision Tree 0.6649\n"
     ]
    }
   ],
   "source": [
    "# Print the overall accuracy\n",
    "decision_tree_acc = round(accuracy_score(y_val, tree_prediction),4)\n",
    "print(f'\\nOverall accuracy score for Decision Tree : {decision_tree_acc}')\n",
    "decision_tree_f1 = round(f1_score(y_val, tree_prediction, average=\"weighted\"),4)\n",
    "print(f'\\nWeighted avg f1 score Decision Tree {decision_tree_f1}' )"
   ]
  },
  {
   "cell_type": "markdown",
   "metadata": {},
   "source": [
    "Overal the Decision Tree classifier did a poor job at classifying the sentiments, achieving the accuracy score of 0.6568 and a weighted F1 score of 0.6492"
   ]
  },
  {
   "cell_type": "markdown",
   "metadata": {},
   "source": [
    "### 3.4.2 Evalution of RandomForestClassifier"
   ]
  },
  {
   "cell_type": "code",
   "execution_count": 59,
   "metadata": {},
   "outputs": [
    {
     "name": "stdout",
     "output_type": "stream",
     "text": [
      "\n",
      "RandomForestClassifier\n",
      " [[ 25  15  80   6]\n",
      " [  0  71 149   4]\n",
      " [  0  17 827  51]\n",
      " [  0   6  91 240]]\n"
     ]
    }
   ],
   "source": [
    "print('\\nRandomForestClassifier\\n', confusion_matrix(y_val, rfc_prediction))"
   ]
  },
  {
   "cell_type": "code",
   "execution_count": 60,
   "metadata": {},
   "outputs": [
    {
     "name": "stdout",
     "output_type": "stream",
     "text": [
      "\n",
      "RandomForestClassifier\n",
      "               precision    recall  f1-score   support\n",
      "\n",
      "          -1       1.00      0.20      0.33       126\n",
      "           0       0.65      0.32      0.43       224\n",
      "           1       0.72      0.92      0.81       895\n",
      "           2       0.80      0.71      0.75       337\n",
      "\n",
      "    accuracy                           0.74      1582\n",
      "   macro avg       0.79      0.54      0.58      1582\n",
      "weighted avg       0.75      0.74      0.71      1582\n",
      "\n"
     ]
    },
    {
     "data": {
      "image/png": "[encoded data removed]",
      "text/plain": [
       "<Figure size 576x576 with 2 Axes>"
      ]
     },
     "metadata": {
      "needs_background": "light"
     },
     "output_type": "display_data"
    }
   ],
   "source": [
    "print('\\nRandomForestClassifier\\n', classification_report(y_val, rfc_prediction))\n",
    "plot_confusion_matrix(y_val, rfc_prediction, normalize=True,figsize=(8,8),cmap='Blues')\n",
    "plt.title('Random Forest Classification')\n",
    "plt.show()"
   ]
  },
  {
   "cell_type": "code",
   "execution_count": 61,
   "metadata": {},
   "outputs": [
    {
     "data": {
      "image/png": "[encoded data removed]",
      "text/plain": [
       "<Figure size 576x576 with 1 Axes>"
      ]
     },
     "metadata": {
      "needs_background": "light"
     },
     "output_type": "display_data"
    }
   ],
   "source": [
    "# Visual represetation of of the f1 score for each class\n",
    "report_rfc = classification_report(y_val, rfc_prediction, output_dict=True)\n",
    "df_rfc = pd.DataFrame(report_rfc).transpose()\n",
    "df_rfc.drop(['accuracy'], inplace = True)\n",
    "df_rfc.sort_values(by=['f1-score'],ascending=True, inplace = True)\n",
    "df_rfc.drop(['weighted avg','macro avg'])['f1-score'].plot(kind='bar', figsize = (8,8))\n",
    "plt.xlabel('f1-score')\n",
    "plt.ylabel('Classes')\n",
    "plt.xticks(rotation = 0)\n",
    "plt.title('F1-score per sentiment class for Random Forest Classiffier')\n",
    "plt.show()"
   ]
  },
  {
   "cell_type": "markdown",
   "metadata": {},
   "source": [
    "**Key Observations**\n",
    "\n",
    "The above bar graph shows the F1-score for each sentiment class using the Random Forest classifier\n",
    "- We see that the Random Forest model did a better job at classifiying `Pro` sentiment class  and  `News`  comapred to the Decision tree model, with both the `Pro` and `News` sentimetents with an F1-score of  0.80 and 76 respectively.  \n",
    "- However even though the Random Forest classifier did a better job with `Pro` and `News` sentiment classes, the classifer perfomred poorly on `Neutral` and `Anti` sentiments with both sentiments having an F1-score below 0.5"
   ]
  },
  {
   "cell_type": "code",
   "execution_count": 62,
   "metadata": {},
   "outputs": [
    {
     "name": "stdout",
     "output_type": "stream",
     "text": [
      "\n",
      "Overal accuracy score for RandomForestClassifier :0.7351\n",
      "\n",
      "Weighted f1 score for RandomForestClassifier : 0.7053\n"
     ]
    }
   ],
   "source": [
    "# accuracy evaluations\n",
    "\n",
    "random_forest_acc = round(accuracy_score(y_val, rfc_prediction),4)\n",
    "print(f'\\nOveral accuracy score for RandomForestClassifier :{random_forest_acc}')\n",
    "random_forest_f1 = round(f1_score(y_val, rfc_prediction, average=\"weighted\"),4)\n",
    "print(f'\\nWeighted f1 score for RandomForestClassifier : {random_forest_f1}')"
   ]
  },
  {
   "cell_type": "markdown",
   "metadata": {},
   "source": [
    "Obviously, the overall accuracy and weighted F1-score for the Random Forest Classifier is better compared to that of the Decision Tree classifier, making the Random Forest classifier the best model this far."
   ]
  },
  {
   "cell_type": "markdown",
   "metadata": {},
   "source": [
    "### 3.4.3 Evaluation of LinearSVClassifier"
   ]
  },
  {
   "cell_type": "code",
   "execution_count": 63,
   "metadata": {},
   "outputs": [
    {
     "name": "stdout",
     "output_type": "stream",
     "text": [
      "\n",
      "LinearSVC Model\n",
      " [[ 68  16  40   2]\n",
      " [ 10 117  86  11]\n",
      " [ 11  42 782  60]\n",
      " [  2   8  46 281]]\n"
     ]
    }
   ],
   "source": [
    "print('\\nLinearSVC Model\\n', confusion_matrix(y_val, Lsvc_prediction))"
   ]
  },
  {
   "cell_type": "code",
   "execution_count": 64,
   "metadata": {},
   "outputs": [
    {
     "name": "stdout",
     "output_type": "stream",
     "text": [
      "\n",
      "LinearSVC Model\n",
      "               precision    recall  f1-score   support\n",
      "\n",
      "          -1       0.75      0.54      0.63       126\n",
      "           0       0.64      0.52      0.57       224\n",
      "           1       0.82      0.87      0.85       895\n",
      "           2       0.79      0.83      0.81       337\n",
      "\n",
      "    accuracy                           0.79      1582\n",
      "   macro avg       0.75      0.69      0.72      1582\n",
      "weighted avg       0.78      0.79      0.78      1582\n",
      "\n"
     ]
    },
    {
     "data": {
      "image/png": "[encoded data removed]",
      "text/plain": [
       "<Figure size 576x576 with 2 Axes>"
      ]
     },
     "metadata": {
      "needs_background": "light"
     },
     "output_type": "display_data"
    }
   ],
   "source": [
    "print('\\nLinearSVC Model\\n', classification_report(y_val, Lsvc_prediction))\n",
    "plot_confusion_matrix(y_val, Lsvc_prediction, normalize=True,figsize=(8,8),cmap='Blues')\n",
    "plt.title('LinearSCV Classification')\n",
    "plt.show()"
   ]
  },
  {
   "cell_type": "code",
   "execution_count": 65,
   "metadata": {},
   "outputs": [
    {
     "data": {
      "image/png": "[encoded data removed]",
      "text/plain": [
       "<Figure size 576x576 with 1 Axes>"
      ]
     },
     "metadata": {
      "needs_background": "light"
     },
     "output_type": "display_data"
    }
   ],
   "source": [
    "# visual represetation of of the f1-score for each class\n",
    "report_svc = classification_report(y_val, Lsvc_prediction, output_dict=True)\n",
    "df_svc = pd.DataFrame(report_svc).transpose()\n",
    "df_svc.drop(['accuracy'], inplace = True)\n",
    "df_svc.sort_values(by=['f1-score'],ascending=True, inplace = True)\n",
    "df_svc.drop(['weighted avg','macro avg'])['f1-score'].plot(kind='bar', figsize = (8,8))\n",
    "plt.xlabel('F1-score')\n",
    "plt.ylabel('Classes')\n",
    "plt.xticks(rotation = 0)\n",
    "plt.title('F1-score per sentiment class for LinearSVC ')\n",
    "plt.show()"
   ]
  },
  {
   "cell_type": "markdown",
   "metadata": {},
   "source": [
    "**Key observations**\n",
    "\n",
    "The above bar graph shows the F1-score for each sentiment class using the LinearSVC\n",
    "- We see that the LinearSVC model did a far better job at classifiying `Pro` and `News` sentiment classes compared to `Decision Tree` and `RandomForest` models  with both classes achieving an F1-score of 0.85 and 0.81 respectively\n",
    "- The LinearSVC model also did a far better job at classifying `Anti` sentiment class comapred to both the Decision tree and the Randrom Forest.\n",
    "- There was a slight improvement in the classification of `neutral` tweets with the LinearSVC, which is by far overshadowed by the improvements we see in other sentiments classes\n",
    "- The LinearSVC has done a better job overall in classifying the sentiments, we see that `Anti` and `Neutral` sentiments have almost the same score, same applies with `Pro` and `News` sentiments which is consistent with the distribution of the data between the sentiment classes"
   ]
  },
  {
   "cell_type": "code",
   "execution_count": 66,
   "metadata": {},
   "outputs": [
    {
     "name": "stdout",
     "output_type": "stream",
     "text": [
      "\n",
      "Overall accuracy score for LinearSVC Model : 0.7889\n",
      "\n",
      "Weighted avg f1 score for LinearSVC Model : 0.7831\n"
     ]
    }
   ],
   "source": [
    "linearSVC_acc = round(accuracy_score(y_val, Lsvc_prediction),4)\n",
    "print(f'\\nOverall accuracy score for LinearSVC Model : {linearSVC_acc}')\n",
    "linearSVC_f1 = round(f1_score(y_val, Lsvc_prediction, average=\"weighted\"),4)\n",
    "print(f'\\nWeighted avg f1 score for LinearSVC Model : {linearSVC_f1}')"
   ]
  },
  {
   "cell_type": "markdown",
   "metadata": {},
   "source": [
    "We notice here that LinearSVC is the best so far, achieving an accuracy score of 0.7876 and a weighted F1-score of 0.7817."
   ]
  },
  {
   "cell_type": "markdown",
   "metadata": {},
   "source": [
    "### 3.4.4 Evaluation of Logistic Regression"
   ]
  },
  {
   "cell_type": "code",
   "execution_count": 67,
   "metadata": {},
   "outputs": [
    {
     "name": "stdout",
     "output_type": "stream",
     "text": [
      "\n",
      "Logistic Regression\n",
      " [[ 65  17  41   3]\n",
      " [ 10 111  93  10]\n",
      " [ 11  37 789  58]\n",
      " [  1   5  54 277]]\n"
     ]
    }
   ],
   "source": [
    "# Report the confusion matrix\n",
    "print('\\nLogistic Regression\\n', confusion_matrix(y_val, logreg_prediction))"
   ]
  },
  {
   "cell_type": "code",
   "execution_count": 68,
   "metadata": {},
   "outputs": [
    {
     "name": "stdout",
     "output_type": "stream",
     "text": [
      "\n",
      "Logistic Regression\n",
      "               precision    recall  f1-score   support\n",
      "\n",
      "          -1       0.75      0.52      0.61       126\n",
      "           0       0.65      0.50      0.56       224\n",
      "           1       0.81      0.88      0.84       895\n",
      "           2       0.80      0.82      0.81       337\n",
      "\n",
      "    accuracy                           0.79      1582\n",
      "   macro avg       0.75      0.68      0.71      1582\n",
      "weighted avg       0.78      0.79      0.78      1582\n",
      "\n"
     ]
    },
    {
     "data": {
      "image/png": "[encoded data removed]",
      "text/plain": [
       "<Figure size 576x576 with 2 Axes>"
      ]
     },
     "metadata": {
      "needs_background": "light"
     },
     "output_type": "display_data"
    }
   ],
   "source": [
    "# print a classification report\n",
    "print('\\nLogistic Regression\\n', classification_report(y_val, logreg_prediction))\n",
    "plot_confusion_matrix(y_val, logreg_prediction, normalize=True,figsize=(8,8),cmap='Blues')\n",
    "plt.title('Logistic Regression Classification')\n",
    "plt.show()"
   ]
  },
  {
   "cell_type": "code",
   "execution_count": 69,
   "metadata": {},
   "outputs": [
    {
     "data": {
      "image/png": "[encoded data removed]",
      "text/plain": [
       "<Figure size 576x576 with 1 Axes>"
      ]
     },
     "metadata": {
      "needs_background": "light"
     },
     "output_type": "display_data"
    }
   ],
   "source": [
    "# Visual represetation of of the f1 score for each class\n",
    "report_logreg = classification_report(y_val, logreg_prediction, output_dict=True)\n",
    "df_logreg = pd.DataFrame(report_logreg).transpose()\n",
    "df_logreg.drop(['accuracy'], inplace = True)\n",
    "df_logreg.sort_values(by=['f1-score'],ascending=True, inplace = True)\n",
    "df_logreg.drop(['weighted avg','macro avg'])['f1-score'].plot(kind='bar', figsize = (8,8))\n",
    "plt.xlabel('f1-score')\n",
    "plt.ylabel('Classes')\n",
    "plt.xticks(rotation = 0)\n",
    "plt.title('F1-score per sentiment class for Logistic Regression')\n",
    "plt.show()"
   ]
  },
  {
   "cell_type": "markdown",
   "metadata": {},
   "source": [
    "**Key observations**\n",
    "\n",
    "The above bar graph shows the F1-score for each sentiment class using Logistic Regression\n",
    "- The Random Forest Classifier performed almost as good as the LinearSVC at classifying each sentiment class with `Pro` and `News` sentiment class achieving F1-scores of 84 and 81 respetively"
   ]
  },
  {
   "cell_type": "code",
   "execution_count": 70,
   "metadata": {},
   "outputs": [
    {
     "name": "stdout",
     "output_type": "stream",
     "text": [
      "\n",
      "Logistic Regression accuracy Score\n",
      " 0.7851\n",
      "\n",
      "Logistic Regression weighted f1 score\n",
      " 0.7776\n"
     ]
    }
   ],
   "source": [
    "# Print the overall accuracy\n",
    "logistic_reg_acc = round(accuracy_score(y_val, logreg_prediction),4)\n",
    "print('\\nLogistic Regression accuracy Score\\n', logistic_reg_acc)\n",
    "logistic_reg_f1 = round(f1_score(y_val, logreg_prediction, average=\"weighted\"),4)\n",
    "print('\\nLogistic Regression weighted f1 score\\n', logistic_reg_f1)"
   ]
  },
  {
   "cell_type": "markdown",
   "metadata": {},
   "source": [
    "Overal the Logistic Regression classifier achieved the highest accuracy of 0.7838 and the highest wighted F1-score of 0.7764 which makes it the best model we've tried this far.\n",
    "\n",
    "### 3.4.5 Evaluation of SGD Classifier"
   ]
  },
  {
   "cell_type": "code",
   "execution_count": 71,
   "metadata": {},
   "outputs": [
    {
     "name": "stdout",
     "output_type": "stream",
     "text": [
      "\n",
      "SGD Classifier\n",
      " [[ 67  20  34   5]\n",
      " [ 16 112  84  12]\n",
      " [ 19  33 773  70]\n",
      " [  2   5  44 286]]\n"
     ]
    }
   ],
   "source": [
    "# Confusion matrix for the random forest classifier\n",
    "print('\\nSGD Classifier\\n', confusion_matrix(y_val, SGD_prediction))"
   ]
  },
  {
   "cell_type": "code",
   "execution_count": 72,
   "metadata": {},
   "outputs": [
    {
     "name": "stdout",
     "output_type": "stream",
     "text": [
      "\n",
      "SGD Classifier  Classification report :\n",
      "               precision    recall  f1-score   support\n",
      "\n",
      "          -1       0.64      0.53      0.58       126\n",
      "           0       0.66      0.50      0.57       224\n",
      "           1       0.83      0.86      0.84       895\n",
      "           2       0.77      0.85      0.81       337\n",
      "\n",
      "    accuracy                           0.78      1582\n",
      "   macro avg       0.72      0.69      0.70      1582\n",
      "weighted avg       0.78      0.78      0.78      1582\n",
      "\n"
     ]
    },
    {
     "data": {
      "image/png": "[encoded data removed]",
      "text/plain": [
       "<Figure size 576x576 with 2 Axes>"
      ]
     },
     "metadata": {
      "needs_background": "light"
     },
     "output_type": "display_data"
    }
   ],
   "source": [
    "# The classification report \n",
    "print('\\nSGD Classifier  Classification report :\\n', classification_report(y_val, SGD_prediction))\n",
    "plot_confusion_matrix(y_val, SGD_prediction, normalize=True,figsize=(8,8),cmap='Blues')\n",
    "plt.title('Logistic Regression Classification')\n",
    "plt.show()"
   ]
  },
  {
   "cell_type": "code",
   "execution_count": 74,
   "metadata": {},
   "outputs": [
    {
     "data": {
      "image/png": "[encoded data removed]",
      "text/plain": [
       "<Figure size 576x576 with 1 Axes>"
      ]
     },
     "metadata": {
      "needs_background": "light"
     },
     "output_type": "display_data"
    }
   ],
   "source": [
    "# Visual represetation of of the f1 score for each class\n",
    "report_sgd = classification_report(y_val, SGD_prediction, output_dict=True)\n",
    "df_sgd = pd.DataFrame(report_sgd).transpose()\n",
    "df_sgd.drop(['accuracy'], inplace = True)\n",
    "df_sgd.sort_values(by=['f1-score'],ascending=True, inplace = True)\n",
    "df_sgd.drop(['weighted avg','macro avg'])['f1-score'].plot(kind='bar', figsize = (8,8))\n",
    "plt.xlabel('f1-score')\n",
    "plt.ylabel('Classes')\n",
    "plt.xticks(rotation = 0)\n",
    "plt.title('f1-score per sentiment class for SGD')\n",
    "plt.show()"
   ]
  },
  {
   "cell_type": "markdown",
   "metadata": {},
   "source": [
    "**Key observations**\n",
    "\n",
    "The above bar graph shows the F1-score for each sentiment class using  Stochastic Gradient Descent classifier.\n",
    "- The SGD classifier is just as good at classifying `Pro` sentiment classs as the LinearSVC both achieving an f1 score of 0.84 however falls short in classifying the rest of the sentiment classes"
   ]
  },
  {
   "cell_type": "code",
   "execution_count": 76,
   "metadata": {},
   "outputs": [
    {
     "name": "stdout",
     "output_type": "stream",
     "text": [
      "\n",
      "SGD Classifier accuracy score :\n",
      " 0.7826\n",
      "\n",
      "SGD weighted average F1-score :\n",
      " 0.7765\n"
     ]
    }
   ],
   "source": [
    "# checking the accuracy score\n",
    "sgd_acc = round(accuracy_score(y_val, SGD_prediction),4)\n",
    "print('\\nSGD Classifier accuracy score :\\n', sgd_acc)\n",
    "\n",
    "# checking the f1-score report for the decison tree model\n",
    "sgd_f1 = round(f1_score(y_val, SGD_prediction, average=\"weighted\"),4)\n",
    "print('\\nSGD weighted average F1-score :\\n', sgd_f1)"
   ]
  },
  {
   "cell_type": "markdown",
   "metadata": {},
   "source": [
    "The overall accuracy score of the SGD classifier is 0.7826 and the wighted f1 score of 0.7763 as seen above."
   ]
  },
  {
   "cell_type": "markdown",
   "metadata": {},
   "source": [
    "### 3.4.6 Support Vector Classifier Evaluations"
   ]
  },
  {
   "cell_type": "code",
   "execution_count": 77,
   "metadata": {},
   "outputs": [
    {
     "name": "stdout",
     "output_type": "stream",
     "text": [
      "\n",
      "Support Vector Classifier\n",
      " [[ 37  19  62   8]\n",
      " [  4  90 117  13]\n",
      " [  3  25 764 103]\n",
      " [  0   4  47 286]]\n"
     ]
    }
   ],
   "source": [
    "# confusion matrix for the random forest classifier\n",
    "print('\\nSupport Vector Classifier\\n', confusion_matrix(y_val, SVC_prediction))"
   ]
  },
  {
   "cell_type": "code",
   "execution_count": 78,
   "metadata": {},
   "outputs": [
    {
     "name": "stdout",
     "output_type": "stream",
     "text": [
      "\n",
      "Support Vector Classifier  Classification report :\n",
      "               precision    recall  f1-score   support\n",
      "\n",
      "          -1       0.84      0.29      0.44       126\n",
      "           0       0.65      0.40      0.50       224\n",
      "           1       0.77      0.85      0.81       895\n",
      "           2       0.70      0.85      0.77       337\n",
      "\n",
      "    accuracy                           0.74      1582\n",
      "   macro avg       0.74      0.60      0.63      1582\n",
      "weighted avg       0.74      0.74      0.73      1582\n",
      "\n"
     ]
    },
    {
     "data": {
      "image/png": "[encoded data removed]",
      "text/plain": [
       "<Figure size 576x576 with 2 Axes>"
      ]
     },
     "metadata": {
      "needs_background": "light"
     },
     "output_type": "display_data"
    }
   ],
   "source": [
    "# the classification report \n",
    "print('\\nSupport Vector Classifier  Classification report :\\n', classification_report(y_val, SVC_prediction))\n",
    "plot_confusion_matrix(y_val, SVC_prediction, normalize=True,figsize=(8,8),cmap='Blues')\n",
    "plt.title('Support Vector Classification')\n",
    "plt.show()"
   ]
  },
  {
   "cell_type": "code",
   "execution_count": 80,
   "metadata": {},
   "outputs": [
    {
     "data": {
      "image/png": "[encoded data removed]",
      "text/plain": [
       "<Figure size 576x576 with 1 Axes>"
      ]
     },
     "metadata": {
      "needs_background": "light"
     },
     "output_type": "display_data"
    }
   ],
   "source": [
    "# visual represetation of of the f1-score for each class\n",
    "report_svc = classification_report(y_val, SVC_prediction, output_dict=True)\n",
    "df_SVC = pd.DataFrame(report_svc).transpose()\n",
    "df_SVC.drop(['accuracy'], inplace = True)\n",
    "df_SVC.sort_values(by=['f1-score'],ascending=True, inplace = True)\n",
    "df_SVC.drop(['weighted avg','macro avg'])['f1-score'].plot(kind='bar', figsize = (8,8))\n",
    "plt.xlabel('f1-score')\n",
    "plt.ylabel('Classes')\n",
    "plt.xticks(rotation = 0)\n",
    "plt.title('F1-score per sentiment class for SVC')\n",
    "plt.show()"
   ]
  },
  {
   "cell_type": "markdown",
   "metadata": {},
   "source": [
    "**Key observations**\n",
    "\n",
    "The above bar graph shows the f1-score for each sentiment class using the Support Vector Classifier(SVC)\n",
    "- Much like the `LinearSVC` we see that the  the `SVC` does a really good job at classifying `Pro` sentiment class with a score of 0.81, followed by the `News` sentiment class with an f1 score of over 0.77.\n",
    "- Unlike most of the models we've build this far, the Support Vector Classifier struggle more with classifying the `Anti`sentiment class"
   ]
  },
  {
   "cell_type": "code",
   "execution_count": 81,
   "metadata": {},
   "outputs": [
    {
     "name": "stdout",
     "output_type": "stream",
     "text": [
      "\n",
      "Support Vector Classifier accuracy Score : 0.744\n",
      "\n",
      "Support Vector Classifier weighted avg f1 score : 0.7268\n"
     ]
    }
   ],
   "source": [
    "# checking the accuracy score\n",
    "svc_acc = round(accuracy_score(y_val, SVC_prediction),4)\n",
    "print(f'\\nSupport Vector Classifier accuracy Score : {svc_acc}')\n",
    "svc_f1 = round(f1_score(y_val, SVC_prediction, average=\"weighted\"),4)\n",
    "print(f'\\nSupport Vector Classifier weighted avg f1 score : {svc_f1}')"
   ]
  },
  {
   "cell_type": "markdown",
   "metadata": {},
   "source": [
    "The Support Vector Classifer achieves an accuracy score of 0.74 and the f1 score of 0.72"
   ]
  },
  {
   "cell_type": "markdown",
   "metadata": {},
   "source": [
    "## 3.5 Model Comparison\n",
    "In this section, we are going to compare all our models in terms of `accuracy` and `F1-score` with the view of choosing the best amongst them."
   ]
  },
  {
   "cell_type": "code",
   "execution_count": 82,
   "metadata": {},
   "outputs": [
    {
     "data": {
      "text/html": [
       "<div>\n",
       "<style scoped>\n",
       "    .dataframe tbody tr th:only-of-type {\n",
       "        vertical-align: middle;\n",
       "    }\n",
       "\n",
       "    .dataframe tbody tr th {\n",
       "        vertical-align: top;\n",
       "    }\n",
       "\n",
       "    .dataframe thead th {\n",
       "        text-align: right;\n",
       "    }\n",
       "</style>\n",
       "<table border=\"1\" class=\"dataframe\">\n",
       "  <thead>\n",
       "    <tr style=\"text-align: right;\">\n",
       "      <th></th>\n",
       "      <th>Classifiers</th>\n",
       "      <th>Accuracy</th>\n",
       "      <th>Weighted avg f1 Score</th>\n",
       "    </tr>\n",
       "  </thead>\n",
       "  <tbody>\n",
       "    <tr>\n",
       "      <th>0</th>\n",
       "      <td>Decision Tree</td>\n",
       "      <td>0.6713</td>\n",
       "      <td>0.6649</td>\n",
       "    </tr>\n",
       "    <tr>\n",
       "      <th>5</th>\n",
       "      <td>Support Vector Classifier</td>\n",
       "      <td>0.7268</td>\n",
       "      <td>0.7268</td>\n",
       "    </tr>\n",
       "    <tr>\n",
       "      <th>1</th>\n",
       "      <td>Random Forest</td>\n",
       "      <td>0.7351</td>\n",
       "      <td>0.7053</td>\n",
       "    </tr>\n",
       "    <tr>\n",
       "      <th>4</th>\n",
       "      <td>Stochastic Gradient Descent</td>\n",
       "      <td>0.7826</td>\n",
       "      <td>0.7765</td>\n",
       "    </tr>\n",
       "    <tr>\n",
       "      <th>3</th>\n",
       "      <td>Logistic Regression</td>\n",
       "      <td>0.7851</td>\n",
       "      <td>0.7776</td>\n",
       "    </tr>\n",
       "    <tr>\n",
       "      <th>2</th>\n",
       "      <td>LinearSVC</td>\n",
       "      <td>0.7889</td>\n",
       "      <td>0.7831</td>\n",
       "    </tr>\n",
       "  </tbody>\n",
       "</table>\n",
       "</div>"
      ],
      "text/plain": [
       "                   Classifiers  Accuracy  Weighted avg f1 Score\n",
       "0                Decision Tree    0.6713                 0.6649\n",
       "5    Support Vector Classifier    0.7268                 0.7268\n",
       "1                Random Forest    0.7351                 0.7053\n",
       "4  Stochastic Gradient Descent    0.7826                 0.7765\n",
       "3          Logistic Regression    0.7851                 0.7776\n",
       "2                    LinearSVC    0.7889                 0.7831"
      ]
     },
     "execution_count": 82,
     "metadata": {},
     "output_type": "execute_result"
    }
   ],
   "source": [
    "# Creating a dataframe with our models and their performances metrics\n",
    "classifier_scores = {'Classifiers':['Decision Tree', 'Random Forest','LinearSVC',\n",
    "                                    'Logistic Regression','Stochastic Gradient Descent',\n",
    "                                    'Support Vector Classifier'],\n",
    "                    'Accuracy':[decision_tree_acc,random_forest_acc,\n",
    "                                linearSVC_acc,logistic_reg_acc, sgd_acc, svc_f1],\n",
    "                     'Weighted avg f1 Score':[decision_tree_f1,random_forest_f1,\n",
    "                                       linearSVC_f1,logistic_reg_f1, sgd_f1, svc_f1]}\n",
    "df= pd.DataFrame(classifier_scores)\n",
    "df.sort_values(by=['Accuracy'],ascending=True, inplace = True)\n",
    "df"
   ]
  },
  {
   "cell_type": "code",
   "execution_count": 87,
   "metadata": {},
   "outputs": [
    {
     "data": {
      "image/png": "[encoded data removed]",
      "text/plain": [
       "<Figure size 576x576 with 1 Axes>"
      ]
     },
     "metadata": {
      "needs_background": "light"
     },
     "output_type": "display_data"
    }
   ],
   "source": [
    "# visualizing our models performance\n",
    "\n",
    "df.set_index(df['Classifiers'], inplace = True)\n",
    "df.drop(['Classifiers'],axis = 1)\n",
    "df.plot(kind='barh', figsize = (8,8))\n",
    "plt.ylabel('Score')\n",
    "plt.xticks(rotation = 0)\n",
    "plt.title('Classifier Perfomance')\n",
    "plt.legend(bbox_to_anchor=(1.05, 1.0), loc='upper left')\n",
    "plt.show()"
   ]
  },
  {
   "cell_type": "markdown",
   "metadata": {},
   "source": [
    "**Key observations**\n",
    "\n",
    "From the above bar graph we see comparison of all the 6 models we've attempted thus far based on their `accuracy score` and associated `wighted F1-score`\n",
    "\n",
    "- We see that our top 3 best performing models are `LinearSVC`,`Stochastic Gradient Descent` and `Logistic Regression` respectively. We will use these models in ensemble methods to try and improve our results\n",
    "- The `Decision Tree` classifer is the worst  at classifying the tweets with the lowest accuracy and wighted F1-score of 0.68 and 0.61 respectivey\n",
    "\n",
    "**LinearSVC is the best performing model out of all 6 models that we've tried thus far with an accuracy score of 0.7876 and a weighted f1 score of 0.7871**"
   ]
  },
  {
   "cell_type": "markdown",
   "metadata": {},
   "source": [
    "### 3.5.1 Ensemble Methods\n",
    "\n",
    "Ensemble learning in machine learning is the practice of combining multiple models to try and achieve higher overall model performance. In general, ensembles consist of multiple **heterogeneous or homogeneous** models trained on the same dataset. Each of these models is used to make predictions on the same input, then these predictions are aggregated across all models in some way (e.g. by taking the mean) to produce the final output.\n",
    "\n",
    "**Heterogeneous Ensembel Method**\n",
    "\n",
    "This type of ensemble consists of different types of models, so it can add pretty much any classification model we want, however in our case we're only going to add our top 3 best perfoming models which are, `LinearSVC, Stochastic Gradient Descent, Logistic Regression, `.\n",
    "\n",
    "The Heterogeneous ensemble method we're going to look at is the `Voting classifier` \n",
    "\n",
    "**Voting classifer**\n",
    "Voting involves combining individual model outputs through a kind of majority rule paradigm.\n"
   ]
  },
  {
   "cell_type": "code",
   "execution_count": 88,
   "metadata": {},
   "outputs": [],
   "source": [
    "# Define the models which we'll include in our ensemble. \n",
    "# We pass a list of tuples, which each have a string identifier for the\n",
    "# model (arbitrary choice), along the actual instantiated sklearn model.  \n",
    "models = [(\"LinearSVC\",Lsvc_count),(\"SGD\",SGD_count),(\"Logistric Regression\",logreg_count)]\n",
    "\n",
    "# Specify weights for weighted model averaging\n",
    "model_weightings = np.array([0.1,0.3,0.6])\n",
    "\n",
    "# building the voting classifier\n",
    "Voting_classifier = VotingClassifier(estimators=models,weights=model_weightings)\n"
   ]
  },
  {
   "cell_type": "code",
   "execution_count": 89,
   "metadata": {},
   "outputs": [
    {
     "data": {
      "text/plain": [
       "VotingClassifier(estimators=[('LinearSVC',\n",
       "                              Pipeline(steps=[('CountVec',\n",
       "                                               CountVectorizer(max_features=180000,\n",
       "                                                               ngram_range=(1,\n",
       "                                                                            2))),\n",
       "                                              ('svc', LinearSVC())])),\n",
       "                             ('SGD',\n",
       "                              Pipeline(steps=[('CountVec',\n",
       "                                               CountVectorizer(max_features=180000,\n",
       "                                                               ngram_range=(1,\n",
       "                                                                            2))),\n",
       "                                              ('SGD', SGDClassifier())])),\n",
       "                             ('Logistric Regression',\n",
       "                              Pipeline(steps=[('CountVec',\n",
       "                                               CountVectorizer(max_features=180000,\n",
       "                                                               ngram_range=(1,\n",
       "                                                                            2))),\n",
       "                                              ('logistic',\n",
       "                                               LogisticRegression())]))],\n",
       "                 weights=array([0.1, 0.3, 0.6]))"
      ]
     },
     "execution_count": 89,
     "metadata": {},
     "output_type": "execute_result"
    }
   ],
   "source": [
    "# training the voting classifier\n",
    "Voting_classifier.fit(X_train, y_train)"
   ]
  },
  {
   "cell_type": "code",
   "execution_count": 90,
   "metadata": {},
   "outputs": [],
   "source": [
    "voting_prediction = Voting_classifier.predict(X_val) # Voting Classifier predictions"
   ]
  },
  {
   "cell_type": "code",
   "execution_count": 91,
   "metadata": {},
   "outputs": [
    {
     "name": "stdout",
     "output_type": "stream",
     "text": [
      "\n",
      "Voting Classifier  Classification report :\n",
      "               precision    recall  f1-score   support\n",
      "\n",
      "          -1       0.75      0.52      0.61       126\n",
      "           0       0.65      0.50      0.56       224\n",
      "           1       0.81      0.88      0.84       895\n",
      "           2       0.80      0.82      0.81       337\n",
      "\n",
      "    accuracy                           0.79      1582\n",
      "   macro avg       0.75      0.68      0.71      1582\n",
      "weighted avg       0.78      0.79      0.78      1582\n",
      "\n"
     ]
    }
   ],
   "source": [
    "print('\\nVoting Classifier  Classification report :\\n', classification_report(y_val, voting_prediction))"
   ]
  },
  {
   "cell_type": "markdown",
   "metadata": {},
   "source": [
    "The voting  classifer did a good job at classifying the sentiment classes which 'Neutral' sentiment class being the poorly classified one\n",
    "- achieving the F1-score of:\n",
    "- `Pro` sentiment class : 0.84\n",
    "- `News` sentiment class : 0.81\n",
    "- `Anti` sentiment class: 0.61\n",
    "- `Neutral` sentiment class : 0.56"
   ]
  },
  {
   "cell_type": "code",
   "execution_count": 93,
   "metadata": {},
   "outputs": [
    {
     "name": "stdout",
     "output_type": "stream",
     "text": [
      "\n",
      "Overall accuracy for the Voting Classifier : 0.7851\n",
      "\n",
      "Weighted avg f1 score for the Voting Classifier : 0.7776\n"
     ]
    }
   ],
   "source": [
    "# checking the accuracy score\n",
    "voting_acc = round(accuracy_score(y_val, voting_prediction),4)\n",
    "print(f'\\nOverall accuracy for the Voting Classifier : {voting_acc}')\n",
    "voting_f1 = round(f1_score(y_val, voting_prediction, average=\"weighted\"),4)\n",
    "print(f'\\nWeighted avg f1 score for the Voting Classifier : {voting_f1}')"
   ]
  },
  {
   "cell_type": "markdown",
   "metadata": {},
   "source": [
    "The Voting Classifier achieved the accuracy and weighted f1 score of 0.7838 and 0.7764 respectively, which is not much of an improvement from our best performing model that achieved the accuracy of 0.7876 and 0.7817"
   ]
  },
  {
   "cell_type": "markdown",
   "metadata": {},
   "source": [
    "<a id=\"3.5\"></a>\n",
    "### 3.5 Hyperparameter Tuning\n",
    "We will look at two methods of hyperparameter tunning, namely `GridSearchCV` and `Parfit`\n",
    "\n",
    "* Models we will perform hyperparameter tunning on\n",
    "  * LinearSVC\n",
    "  * Logistic Regression\n",
    "  * Support Vector Classifier\n",
    "\n",
    "The caveat of using pipelines to build our models is that we can't easily get the parameters for our models as such to perfom hyperparameter tunning and obtain the best parameters for our models. Thus, we will not use the pipelines. This means we will convert raw text data to numeric data independently of building the models."
   ]
  },
  {
   "cell_type": "code",
   "execution_count": 95,
   "metadata": {},
   "outputs": [],
   "source": [
    "# we have to to prepare our data again since we won't be using the pipelines\n",
    "\n",
    "train = train.copy()\n",
    "test = test.copy()\n",
    "\n",
    "train['message'] = replace_sentiments(train)\n",
    "test['message'] = replace_sentiments(test)\n",
    "train['clean_tweets'] = clean_tweets(train)\n",
    "test['clean_tweets'] = clean_tweets(test)\n",
    "\n",
    "normalizer = WordNetLemmatizer()\n",
    "train['clean_tweets'] = train['clean_tweets'].apply(lambda x: [normalizer.lemmatize(token, POS(token)) for token in x])\n",
    "test['clean_tweets'] = test['clean_tweets'].apply(lambda x: [normalizer.lemmatize(token, POS(token)) for token in x])\n",
    "\n",
    "\n",
    "\n",
    "X = train['clean_tweets']\n",
    "y = train['sentiment']\n",
    "X_test = test['clean_tweets']\n",
    "\n",
    "\n",
    "X_train, X_val, y_train, y_val = train_test_split(X, y, test_size=0.1, random_state = 42)\n",
    "\n",
    "X_train = list(X_train.apply(' '.join))\n",
    "X_val = list(X_val.apply(' '.join))\n",
    "X_test = list(X_test.apply(' '.join))"
   ]
  },
  {
   "cell_type": "code",
   "execution_count": 96,
   "metadata": {},
   "outputs": [],
   "source": [
    "vectorizer = CountVectorizer(analyzer = 'word', \n",
    "                             tokenizer = None, \n",
    "                             preprocessor = None, \n",
    "                             stop_words = None, \n",
    "                             max_features = 180000,\n",
    "                             min_df = 1,\n",
    "                             ngram_range = (1,2)\n",
    "                            )\n",
    "vectorizer.fit(X_train)\n",
    "X_train = vectorizer.transform(X_train)\n",
    "X_val = vectorizer.transform(X_val)\n",
    "X_test = vectorizer.transform(X_test)"
   ]
  },
  {
   "cell_type": "markdown",
   "metadata": {},
   "source": [
    "### 3.5.1 Tuning LinearSVC"
   ]
  },
  {
   "cell_type": "code",
   "execution_count": 97,
   "metadata": {},
   "outputs": [
    {
     "name": "stdout",
     "output_type": "stream",
     "text": [
      "-------------FITTING MODELS-------------\n"
     ]
    },
    {
     "name": "stderr",
     "output_type": "stream",
     "text": [
      "[Parallel(n_jobs=-1)]: Using backend LokyBackend with 4 concurrent workers.\n",
      "[Parallel(n_jobs=-1)]: Done   5 tasks      | elapsed:   58.8s\n",
      "[Parallel(n_jobs=-1)]: Done  10 tasks      | elapsed:   59.7s\n",
      "[Parallel(n_jobs=-1)]: Done  17 tasks      | elapsed:  1.1min\n",
      "[Parallel(n_jobs=-1)]: Done  24 tasks      | elapsed:  1.5min\n",
      "[Parallel(n_jobs=-1)]: Done  33 tasks      | elapsed:  3.3min\n",
      "[Parallel(n_jobs=-1)]: Done  42 tasks      | elapsed:  5.0min\n",
      "[Parallel(n_jobs=-1)]: Done  50 out of  50 | elapsed:  6.3min finished\n",
      "[Parallel(n_jobs=-1)]: Using backend LokyBackend with 4 concurrent workers.\n"
     ]
    },
    {
     "name": "stdout",
     "output_type": "stream",
     "text": [
      "-------------SCORING MODELS-------------\n"
     ]
    },
    {
     "name": "stderr",
     "output_type": "stream",
     "text": [
      "[Parallel(n_jobs=-1)]: Done  50 out of  50 | elapsed:    1.8s finished\n"
     ]
    },
    {
     "data": {
      "image/png": "[encoded data removed]",
      "text/plain": [
       "<Figure size 2736x432 with 1 Axes>"
      ]
     },
     "metadata": {
      "needs_background": "light"
     },
     "output_type": "display_data"
    },
    {
     "name": "stdout",
     "output_type": "stream",
     "text": [
      "LinearSVC(C=0.12648552168552957) \n",
      " 0.7895069532237674\n"
     ]
    }
   ],
   "source": [
    "# Tunning LinearSVC using parfit\n",
    "grid = {'C': np.logspace(-4, 4, 50)}\n",
    "paramGrid = ParameterGrid(grid)\n",
    "bestModel, bestScore, allModels, allScores = pf.bestFit(LinearSVC, paramGrid,\n",
    "           X_train, y_train, X_val, y_val, \n",
    "           metric = accuracy_score,\n",
    "           scoreLabel = \"AUC\")\n",
    "print(bestModel, '\\n',bestScore)"
   ]
  },
  {
   "cell_type": "markdown",
   "metadata": {},
   "source": [
    "The AUC plot shows the accuracy score for each value fo the C parameter that the model is fitted with.\n",
    "The `parfit` method peformed 50 fits and with the hyperparameter C = 0.3906939937054613, achieved the accuracy score of 0.79 which is an improvement of 0.0025\n",
    "\n",
    "Now we want to see how the GridSearch method tunes the `LinearSVC` with the same param grid we used for the `partfit` method"
   ]
  },
  {
   "cell_type": "code",
   "execution_count": 98,
   "metadata": {},
   "outputs": [
    {
     "data": {
      "text/plain": [
       "LinearSVC(C=7.9060432109076855)"
      ]
     },
     "execution_count": 98,
     "metadata": {},
     "output_type": "execute_result"
    }
   ],
   "source": [
    "# Tuning LinearSVC using GridSearchCV\n",
    "\n",
    "# The hyperprarameter gridsearch for the LinearSVC is purposefully commented out because \n",
    "# it perfoms 5 folds for each of the 9 candidates totalling in 45 fits, this GridSearch code took  2 hours to complete\n",
    "\n",
    "#  we have saved the resulting model as a pickle file for convinience\n",
    "\n",
    "\n",
    "'''\n",
    "param_grid = {'C': np.logspace(-4, 4, 50)}\n",
    "# grid_lsvc = GridSearchCV(LinearSVC(),param_grid,refit=True,verbose=2)\n",
    "# grid_lsvc.fit(X_train_new,y_train)\n",
    "\n",
    "grid_lsvc = GridSearchCV(SVC(),param_grid,refit=True,verbose=2)  \n",
    "\n",
    "grid_lsvc.fit(X_train_new,y_train)'''\n",
    "\n",
    "\n",
    "# # Saving the model\n",
    "# import pickle\n",
    "# model_save_path = 'LinearSVC.pkl'\n",
    "# with open(model_save_path, 'wb') as file:\n",
    "#     pickle.dump(grid_lsvc, file)\n",
    "    \n",
    " \n",
    "#  # loading the saved Logistic Regression model\n",
    "# model_load_path = 'LinearSVC.pkl'\n",
    "# with open(model_load_path, 'rb') as file:\n",
    "#     grid_lsvc=pickle.load(file)\n",
    "\n",
    "# The GridSearch Best parameter\n",
    "best_param = {'C': 7.9060432109076855}\n",
    "\n",
    "# retrain the model\n",
    "grid_lsvc = LinearSVC(C= 7.9060432109076855)\n",
    "grid_lsvc.fit(X_train, y_train)"
   ]
  },
  {
   "cell_type": "code",
   "execution_count": 99,
   "metadata": {},
   "outputs": [],
   "source": [
    "tuned_lsvc_predictions = grid_lsvc.predict(X_val)"
   ]
  },
  {
   "cell_type": "code",
   "execution_count": 100,
   "metadata": {},
   "outputs": [
    {
     "name": "stdout",
     "output_type": "stream",
     "text": [
      "\n",
      "Overall accuracy score for LinearSVC : 0.7832\n"
     ]
    }
   ],
   "source": [
    "# Checking the accuracy score\n",
    "tuned_lsvc_acc = round(accuracy_score(y_val, tuned_lsvc_predictions),4)\n",
    "print(f'\\nOverall accuracy score for LinearSVC : {tuned_lsvc_acc}')"
   ]
  },
  {
   "cell_type": "markdown",
   "metadata": {},
   "source": [
    "The resulting best accuracy score for the GridSearch method is 0.78 which is significatly low compared to the one we got using the parfit method"
   ]
  },
  {
   "cell_type": "code",
   "execution_count": 101,
   "metadata": {},
   "outputs": [
    {
     "name": "stdout",
     "output_type": "stream",
     "text": [
      "\n",
      "Overall accuracy score for LinearSVC : 0.7888748419721872\n"
     ]
    },
    {
     "data": {
      "text/plain": [
       "\"\\n# Saving the model\\nimport pickle\\nmodel_save_path = 'linear_svc.pkl'\\nwith open(model_save_path, 'wb') as file:\\n    pickle.dump(final_lsvc, file)\\n    \\n  \\n # loading the saved Logistic Regression model\\nmodel_load_path = 'linear_svc.pkl'\\nwith open(model_load_path, 'rb') as file:\\n    Logistic_reg_tuned=pickle.load(file)\\n \\n\""
      ]
     },
     "execution_count": 101,
     "metadata": {},
     "output_type": "execute_result"
    }
   ],
   "source": [
    "# We now retrain the LinearSVC with the best parameters we got from the tuning method that performed the best\n",
    "\n",
    "final_lsvc = LinearSVC(C=0.3906939937054613, class_weight=None, dual=True,\n",
    "          fit_intercept=True, intercept_scaling=1, loss='squared_hinge',\n",
    "          max_iter=1000, multi_class='ovr', penalty='l2', random_state=None,\n",
    "          tol=0.0001, verbose=0) \n",
    "final_lsvc.fit(X_train, y_train)\n",
    "LinearSVC_prediction = final_lsvc.predict(X_val)\n",
    "final_svc_acc = accuracy_score(y_val, LinearSVC_prediction)\n",
    "print(f'\\nOverall accuracy score for LinearSVC : {final_svc_acc}')\n",
    "\n",
    "\n",
    "'''\n",
    "# Saving the model\n",
    "import pickle\n",
    "model_save_path = 'linear_svc.pkl'\n",
    "with open(model_save_path, 'wb') as file:\n",
    "    pickle.dump(final_lsvc, file)\n",
    "    \n",
    "  \n",
    " # loading the saved Logistic Regression model\n",
    "model_load_path = 'linear_svc.pkl'\n",
    "with open(model_load_path, 'rb') as file:\n",
    "    Logistic_reg_tuned=pickle.load(file)\n",
    " \n",
    "'''"
   ]
  },
  {
   "cell_type": "code",
   "execution_count": 102,
   "metadata": {},
   "outputs": [],
   "source": [
    "# Saving the model\n",
    "import pickle\n",
    "model_save_path = 'final_lsvc.pkl'\n",
    "with open(model_save_path, 'wb') as file:\n",
    "  pickle.dump(final_lsvc, file)"
   ]
  },
  {
   "cell_type": "code",
   "execution_count": 103,
   "metadata": {},
   "outputs": [],
   "source": [
    "Final_lsvc_acc = accuracy_score(y_val, LinearSVC_prediction)\n",
    "Final_lsvc_f1 = f1_score(y_val, LinearSVC_prediction, average = 'weighted')"
   ]
  },
  {
   "cell_type": "markdown",
   "metadata": {},
   "source": [
    "### 3.5.2 Tuning Logistic Regression"
   ]
  },
  {
   "cell_type": "code",
   "execution_count": 104,
   "metadata": {},
   "outputs": [
    {
     "name": "stdout",
     "output_type": "stream",
     "text": [
      "-------------FITTING MODELS-------------\n"
     ]
    },
    {
     "name": "stderr",
     "output_type": "stream",
     "text": [
      "[Parallel(n_jobs=-1)]: Using backend LokyBackend with 4 concurrent workers.\n",
      "[Parallel(n_jobs=-1)]: Done   5 tasks      | elapsed:   18.1s\n",
      "[Parallel(n_jobs=-1)]: Done  10 tasks      | elapsed:   46.0s\n",
      "[Parallel(n_jobs=-1)]: Done  17 tasks      | elapsed:  1.6min\n",
      "[Parallel(n_jobs=-1)]: Done  24 tasks      | elapsed:  2.8min\n",
      "[Parallel(n_jobs=-1)]: Done  33 tasks      | elapsed:  4.3min\n",
      "[Parallel(n_jobs=-1)]: Done  42 tasks      | elapsed:  5.9min\n",
      "[Parallel(n_jobs=-1)]: Done  50 out of  50 | elapsed:  7.0min finished\n",
      "[Parallel(n_jobs=-1)]: Using backend LokyBackend with 4 concurrent workers.\n"
     ]
    },
    {
     "name": "stdout",
     "output_type": "stream",
     "text": [
      "-------------SCORING MODELS-------------\n"
     ]
    },
    {
     "name": "stderr",
     "output_type": "stream",
     "text": [
      "[Parallel(n_jobs=-1)]: Done  50 out of  50 | elapsed:    1.9s finished\n"
     ]
    },
    {
     "data": {
      "image/png": "[encoded data removed]",
      "text/plain": [
       "<Figure size 2736x432 with 1 Axes>"
      ]
     },
     "metadata": {
      "needs_background": "light"
     },
     "output_type": "display_data"
    },
    {
     "name": "stdout",
     "output_type": "stream",
     "text": [
      "LogisticRegression(C=339.3221771895323) \n",
      "\n",
      " 0.7958280657395702\n"
     ]
    }
   ],
   "source": [
    "# Tunning Logistic Regression using parfit\n",
    "\n",
    "grid = [\n",
    "    {'penalty' : [ 'l2'],\n",
    "    'C' : np.logspace(-4, 4, 50),\n",
    "    'solver' : ['lbfgs']},]\n",
    "\n",
    "paramGrid = ParameterGrid(grid)\n",
    "bestModel, bestScore, allModels, allScores = pf.bestFit(LogisticRegression, paramGrid,\n",
    "           X_train, y_train, X_val, y_val, \n",
    "           metric = accuracy_score,\n",
    "           scoreLabel = \"AUC\")\n",
    "print(bestModel, '\\n\\n',bestScore)"
   ]
  },
  {
   "cell_type": "markdown",
   "metadata": {},
   "source": [
    "The AUC plot shows the accuracy score for each value fo the C parameter that the model is fitted with. The `parfit` method peformed 50 fits and with the hyperparameter C=C=339.3221771895323, achieved the accuracy score of 0.7914 which is a slight improvement from the accuracy score we had for the Logistic Regression\n",
    "\n",
    "Now we want to see how the GridSearch method tunes the `Logistic Regression` with the same param grid we used for the `partfit` method"
   ]
  },
  {
   "cell_type": "code",
   "execution_count": 105,
   "metadata": {},
   "outputs": [
    {
     "name": "stdout",
     "output_type": "stream",
     "text": [
      "The accuracy score score for tuned Logistic Regression Classifier : 0.787\n"
     ]
    }
   ],
   "source": [
    "# Tuning Logistic Regression using GridSearchCV\n",
    "\n",
    "# The hyperprarameter gridsearch for the logistic regression model is purposefully commented out because \n",
    "# it perfoms 5 folds for each of the 50 candidates totalling in 250 fits, this GridSearch  code took 15 minutes to complete\n",
    "#  we have saved the resulting model as a pickle file\n",
    "\n",
    "'''\n",
    "param_grid = [\n",
    "    {'penalty' : [ 'l2'],\n",
    "    'C' : np.logspace(-4, 4, 50),\n",
    "    'solver' : ['lbfgs']},]\n",
    "\n",
    "Logistic_reg_grid = GridSearchCV(LogisticRegression(),param_grid,refit=True,verbose=2)\n",
    "Logistic_reg_grid.fit(X_train_new, y_train)\n",
    "\n",
    "\n",
    "# Saving the model\n",
    "import pickle\n",
    "model_save_path = 'LogisticReg.pkl'\n",
    "with open(model_save_path, 'wb') as file:\n",
    "    pickle.dump(logistic_grid, file)\n",
    "    \n",
    "  \n",
    " # loading the saved Logistic Regression model\n",
    "model_load_path = 'LogisticReg.pkl'\n",
    "with open(model_load_path, 'rb') as file:\n",
    "    Logistic_reg_tuned=pickle.load(file)\n",
    "    \n",
    "\n",
    "best_params = {'C': 3.727593720314938, 'penalty': 'l2', 'solver': 'lbfgs'}\n",
    "    \n",
    "'''\n",
    "\n",
    "\n",
    "# Retraining the Logistic Regresion model with best parameters                     \n",
    "grid_Log_reg = LogisticRegression(C = 3.727593720314938, penalty = 'l2',solver='lbfgs', random_state=42)\n",
    "grid_Log_reg.fit(X_train, y_train)\n",
    "\n",
    "tunned_logreg_acc = round(accuracy_score(y_val, grid_Log_reg.predict(X_val)),4)\n",
    "print(f'The accuracy score score for tuned Logistic Regression Classifier : {tunned_logreg_acc}')"
   ]
  },
  {
   "cell_type": "markdown",
   "metadata": {},
   "source": [
    "The GridSearch method achieved the best accuracy score of 0.7857 which is slightly less comapared to the accuracy score from the parfit method."
   ]
  },
  {
   "cell_type": "code",
   "execution_count": 106,
   "metadata": {},
   "outputs": [],
   "source": [
    "# Saving the model\n",
    "import pickle\n",
    "model_save_path = 'Logistic_regression.pkl'\n",
    "with open(model_save_path, 'wb') as file:\n",
    "  pickle.dump(grid_Log_reg, file)"
   ]
  },
  {
   "cell_type": "code",
   "execution_count": 107,
   "metadata": {},
   "outputs": [
    {
     "data": {
      "text/plain": [
       "0.787"
      ]
     },
     "execution_count": 107,
     "metadata": {},
     "output_type": "execute_result"
    }
   ],
   "source": [
    "# We now retrain Logistic Regression with the best parameters we got from the tuning method that performed the best\n",
    "\n",
    "final_logreg = LogisticRegression(C = 3.727593720314938, class_weight=None, dual=False,\n",
    "                   fit_intercept=True, intercept_scaling=1, l1_ratio=None,\n",
    "                   max_iter=100, multi_class='auto', n_jobs=None, penalty='l2',\n",
    "                   random_state=None, solver='lbfgs', tol=0.0001, verbose=0,\n",
    "                   warm_start=False)\n",
    "final_logreg.fit(X_train, y_train)\n",
    "final_log_reg_prediction= final_logreg.predict(X_val) \n",
    "final_logreg_acc = round(accuracy_score(y_val, final_log_reg_prediction),4)\n",
    "final_logreg_acc"
   ]
  },
  {
   "cell_type": "code",
   "execution_count": 108,
   "metadata": {},
   "outputs": [
    {
     "data": {
      "text/plain": [
       "0.7803"
      ]
     },
     "execution_count": 108,
     "metadata": {},
     "output_type": "execute_result"
    }
   ],
   "source": [
    "final_logreg_f1 = round(f1_score(y_val, final_log_reg_prediction, average = 'weighted'),4)\n",
    "final_logreg_f1"
   ]
  },
  {
   "cell_type": "markdown",
   "metadata": {},
   "source": [
    "### 3.5.3 Tuning Support Vector Classifier"
   ]
  },
  {
   "cell_type": "code",
   "execution_count": 109,
   "metadata": {},
   "outputs": [],
   "source": [
    "# Tunning Support Vector Classifier using GridSearchCV\n",
    "\n",
    "# This code is purposefully commnted out because it Fits 5 folds for each of 48 candidates, totalling 240 fits\n",
    "# the total runtime for this gridserch was 144 Minutes\n",
    "# we have saved the model in a pickle file\n",
    "\n",
    "'''\n",
    "param_grid = {'C': [0.1,1, 10, 100], 'gamma': [1,0.1,0.01,0.001],'kernel': ['rbf', 'poly', 'sigmoid']}\n",
    "grid = GridSearchCV(SVC(),param_grid,refit=True,verbose=2)\n",
    "\n",
    "grid = GridSearchCV(SVC(),param_grid,refit=True,verbose=2)\n",
    "grid.fit(X_train,y_train)\n",
    "print(accuracy_score(y_val, grid.predict(X_val)))\n",
    "\n",
    "best_params = {'C': 10, 'gamma': 0.01, 'kernel': 'rbf'}\n",
    "'''\n",
    "\n",
    "# retraining the support vector classifier with the best params\n",
    "svclf = SVC(C=10, gamma=0.01, kernel='rbf',random_state=42)\n",
    "svclf.fit(X_train, y_train)\n",
    "TunedSVC_prediction= svclf.predict(X_val)"
   ]
  },
  {
   "cell_type": "code",
   "execution_count": 110,
   "metadata": {},
   "outputs": [],
   "source": [
    "# Saving the model\n",
    "import pickle\n",
    "model_save_path = 'SVC_model.pkl'\n",
    "with open(model_save_path, 'wb') as file:\n",
    "  pickle.dump(svclf, file)"
   ]
  },
  {
   "cell_type": "code",
   "execution_count": 111,
   "metadata": {},
   "outputs": [
    {
     "name": "stdout",
     "output_type": "stream",
     "text": [
      "\n",
      "Overall accuracy score for Tuned Support Vector Classifier accuracy Score : 0.7724\n",
      "\n",
      "Weighted avg f1 score for Tuned Support Vector Classifier : 0.7664\n"
     ]
    }
   ],
   "source": [
    "# Checking the accuracy score\n",
    "TunedSVC_prediction = svclf.predict(X_val)\n",
    "\n",
    "tunned_svc_acc = round(accuracy_score(y_val, TunedSVC_prediction),4)\n",
    "print(f'\\nOverall accuracy score for Tuned Support Vector Classifier accuracy Score : {tunned_svc_acc}')\n",
    "tunned_svc_f1 = round(f1_score(y_val, TunedSVC_prediction, average=\"weighted\"),4)\n",
    "print(f'\\nWeighted avg f1 score for Tuned Support Vector Classifier : {tunned_svc_f1}')"
   ]
  },
  {
   "cell_type": "code",
   "execution_count": 112,
   "metadata": {},
   "outputs": [
    {
     "name": "stdout",
     "output_type": "stream",
     "text": [
      "              precision    recall  f1-score   support\n",
      "\n",
      "          -1       0.76      0.45      0.57       126\n",
      "           0       0.60      0.53      0.56       224\n",
      "           1       0.82      0.85      0.84       895\n",
      "           2       0.75      0.85      0.80       337\n",
      "\n",
      "    accuracy                           0.77      1582\n",
      "   macro avg       0.73      0.67      0.69      1582\n",
      "weighted avg       0.77      0.77      0.77      1582\n",
      "\n"
     ]
    }
   ],
   "source": [
    "print(classification_report(y_val, TunedSVC_prediction))"
   ]
  },
  {
   "cell_type": "code",
   "execution_count": 113,
   "metadata": {},
   "outputs": [],
   "source": [
    "Final_svc_acc = accuracy_score(y_val, TunedSVC_prediction)\n",
    "Final_svc_f1 = f1_score(y_val, TunedSVC_prediction, average = 'weighted')"
   ]
  },
  {
   "cell_type": "markdown",
   "metadata": {},
   "source": [
    "## 3.6 Final model selection"
   ]
  },
  {
   "cell_type": "markdown",
   "metadata": {},
   "source": [
    "Comparing all the models we've build so far to choose the best performing one."
   ]
  },
  {
   "cell_type": "code",
   "execution_count": 114,
   "metadata": {},
   "outputs": [
    {
     "data": {
      "text/html": [
       "<div>\n",
       "<style scoped>\n",
       "    .dataframe tbody tr th:only-of-type {\n",
       "        vertical-align: middle;\n",
       "    }\n",
       "\n",
       "    .dataframe tbody tr th {\n",
       "        vertical-align: top;\n",
       "    }\n",
       "\n",
       "    .dataframe thead th {\n",
       "        text-align: right;\n",
       "    }\n",
       "</style>\n",
       "<table border=\"1\" class=\"dataframe\">\n",
       "  <thead>\n",
       "    <tr style=\"text-align: right;\">\n",
       "      <th></th>\n",
       "      <th>Classifiers</th>\n",
       "      <th>Accuracy</th>\n",
       "      <th>Weighted avg f1 Score</th>\n",
       "    </tr>\n",
       "  </thead>\n",
       "  <tbody>\n",
       "    <tr>\n",
       "      <th>0</th>\n",
       "      <td>Decision Tree</td>\n",
       "      <td>0.671300</td>\n",
       "      <td>0.664900</td>\n",
       "    </tr>\n",
       "    <tr>\n",
       "      <th>5</th>\n",
       "      <td>Support Vector Classifier</td>\n",
       "      <td>0.726800</td>\n",
       "      <td>0.726800</td>\n",
       "    </tr>\n",
       "    <tr>\n",
       "      <th>1</th>\n",
       "      <td>Random Forest</td>\n",
       "      <td>0.735100</td>\n",
       "      <td>0.705300</td>\n",
       "    </tr>\n",
       "    <tr>\n",
       "      <th>9</th>\n",
       "      <td>Tunned_SVC</td>\n",
       "      <td>0.772440</td>\n",
       "      <td>0.766433</td>\n",
       "    </tr>\n",
       "    <tr>\n",
       "      <th>4</th>\n",
       "      <td>Stochastic Gradient Descent</td>\n",
       "      <td>0.782600</td>\n",
       "      <td>0.776500</td>\n",
       "    </tr>\n",
       "    <tr>\n",
       "      <th>3</th>\n",
       "      <td>Logistic Regression</td>\n",
       "      <td>0.785100</td>\n",
       "      <td>0.777600</td>\n",
       "    </tr>\n",
       "    <tr>\n",
       "      <th>6</th>\n",
       "      <td>Voting Classifer</td>\n",
       "      <td>0.785100</td>\n",
       "      <td>0.777600</td>\n",
       "    </tr>\n",
       "    <tr>\n",
       "      <th>8</th>\n",
       "      <td>Tunned LogisticReg</td>\n",
       "      <td>0.787000</td>\n",
       "      <td>0.780300</td>\n",
       "    </tr>\n",
       "    <tr>\n",
       "      <th>7</th>\n",
       "      <td>Tunned_LinearSVC</td>\n",
       "      <td>0.788875</td>\n",
       "      <td>0.782779</td>\n",
       "    </tr>\n",
       "    <tr>\n",
       "      <th>2</th>\n",
       "      <td>LinearSVC</td>\n",
       "      <td>0.788900</td>\n",
       "      <td>0.783100</td>\n",
       "    </tr>\n",
       "  </tbody>\n",
       "</table>\n",
       "</div>"
      ],
      "text/plain": [
       "                   Classifiers  Accuracy  Weighted avg f1 Score\n",
       "0                Decision Tree  0.671300               0.664900\n",
       "5    Support Vector Classifier  0.726800               0.726800\n",
       "1                Random Forest  0.735100               0.705300\n",
       "9                   Tunned_SVC  0.772440               0.766433\n",
       "4  Stochastic Gradient Descent  0.782600               0.776500\n",
       "3          Logistic Regression  0.785100               0.777600\n",
       "6             Voting Classifer  0.785100               0.777600\n",
       "8           Tunned LogisticReg  0.787000               0.780300\n",
       "7             Tunned_LinearSVC  0.788875               0.782779\n",
       "2                    LinearSVC  0.788900               0.783100"
      ]
     },
     "execution_count": 114,
     "metadata": {},
     "output_type": "execute_result"
    }
   ],
   "source": [
    "classifier_scores = {'Classifiers':['Decision Tree', 'Random Forest','LinearSVC'\n",
    "                                    ,'Logistic Regression','Stochastic Gradient Descent',\n",
    "                                    'Support Vector Classifier', 'Voting Classifer',\n",
    "                                    'Tunned_LinearSVC','Tunned LogisticReg','Tunned_SVC'],\n",
    "                    'Accuracy':[decision_tree_acc,random_forest_acc,\n",
    "                                linearSVC_acc,logistic_reg_acc, sgd_acc, svc_f1, voting_acc\n",
    "                                ,Final_lsvc_acc ,final_logreg_acc,\n",
    "                                Final_svc_acc],\n",
    "                     'Weighted avg f1 Score':[decision_tree_f1,random_forest_f1,\n",
    "                                       linearSVC_f1,logistic_reg_f1, sgd_f1, svc_f1,\n",
    "                                              voting_f1, Final_lsvc_f1 ,final_logreg_f1, \n",
    "                                              Final_svc_f1]}\n",
    "df= pd.DataFrame(classifier_scores)\n",
    "df.sort_values(by=['Accuracy'],ascending=True, inplace = True)\n",
    "df"
   ]
  },
  {
   "cell_type": "code",
   "execution_count": 116,
   "metadata": {},
   "outputs": [
    {
     "data": {
      "image/png": "[encoded data removed]",
      "text/plain": [
       "<Figure size 576x576 with 1 Axes>"
      ]
     },
     "metadata": {
      "needs_background": "light"
     },
     "output_type": "display_data"
    }
   ],
   "source": [
    "df.set_index(df['Classifiers'], inplace = True)\n",
    "df.drop(['Classifiers'],axis = 1)\n",
    "df.plot(kind='barh', figsize = (8,8))\n",
    "plt.xlabel('Score')\n",
    "plt.yticks(rotation = 0)\n",
    "plt.title('Classifier Perfomance')\n",
    "plt.legend(bbox_to_anchor=(1.05, 1.0), loc='upper left')\n",
    "plt.show()"
   ]
  },
  {
   "cell_type": "markdown",
   "metadata": {},
   "source": [
    "We have built a total of 11 models in this notebook out of all the models we've build, We see that the best performing model is the tunned LinearSVCwith the best accuracy score of 0.79 and the best weighted f1 score  of 78.\n",
    "\n",
    "We will be using the **Support Vector Classifer** to make the final prediction."
   ]
  },
  {
   "cell_type": "markdown",
   "metadata": {},
   "source": [
    "## 3.7 Final evaluation of our best model"
   ]
  },
  {
   "cell_type": "code",
   "execution_count": 117,
   "metadata": {},
   "outputs": [
    {
     "name": "stdout",
     "output_type": "stream",
     "text": [
      "classfication report for our best model\n",
      "               precision    recall  f1-score   support\n",
      "\n",
      "          -1       0.74      0.52      0.61       126\n",
      "           0       0.65      0.53      0.58       224\n",
      "           1       0.82      0.88      0.85       895\n",
      "           2       0.79      0.83      0.81       337\n",
      "\n",
      "    accuracy                           0.79      1582\n",
      "   macro avg       0.75      0.69      0.71      1582\n",
      "weighted avg       0.78      0.79      0.78      1582\n",
      "\n"
     ]
    }
   ],
   "source": [
    "print('classfication report for our best model\\n',classification_report(y_val, final_lsvc.predict(X_val)))"
   ]
  },
  {
   "cell_type": "code",
   "execution_count": 126,
   "metadata": {},
   "outputs": [
    {
     "data": {
      "image/png": "[encoded data removed]",
      "text/plain": [
       "<Figure size 576x576 with 1 Axes>"
      ]
     },
     "metadata": {
      "needs_background": "light"
     },
     "output_type": "display_data"
    }
   ],
   "source": [
    "# Visual represetation of of the f1 score for each class\n",
    "report_tuned_lsvc = classification_report(y_val, tuned_lsvc_predictions, output_dict=True)\n",
    "df_tuned_lsvc = pd.DataFrame(report_tuned_lsvc).transpose()\n",
    "df_tuned_lsvc.drop(['accuracy'], inplace = True)\n",
    "df_tuned_lsvc.sort_values(by=['f1-score'],ascending=True, inplace = True)\n",
    "df_tuned_lsvc.drop(['weighted avg','macro avg'])['f1-score'].plot(kind='bar', figsize = (8,8))\n",
    "plt.xlabel('F1-score')\n",
    "plt.ylabel('Classes')\n",
    "plt.xticks(rotation = 0)\n",
    "plt.title('F1-score per sentiment class for tunned SVC')\n",
    "plt.show()"
   ]
  },
  {
   "cell_type": "markdown",
   "metadata": {},
   "source": [
    "The above bar graph shows the f1 score for each sentiment class of our best model.\n",
    "- The Support Vector Classifier is by far our best performing model, achieving F1-score of 0.78 for `Pro climate change` sentiment class, followed by `News` and `Anti` Climate sentiment classes with f1 scores of 0.85 and 0.81 respectively, which is quite impressive given that all our models perfomed poorly when it comes to classifying `anti climate change` sentiment class"
   ]
  },
  {
   "cell_type": "markdown",
   "metadata": {},
   "source": [
    "### 3.7.1 ROC Curves and AUC\n",
    "ROC is a probability curve and AUC represents the degree or measure of separability. It tells how much the model is capable of distinguishing between classes. The higher the AUC, the better the model is at categorizing.\n",
    "\n",
    "In Machine Learning, performance measurement is an essential task. So when it comes to a classification problems, we can count on an AUC - ROC Curve. When we need to check or visualize the performance of the multi-class classification problem, we use the AUC (Area Under The Curve) ROC (Receiver Operating Characteristics) curve. It is one of the most important evaluation metrics for checking any classification model’s performance. It is also written as AUROC (Area Under the Receiver Operating Characteristics). Below, we shall plot the AUROC for the Linear SVC model."
   ]
  },
  {
   "cell_type": "code",
   "execution_count": 127,
   "metadata": {},
   "outputs": [
    {
     "data": {
      "image/png": "[encoded data removed]",
      "text/plain": [
       "<Figure size 720x720 with 1 Axes>"
      ]
     },
     "metadata": {
      "needs_background": "light"
     },
     "output_type": "display_data"
    }
   ],
   "source": [
    "OneVsRest =  OneVsRestClassifier(LinearSVC(C=0.3906939937054613,\n",
    "                                           class_weight=None, dual=True,\n",
    "          fit_intercept=True, intercept_scaling=1, loss='squared_hinge',\n",
    "          max_iter=1000, multi_class='ovr', penalty='l2', random_state=None,\n",
    "          tol=0.0001, verbose=0))\n",
    "y_train_binarized = label_binarize(y_train, classes=[-1, 0, 1, 2])\n",
    "y_val_binarized = label_binarize(y_val, classes=[-1, 0, 1, 2])\n",
    "OneVsRest.fit(X_train, y_train_binarized)\n",
    "y_prob = OneVsRest.decision_function(X_val)\n",
    "plot_roc(y_val, y_prob,figsize=(10,10),cmap='cool')\n",
    "plt.legend(bbox_to_anchor=(1.05, 1.0), loc='upper left')\n",
    "plt.show()"
   ]
  },
  {
   "cell_type": "markdown",
   "metadata": {},
   "source": [
    "## 3.8 Final prediction"
   ]
  },
  {
   "cell_type": "code",
   "execution_count": 128,
   "metadata": {},
   "outputs": [],
   "source": [
    "y_pred = final_lsvc.predict(X_test)"
   ]
  },
  {
   "cell_type": "code",
   "execution_count": 129,
   "metadata": {},
   "outputs": [
    {
     "data": {
      "text/plain": [
       "array([2, 0, 1, ..., 0, 0, 1], dtype=int64)"
      ]
     },
     "execution_count": 129,
     "metadata": {},
     "output_type": "execute_result"
    }
   ],
   "source": [
    "y_pred"
   ]
  },
  {
   "cell_type": "code",
   "execution_count": 130,
   "metadata": {},
   "outputs": [],
   "source": [
    "test['sentiment'] = y_pred"
   ]
  },
  {
   "cell_type": "code",
   "execution_count": 131,
   "metadata": {},
   "outputs": [],
   "source": [
    "test[['tweetid','sentiment']].to_csv('Final Linear Support.csv', index=False)"
   ]
  },
  {
   "cell_type": "code",
   "execution_count": 132,
   "metadata": {},
   "outputs": [
    {
     "data": {
      "text/html": [
       "<div>\n",
       "<style scoped>\n",
       "    .dataframe tbody tr th:only-of-type {\n",
       "        vertical-align: middle;\n",
       "    }\n",
       "\n",
       "    .dataframe tbody tr th {\n",
       "        vertical-align: top;\n",
       "    }\n",
       "\n",
       "    .dataframe thead th {\n",
       "        text-align: right;\n",
       "    }\n",
       "</style>\n",
       "<table border=\"1\" class=\"dataframe\">\n",
       "  <thead>\n",
       "    <tr style=\"text-align: right;\">\n",
       "      <th></th>\n",
       "      <th>tweetid</th>\n",
       "      <th>sentiment</th>\n",
       "    </tr>\n",
       "  </thead>\n",
       "  <tbody>\n",
       "    <tr>\n",
       "      <th>0</th>\n",
       "      <td>169760</td>\n",
       "      <td>2</td>\n",
       "    </tr>\n",
       "    <tr>\n",
       "      <th>1</th>\n",
       "      <td>35326</td>\n",
       "      <td>0</td>\n",
       "    </tr>\n",
       "    <tr>\n",
       "      <th>2</th>\n",
       "      <td>224985</td>\n",
       "      <td>1</td>\n",
       "    </tr>\n",
       "    <tr>\n",
       "      <th>3</th>\n",
       "      <td>476263</td>\n",
       "      <td>1</td>\n",
       "    </tr>\n",
       "    <tr>\n",
       "      <th>4</th>\n",
       "      <td>872928</td>\n",
       "      <td>0</td>\n",
       "    </tr>\n",
       "    <tr>\n",
       "      <th>...</th>\n",
       "      <td>...</td>\n",
       "      <td>...</td>\n",
       "    </tr>\n",
       "    <tr>\n",
       "      <th>10541</th>\n",
       "      <td>895714</td>\n",
       "      <td>1</td>\n",
       "    </tr>\n",
       "    <tr>\n",
       "      <th>10542</th>\n",
       "      <td>875167</td>\n",
       "      <td>1</td>\n",
       "    </tr>\n",
       "    <tr>\n",
       "      <th>10543</th>\n",
       "      <td>78329</td>\n",
       "      <td>0</td>\n",
       "    </tr>\n",
       "    <tr>\n",
       "      <th>10544</th>\n",
       "      <td>867455</td>\n",
       "      <td>0</td>\n",
       "    </tr>\n",
       "    <tr>\n",
       "      <th>10545</th>\n",
       "      <td>470892</td>\n",
       "      <td>1</td>\n",
       "    </tr>\n",
       "  </tbody>\n",
       "</table>\n",
       "<p>10546 rows × 2 columns</p>\n",
       "</div>"
      ],
      "text/plain": [
       "       tweetid  sentiment\n",
       "0       169760          2\n",
       "1        35326          0\n",
       "2       224985          1\n",
       "3       476263          1\n",
       "4       872928          0\n",
       "...        ...        ...\n",
       "10541   895714          1\n",
       "10542   875167          1\n",
       "10543    78329          0\n",
       "10544   867455          0\n",
       "10545   470892          1\n",
       "\n",
       "[10546 rows x 2 columns]"
      ]
     },
     "execution_count": 132,
     "metadata": {},
     "output_type": "execute_result"
    }
   ],
   "source": [
    "test[['tweetid','sentiment']]"
   ]
  },
  {
   "cell_type": "markdown",
   "metadata": {},
   "source": [
    "## 3.9 Closing the comet experiment"
   ]
  },
  {
   "cell_type": "code",
   "execution_count": null,
   "metadata": {},
   "outputs": [],
   "source": [
    "# close the experiment\n",
    "experiment.end()"
   ]
  },
  {
   "cell_type": "code",
   "execution_count": null,
   "metadata": {},
   "outputs": [],
   "source": [
    "experiment.display()"
   ]
  },
  {
   "cell_type": "markdown",
   "metadata": {},
   "source": [
    "<a id=\"four\"></a>\n",
    "# 4.0 Conclusion\n",
    "\n",
    "In this notebook, we have succesfully build 10 machine learning models to classify whether not a person believes in man-made climate change based on their novel tweet data. Even though our models struggled with classifying the anti-man-made climate change sentiment class they did a very good job aT classifying the pro-man-made climate change sentiment class. Our best model is the LinearSVC achieving an accuracy score and the weighted F1-score of 0.79 and 0.78 respectively based on the validation dataset.\n",
    "\n",
    "The LinearSVC model achieved an F1-score of 0.75936 on unseen/test data.\n",
    "\n",
    "\n",
    "### 4.1 Business case value\n",
    "\n",
    "The analysis shows generally that the sentiment from the negative tweets arise from a a class of people who believe that climate change and the incidence of global warming is a hoax, or at best overated. Most of these persons defend their ideology with strong resolve and it will therefore be counter productive to try to market environmentally friendly products to them as an effort towards sustainability or to combat the incidence of Climate change. This class are more likely to become customers if other aspects of the product is promoted to them. They are more likely to purchase a product because of quality, fairness in price, use case etc rather than just because it is sustainably produced or good for the environment.\n",
    "\n",
    "Conversely, People from the other end of the spectrum who display positive sentiments towards climate change definitely believe that climate change is an issue. They show some willingness to \"do something\" to play their role in combating this issue. What is yet unclear is if their sentiments would translate to any meaningful influence on their product aquisition habbits. They are definitely a better group to target with promotions that highlights the sustainability and environmenmtal friendliness of the products. To be safe though, this message should be embedded in other qualities of the product so that the environmental friendliness would be the Icing on the cake. It would be great for them if they have a product which is good already but also is sustainably produced. \n",
    "\n",
    "\n",
    "It will be beneficial for companies or organizations to band together and form groups where Some organisations are mentioned in the tweets, many which share the same values and ideals when it comes to protecting the environment, who have a substantial membership and following on social media of individuals who share the same values and ideals. The formation of potential partnerships with these organisations could lead to brand exposure with individuals who in their daily lives make conscious decisions with regards to the products and services they purchase.\n",
    "\n",
    "We recommend that the latter strategy of pursuing partnerships with like minded organisations will yield the best results, in terms of finding a group of potential customers who share the same values and ideals, and would be likely to purchase your products and services.\n",
    "\n",
    "### 4.2 Proposed Improvement\n",
    "Though we have a good performing model, we would recomend using the SuperLearner which is an algorithm that uses cross-validation to estimate the performance of multiple machine learning models, or the same model with different settings. It then creates an optimal weighted average of those models, aka an \"ensemble\", using the test data performance.\n",
    "\n",
    "This essemble is a model that is guaranteed to out perform any of the single models considered but at a price. It is a model that would require a lot of computational resources and would run slowly on a regular machine. If the resources permits, this would be a great option to explore."
   ]
  },
  {
   "cell_type": "markdown",
   "metadata": {},
   "source": [
    "<a id=\"five\"></a>\n",
    "# 5.0 Kaggle Submission"
   ]
  },
  {
   "cell_type": "markdown",
   "metadata": {},
   "source": [
    "For our final model, we build a stacking classifier to combine Logistic Regression, LinearSVC and Random Forest"
   ]
  },
  {
   "cell_type": "code",
   "execution_count": null,
   "metadata": {},
   "outputs": [],
   "source": [
    "estimators = [\n",
    "       ('rf', Pipeline([('Count',CountVectorizer(ngram_range=(1,2))),('classify',RandomForestClassifier())])),\n",
    "         \n",
    "        ('lnsvc', Pipeline([('Count',CountVectorizer(ngram_range=(1,2))),('classify',LinearSVC(C=0.1))])),\n",
    "         \n",
    "        ('MNB',Pipeline([('Count',CountVectorizer()),('classify',MultinomialNB())])),\n",
    "    \n",
    "        ('lr', Pipeline([('Count',CountVectorizer(ngram_range=(1,2))),('classify',LogisticRegression(C=1))]))]"
   ]
  },
  {
   "cell_type": "code",
   "execution_count": null,
   "metadata": {},
   "outputs": [],
   "source": [
    "clf = StackingClassifier(\n",
    "        estimators=estimators\n",
    "    )\n",
    "\n",
    "#fitting the model\n",
    "clf.fit(X, y)"
   ]
  },
  {
   "cell_type": "code",
   "execution_count": null,
   "metadata": {},
   "outputs": [],
   "source": [
    "# End experiment\n",
    "experiment.end()"
   ]
  },
  {
   "cell_type": "code",
   "execution_count": null,
   "metadata": {},
   "outputs": [],
   "source": [
    "# Display results on comet page\n",
    "experiment.display()"
   ]
  },
  {
   "cell_type": "code",
   "execution_count": null,
   "metadata": {},
   "outputs": [],
   "source": [
    "# Creating the unseen set, so that we can post to Kaggle and recieve a score based on the performance\n",
    "x_unseen = test['processed']\n",
    "\n",
    "submission = pd.DataFrame(\n",
    "    {'tweetid': test['tweetid'],\n",
    "     'sentiment': clf.predict(x_unseen)\n",
    "    })\n",
    "\n",
    "# save DataFrame to csv file for submission\n",
    "submission.to_csv(\"Submission_final.csv\", index=False)"
   ]
  },
  {
   "cell_type": "markdown",
   "metadata": {},
   "source": [
    "# References \n",
    "\n",
    "1. [What is climate change](https://climatekids.nasa.gov/climate-change-meaning/)\n",
    "\n",
    "2. [TF-IDF Explained And Python Sklearn Implementation](https://towardsdatascience.com/tf-idf-explained-and-python-sklearn-implementation-b020c5e83275)\n",
    "\n",
    "3. [Decision Trees Explained Easily](https://medium.com/@chiragsehra42/decision-trees-explained-easily-28f23241248)\n",
    "\n",
    "4. [Understanding Random Forests Classifiers in Python](https://www.datacamp.com/community/tutorials/random-forests-classifier-python)\n",
    "5. [What is LightGBM, How to implement it? How to fine tune the parameters?](https://medium.com/@pushkarmandot/https-medium-com-pushkarmandot-what-is-lightgbm-how-to-implement-it-how-to-fine-tune-the-parameters-60347819b7fc)\n",
    "\n",
    "6. [Using word2vec embeddings as featrues](https://www.kaggle.com/vladislavkisin/word2vec-in-supervised-nlp-tasks-shortcut)\n",
    "\n",
    "7. [A hands-on intuitive approach to Deep Learning Methods for Text Data — Word2Vec, GloVe and FastText](https://towardsdatascience.com/understanding-feature-engineering-part-4-deep-learning-methods-for-text-data-96c44370bbfa)\n",
    "\n",
    "8. [How to make SGD Classifier perform as well as Logistic Regression](https://towardsdatascience.com/how-to-make-sgd-classifier-perform-as-well-as-logistic-regression-using-parfit-cc10bca2d3c4)\n",
    "\n",
    "9. [Big data and what it means](https://www.uschamberfoundation.org/bhq/big-data-and-what-it-means)\n",
    "\n",
    "10. [CO2 and the climate curve](https://medialibrary.climatecentral.org/resources/co2-and-the-climate-curve)\n",
    "\n",
    "11. [Effects of Climate change](https://climate.nasa.gov/effects/)\n",
    "\n",
    "12. [Past a point of no return': Reducing greenhouse gas emissions to zero still won't stop global warming, study says](https://www.usatoday.com/story/news/nation/2020/11/12/reducing-greenhouse-gas-emissions-stop-climate-change-study/3761882001/)\n",
    "\n",
    "13. [Part-of-speech (POS) tagging](https://www.geeksforgeeks.org/nlp-part-of-speech-default-tagging/)\n",
    "\n",
    "14. [Contractions in text processing](https://www.geeksforgeeks.org/nlp-expand-contractions-in-text-processing/)\n",
    "\n",
    "15. [Use of Regular expressions](https://www.ibm.com/docs/en/networkmanager/4.2.0?topic=oql-use-regular-expressions)\n",
    "\n",
    "16. [Preprocessing data using tokenization](https://www.oreilly.com/library/view/python-machine-learning/9781786464477/ch06s02.html)\n",
    "\n",
    "[Back to top ↑](#Top)"
   ]
  },
  {
   "cell_type": "markdown",
   "metadata": {},
   "source": [
    "<div align=\"center\" style=\"color: white, background:#000099\">\n",
    "    <b>Copyright &copy 2022 Datafluent Inc.</b>\n",
    "</div>"
   ]
  }
 ],
 "metadata": {
  "kernelspec": {
   "display_name": "Python 3 (ipykernel)",
   "language": "python",
   "name": "python3"
  },
  "language_info": {
   "codemirror_mode": {
    "name": "ipython",
    "version": 3
   },
   "file_extension": ".py",
   "mimetype": "text/x-python",
   "name": "python",
   "nbconvert_exporter": "python",
   "pygments_lexer": "ipython3",
   "version": "3.9.7"
  }
 },
 "nbformat": 4,
 "nbformat_minor": 4
}
